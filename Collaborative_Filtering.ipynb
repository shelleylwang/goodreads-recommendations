{
 "cells": [
  {
   "cell_type": "markdown",
   "id": "72bdf6b5",
   "metadata": {},
   "source": [
    "# Collaborative Filtering Recommender System\n",
    "\n",
    "## Table of Contents\n",
    "1. Loading in User Ratings\n",
    "2. Data Split\n",
    "3. Baseline Model\n",
    "4. SVD Model\n",
    "    - 4.a. SVD Grid Search\n",
    "5. SVD++ Model\n",
    "    - 5.a. SVD++ Grid Search\n",
    "6. NMF Model\n",
    "    - 6.a. NMF Grid Search\n",
    "7. Final Model\n",
    "8. Recommendation Function\n",
    "9. Conclusion\n",
    "\n",
    "*Please note that essential project background regarding the business question and data sources are in the introduction of the data preparation notebook"
   ]
  },
  {
   "cell_type": "code",
   "execution_count": 1,
   "id": "3d77a4e6-6a2d-41d9-a46c-5726e9b9e074",
   "metadata": {},
   "outputs": [],
   "source": [
    "import pandas as pd\n",
    "import pickle\n",
    "import matplotlib.pyplot as plt\n",
    "%matplotlib inline\n",
    "from surprise import Reader, SVD, Dataset, accuracy\n",
    "from surprise.model_selection import GridSearchCV, train_test_split, cross_validate\n",
    "from surprise.prediction_algorithms import SVD, SVDpp, NMF, BaselineOnly, NormalPredictor\n"
   ]
  },
  {
   "cell_type": "markdown",
   "id": "79e80807-a7b9-4c6d-a86f-855742f12502",
   "metadata": {},
   "source": [
    "## 1. Loading in User Ratings"
   ]
  },
  {
   "cell_type": "code",
   "execution_count": 3,
   "id": "73ada108-3c43-4f6d-8a84-205e4f060ee3",
   "metadata": {},
   "outputs": [
    {
     "data": {
      "text/html": [
       "<div>\n",
       "<style scoped>\n",
       "    .dataframe tbody tr th:only-of-type {\n",
       "        vertical-align: middle;\n",
       "    }\n",
       "\n",
       "    .dataframe tbody tr th {\n",
       "        vertical-align: top;\n",
       "    }\n",
       "\n",
       "    .dataframe thead th {\n",
       "        text-align: right;\n",
       "    }\n",
       "</style>\n",
       "<table border=\"1\" class=\"dataframe\">\n",
       "  <thead>\n",
       "    <tr style=\"text-align: right;\">\n",
       "      <th></th>\n",
       "      <th>Unnamed: 0</th>\n",
       "      <th>user_id</th>\n",
       "      <th>rating</th>\n",
       "      <th>book_id</th>\n",
       "      <th>review_text</th>\n",
       "    </tr>\n",
       "  </thead>\n",
       "  <tbody>\n",
       "    <tr>\n",
       "      <th>0</th>\n",
       "      <td>0</td>\n",
       "      <td>8842281e1d1347389f2ab93d60773d4d</td>\n",
       "      <td>5</td>\n",
       "      <td>18245960</td>\n",
       "      <td>This is a special book. It started slow for ab...</td>\n",
       "    </tr>\n",
       "    <tr>\n",
       "      <th>1</th>\n",
       "      <td>1</td>\n",
       "      <td>8842281e1d1347389f2ab93d60773d4d</td>\n",
       "      <td>3</td>\n",
       "      <td>16981</td>\n",
       "      <td>Recommended by Don Katz. Avail for free in Dec...</td>\n",
       "    </tr>\n",
       "    <tr>\n",
       "      <th>2</th>\n",
       "      <td>2</td>\n",
       "      <td>8842281e1d1347389f2ab93d60773d4d</td>\n",
       "      <td>3</td>\n",
       "      <td>28684704</td>\n",
       "      <td>A fun, fast paced science fiction thriller. I ...</td>\n",
       "    </tr>\n",
       "    <tr>\n",
       "      <th>3</th>\n",
       "      <td>3</td>\n",
       "      <td>8842281e1d1347389f2ab93d60773d4d</td>\n",
       "      <td>0</td>\n",
       "      <td>27161156</td>\n",
       "      <td>Recommended reading to understand what is goin...</td>\n",
       "    </tr>\n",
       "    <tr>\n",
       "      <th>4</th>\n",
       "      <td>4</td>\n",
       "      <td>8842281e1d1347389f2ab93d60773d4d</td>\n",
       "      <td>4</td>\n",
       "      <td>25884323</td>\n",
       "      <td>I really enjoyed this book, and there is a lot...</td>\n",
       "    </tr>\n",
       "  </tbody>\n",
       "</table>\n",
       "</div>"
      ],
      "text/plain": [
       "   Unnamed: 0                           user_id  rating   book_id  \\\n",
       "0           0  8842281e1d1347389f2ab93d60773d4d       5  18245960   \n",
       "1           1  8842281e1d1347389f2ab93d60773d4d       3     16981   \n",
       "2           2  8842281e1d1347389f2ab93d60773d4d       3  28684704   \n",
       "3           3  8842281e1d1347389f2ab93d60773d4d       0  27161156   \n",
       "4           4  8842281e1d1347389f2ab93d60773d4d       4  25884323   \n",
       "\n",
       "                                         review_text  \n",
       "0  This is a special book. It started slow for ab...  \n",
       "1  Recommended by Don Katz. Avail for free in Dec...  \n",
       "2  A fun, fast paced science fiction thriller. I ...  \n",
       "3  Recommended reading to understand what is goin...  \n",
       "4  I really enjoyed this book, and there is a lot...  "
      ]
     },
     "execution_count": 3,
     "metadata": {},
     "output_type": "execute_result"
    }
   ],
   "source": [
    "ratings = pd.read_csv('data/gr_reviews_clean.csv')\n",
    "ratings.head()"
   ]
  },
  {
   "cell_type": "code",
   "execution_count": 4,
   "id": "a70dfe7f-c8e1-4148-b775-eb46c32739be",
   "metadata": {},
   "outputs": [],
   "source": [
    "ratings.drop(columns=['Unnamed: 0'], inplace=True)"
   ]
  },
  {
   "cell_type": "code",
   "execution_count": 4,
   "id": "bb3893d1-881b-460a-bb33-24552934e426",
   "metadata": {},
   "outputs": [
    {
     "name": "stdout",
     "output_type": "stream",
     "text": [
      "<class 'pandas.core.frame.DataFrame'>\n",
      "RangeIndex: 1373966 entries, 0 to 1373965\n",
      "Data columns (total 4 columns):\n",
      " #   Column            Non-Null Count    Dtype \n",
      "---  ------            --------------    ----- \n",
      " 0   user_id           1373966 non-null  object\n",
      " 1   rating            1373966 non-null  int64 \n",
      " 2   book_id           1373966 non-null  int64 \n",
      " 3   review_sentences  1373966 non-null  object\n",
      "dtypes: int64(2), object(2)\n",
      "memory usage: 41.9+ MB\n"
     ]
    }
   ],
   "source": [
    "ratings.info()"
   ]
  },
  {
   "cell_type": "markdown",
   "id": "2fa2ec59-9a73-4302-9b52-e54e3159b6bc",
   "metadata": {},
   "source": [
    "## 2. Data Split"
   ]
  },
  {
   "cell_type": "code",
   "execution_count": 5,
   "id": "f6dcc71c-615e-41fb-90c3-47f0bd326ed6",
   "metadata": {},
   "outputs": [],
   "source": [
    "reader = Reader(rating_scale=(1, 5))\n",
    "data = Dataset.load_from_df(ratings[['user_id','book_id','rating']], reader)"
   ]
  },
  {
   "cell_type": "code",
   "execution_count": 6,
   "id": "c0cc10bb-2f9e-4a91-b04f-fc0f1e83bcce",
   "metadata": {},
   "outputs": [],
   "source": [
    "trainset, testset = train_test_split(data, test_size=0.25, random_state=1)"
   ]
  },
  {
   "cell_type": "markdown",
   "id": "ecdab615",
   "metadata": {},
   "source": [
    "## 3. Baseline Model"
   ]
  },
  {
   "cell_type": "markdown",
   "id": "41e8c8f1",
   "metadata": {},
   "source": [
    "Here I'll use root mean squared error (RMSE) as my metric for evaluating the success of my model"
   ]
  },
  {
   "cell_type": "code",
   "execution_count": null,
   "id": "0925ce98",
   "metadata": {},
   "outputs": [],
   "source": [
    "baseline = BaselineOnly()\n",
    "baseline.fit(trainset)\n",
    "\n",
    "# Return test predictions for model fit on trainset\n",
    "predictions = baseline2.test(testset)\n",
    "\n",
    "# Save RMSE score to variable\n",
    "baseline_only = accuracy.rmse(predictions)"
   ]
  },
  {
   "cell_type": "code",
   "execution_count": null,
   "id": "f3208150",
   "metadata": {},
   "outputs": [],
   "source": []
  },
  {
   "cell_type": "code",
   "execution_count": null,
   "id": "571b707c",
   "metadata": {},
   "outputs": [],
   "source": []
  },
  {
   "cell_type": "code",
   "execution_count": null,
   "id": "2f6f3ebd",
   "metadata": {},
   "outputs": [],
   "source": []
  },
  {
   "cell_type": "markdown",
   "id": "e83133a2-18df-4829-b5be-3918481ed216",
   "metadata": {},
   "source": [
    "## 4. SVD Model"
   ]
  },
  {
   "cell_type": "code",
   "execution_count": 14,
   "id": "9f070c20-29f2-4d23-8744-552f058b2f2e",
   "metadata": {},
   "outputs": [
    {
     "name": "stdout",
     "output_type": "stream",
     "text": [
      "Evaluating RMSE of algorithm SVD on 5 split(s).\n",
      "\n",
      "                  Fold 1  Fold 2  Fold 3  Fold 4  Fold 5  Mean    Std     \n",
      "RMSE (testset)    1.1167  1.1109  1.1146  1.1168  1.1105  1.1139  0.0027  \n",
      "Fit time          20.49   20.10   19.84   19.40   18.76   19.72   0.60    \n",
      "Test time         3.78    3.70    2.94    2.63    1.82    2.97    0.73    \n",
      "RMSE: 1.1157\n",
      "{'test_rmse': array([1.11673995, 1.11091317, 1.11459762, 1.11680213, 1.11054797]), 'fit_time': (20.49123787879944, 20.09840202331543, 19.836138010025024, 19.40072011947632, 18.75564980506897), 'test_time': (3.77850604057312, 3.6963131427764893, 2.938753843307495, 2.6298141479492188, 1.8161752223968506)}\n",
      "1.115713059999836\n"
     ]
    }
   ],
   "source": [
    "svd_simple = SVD(random_state=42)\n",
    "\n",
    "# Run 5-fold cross-validation\n",
    "results_svd_simple = cross_validate(svd_simple, data, measures=['RMSE'], cv=5, n_jobs = -1, verbose=True)\n",
    "\n",
    "# Fit model to trainset to get predictions\n",
    "svd_simple.fit(trainset)\n",
    "predictions_svd_simple = svd_simple.test(testset)\n",
    "\n",
    "# Use predictions to get RMSE score, then save RMSE to variable\n",
    "svd_simple_acc = accuracy.rmse(predictions_svd_simple)\n",
    "\n",
    "# Print cross-val and testset results results\n",
    "print(results_svd_simple)\n",
    "print(svd_simple_acc)"
   ]
  },
  {
   "cell_type": "markdown",
   "id": "48a9c2d9-9753-4674-91c9-d894e94e35eb",
   "metadata": {},
   "source": [
    "### 4.a. SVD Grid Search"
   ]
  },
  {
   "cell_type": "code",
   "execution_count": 16,
   "id": "25cc2056-3e61-4b9b-b2d8-d27bf5164bfb",
   "metadata": {},
   "outputs": [
    {
     "name": "stderr",
     "output_type": "stream",
     "text": [
      "[Parallel(n_jobs=-1)]: Using backend LokyBackend with 8 concurrent workers.\n",
      "[Parallel(n_jobs=-1)]: Done   2 tasks      | elapsed:   16.3s\n",
      "[Parallel(n_jobs=-1)]: Done  56 tasks      | elapsed:  2.6min\n",
      "[Parallel(n_jobs=-1)]: Done  96 out of  96 | elapsed:  4.5min finished\n"
     ]
    },
    {
     "ename": "NameError",
     "evalue": "name 'gs1_svd_' is not defined",
     "output_type": "error",
     "traceback": [
      "\u001b[0;31m---------------------------------------------------------------------------\u001b[0m",
      "\u001b[0;31mNameError\u001b[0m                                 Traceback (most recent call last)",
      "Cell \u001b[0;32mIn[16], line 8\u001b[0m\n\u001b[1;32m      6\u001b[0m gs1_svd \u001b[38;5;241m=\u001b[39m GridSearchCV(SVD,param_grid\u001b[38;5;241m=\u001b[39msvd_grid,n_jobs \u001b[38;5;241m=\u001b[39m \u001b[38;5;241m-\u001b[39m\u001b[38;5;241m1\u001b[39m,joblib_verbose\u001b[38;5;241m=\u001b[39m\u001b[38;5;241m5\u001b[39m, cv\u001b[38;5;241m=\u001b[39m\u001b[38;5;241m3\u001b[39m)\n\u001b[1;32m      7\u001b[0m gs1_svd\u001b[38;5;241m.\u001b[39mfit(data)\n\u001b[0;32m----> 8\u001b[0m gs1_svd_\u001b[38;5;241m.\u001b[39mbest_params[\u001b[38;5;124m'\u001b[39m\u001b[38;5;124mrmse\u001b[39m\u001b[38;5;124m'\u001b[39m]\n",
      "\u001b[0;31mNameError\u001b[0m: name 'gs1_svd_' is not defined"
     ]
    }
   ],
   "source": [
    "svd_grid = {'n_factors':[20, 100],\n",
    "            'n_epochs': [5, 10], \n",
    "            'lr_all': [0.002, 0.005],\n",
    "            'reg_all': [0.4, 0.6],\n",
    "           'biased': [True, False]}\n",
    "gs1_svd = GridSearchCV(SVD,param_grid=svd_grid,n_jobs = -1,joblib_verbose=5, cv=3)\n",
    "gs1_svd.fit(data)\n"
   ]
  },
  {
   "cell_type": "code",
   "execution_count": 17,
   "id": "3ef21ecd-6cab-4652-a4e6-dde2f3d32eea",
   "metadata": {},
   "outputs": [
    {
     "data": {
      "text/plain": [
       "{'n_factors': 20,\n",
       " 'n_epochs': 10,\n",
       " 'lr_all': 0.005,\n",
       " 'reg_all': 0.4,\n",
       " 'biased': True}"
      ]
     },
     "execution_count": 17,
     "metadata": {},
     "output_type": "execute_result"
    }
   ],
   "source": [
    "gs1_svd.best_params['rmse']\n"
   ]
  },
  {
   "cell_type": "code",
   "execution_count": 20,
   "id": "ff3602b8-9408-47e1-b49d-11ff3b805ee8",
   "metadata": {},
   "outputs": [
    {
     "name": "stdout",
     "output_type": "stream",
     "text": [
      "RMSE: 1.1056\n",
      "1.1056224350578843\n"
     ]
    }
   ],
   "source": [
    "gs1_svd_best = SVD(n_factors=20, n_epochs=10, lr_all=0.005, reg_all=0.4, biased=True)\n",
    "gs1_svd_best.fit(trainset)\n",
    "predictions = gs1_svd_best.test(testset)\n",
    "print(accuracy.rmse(predictions))"
   ]
  },
  {
   "cell_type": "markdown",
   "id": "e6d9800d-4853-4f6d-af34-0dbc1df160e7",
   "metadata": {},
   "source": [
    "## 5. SVD++ Model"
   ]
  },
  {
   "cell_type": "code",
   "execution_count": null,
   "id": "6d719c0d",
   "metadata": {},
   "outputs": [],
   "source": [
    "svd_plus = SVDpp(random_state=42)\n",
    "results_svd_plus = cross_validate(svd_plus, data, measures=['RMSE'], cv=5, n_jobs = -1, verbose=True)\n",
    "svd_plus.fit(trainset)\n",
    "predictions_svd_plus = svd_plus.test(testset)\n",
    "svd_plus_acc = accuracy.rmse(predictions)\n",
    "print(results)\n",
    "print(svd_plus_acc)"
   ]
  },
  {
   "cell_type": "code",
   "execution_count": null,
   "id": "cf898b28",
   "metadata": {},
   "outputs": [],
   "source": []
  },
  {
   "cell_type": "code",
   "execution_count": null,
   "id": "0a9f31a0",
   "metadata": {},
   "outputs": [],
   "source": []
  },
  {
   "cell_type": "code",
   "execution_count": null,
   "id": "9ec035a2",
   "metadata": {},
   "outputs": [],
   "source": []
  },
  {
   "cell_type": "markdown",
   "id": "f296db64",
   "metadata": {},
   "source": [
    "### 5.a. SVD++ Grid Search"
   ]
  },
  {
   "cell_type": "markdown",
   "id": "0f44ae30",
   "metadata": {},
   "source": [
    "## 6. NMF Model"
   ]
  },
  {
   "cell_type": "markdown",
   "id": "4274fe38",
   "metadata": {},
   "source": [
    "### 6.a. NMF Grid Search"
   ]
  },
  {
   "cell_type": "markdown",
   "id": "4a52f7f1",
   "metadata": {},
   "source": [
    "## 7. Final Model"
   ]
  },
  {
   "cell_type": "markdown",
   "id": "84251b84",
   "metadata": {},
   "source": [
    "## 8. Recommendation Function"
   ]
  },
  {
   "cell_type": "markdown",
   "id": "866a31e1",
   "metadata": {},
   "source": [
    "## 9. Conclusion"
   ]
  }
 ],
 "metadata": {
  "kernelspec": {
   "display_name": "capstone",
   "language": "python",
   "name": "python3"
  },
  "language_info": {
   "codemirror_mode": {
    "name": "ipython",
    "version": 3
   },
   "file_extension": ".py",
   "mimetype": "text/x-python",
   "name": "python",
   "nbconvert_exporter": "python",
   "pygments_lexer": "ipython3",
   "version": "3.11.7"
  }
 },
 "nbformat": 4,
 "nbformat_minor": 5
}
