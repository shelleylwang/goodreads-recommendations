{
 "cells": [
  {
   "cell_type": "markdown",
   "id": "72bdf6b5",
   "metadata": {},
   "source": [
    "# Collaborative Filtering Recommender System\n",
    "\n",
    "## Table of Contents\n",
    "1. Loading in Reviews\n",
    "2. Model-Based Collaborative Filtering\n",
    "    - 2.a. Simple SVD\n",
    "    - 2.b. Grid Searching SVD\n",
    "3. Memory-Based Collaborative Filtering\n",
    "    - 3.a. User-User Similarity"
   ]
  },
  {
   "cell_type": "code",
   "execution_count": 7,
   "id": "3d77a4e6-6a2d-41d9-a46c-5726e9b9e074",
   "metadata": {},
   "outputs": [],
   "source": [
    "import pandas as pd\n",
    "from surprise import Reader, SVD, Dataset, accuracy\n",
    "from surprise.model_selection import GridSearchCV, train_test_split, cross_validate"
   ]
  },
  {
   "cell_type": "markdown",
   "id": "79e80807-a7b9-4c6d-a86f-855742f12502",
   "metadata": {},
   "source": [
    "# Loading in Reviews"
   ]
  },
  {
   "cell_type": "code",
   "execution_count": 1,
   "id": "73ada108-3c43-4f6d-8a84-205e4f060ee3",
   "metadata": {},
   "outputs": [
    {
     "ename": "NameError",
     "evalue": "name 'pd' is not defined",
     "output_type": "error",
     "traceback": [
      "\u001b[0;31m---------------------------------------------------------------------------\u001b[0m",
      "\u001b[0;31mNameError\u001b[0m                                 Traceback (most recent call last)",
      "Cell \u001b[0;32mIn[1], line 1\u001b[0m\n\u001b[0;32m----> 1\u001b[0m reviews_df \u001b[38;5;241m=\u001b[39m pd\u001b[38;5;241m.\u001b[39mread_csv(\u001b[38;5;124m'\u001b[39m\u001b[38;5;124mdata/gr_reviews_clean.csv\u001b[39m\u001b[38;5;124m'\u001b[39m)\n\u001b[1;32m      2\u001b[0m reviews_df\u001b[38;5;241m.\u001b[39mhead()\n",
      "\u001b[0;31mNameError\u001b[0m: name 'pd' is not defined"
     ]
    }
   ],
   "source": [
    "ratings = pd.read_csv('data/gr_reviews_clean.csv')\n",
    "ratings.head()"
   ]
  },
  {
   "cell_type": "code",
   "execution_count": 3,
   "id": "a70dfe7f-c8e1-4148-b775-eb46c32739be",
   "metadata": {},
   "outputs": [],
   "source": [
    "ratings.drop(columns=['Unnamed: 0'], inplace=True)"
   ]
  },
  {
   "cell_type": "code",
   "execution_count": 4,
   "id": "bb3893d1-881b-460a-bb33-24552934e426",
   "metadata": {},
   "outputs": [
    {
     "name": "stdout",
     "output_type": "stream",
     "text": [
      "<class 'pandas.core.frame.DataFrame'>\n",
      "RangeIndex: 1373966 entries, 0 to 1373965\n",
      "Data columns (total 4 columns):\n",
      " #   Column            Non-Null Count    Dtype \n",
      "---  ------            --------------    ----- \n",
      " 0   user_id           1373966 non-null  object\n",
      " 1   rating            1373966 non-null  int64 \n",
      " 2   book_id           1373966 non-null  int64 \n",
      " 3   review_sentences  1373966 non-null  object\n",
      "dtypes: int64(2), object(2)\n",
      "memory usage: 41.9+ MB\n"
     ]
    }
   ],
   "source": [
    "ratings.info()"
   ]
  },
  {
   "cell_type": "markdown",
   "id": "2fa2ec59-9a73-4302-9b52-e54e3159b6bc",
   "metadata": {},
   "source": [
    "# Model-Based CF"
   ]
  },
  {
   "cell_type": "code",
   "execution_count": 10,
   "id": "f6dcc71c-615e-41fb-90c3-47f0bd326ed6",
   "metadata": {},
   "outputs": [],
   "source": [
    "reader = Reader(rating_scale=(1, 5))\n",
    "data = Dataset.load_from_df(ratings[['user_id','book_id','rating']], reader)"
   ]
  },
  {
   "cell_type": "code",
   "execution_count": 12,
   "id": "c0cc10bb-2f9e-4a91-b04f-fc0f1e83bcce",
   "metadata": {},
   "outputs": [],
   "source": [
    "trainset, testset = train_test_split(data, test_size=0.25, random_state=42)"
   ]
  },
  {
   "cell_type": "markdown",
   "id": "e83133a2-18df-4829-b5be-3918481ed216",
   "metadata": {},
   "source": [
    "## Simple SVD"
   ]
  },
  {
   "cell_type": "code",
   "execution_count": 14,
   "id": "9f070c20-29f2-4d23-8744-552f058b2f2e",
   "metadata": {},
   "outputs": [
    {
     "name": "stdout",
     "output_type": "stream",
     "text": [
      "Evaluating RMSE of algorithm SVD on 5 split(s).\n",
      "\n",
      "                  Fold 1  Fold 2  Fold 3  Fold 4  Fold 5  Mean    Std     \n",
      "RMSE (testset)    1.1167  1.1109  1.1146  1.1168  1.1105  1.1139  0.0027  \n",
      "Fit time          20.49   20.10   19.84   19.40   18.76   19.72   0.60    \n",
      "Test time         3.78    3.70    2.94    2.63    1.82    2.97    0.73    \n",
      "RMSE: 1.1157\n",
      "{'test_rmse': array([1.11673995, 1.11091317, 1.11459762, 1.11680213, 1.11054797]), 'fit_time': (20.49123787879944, 20.09840202331543, 19.836138010025024, 19.40072011947632, 18.75564980506897), 'test_time': (3.77850604057312, 3.6963131427764893, 2.938753843307495, 2.6298141479492188, 1.8161752223968506)}\n",
      "1.115713059999836\n"
     ]
    }
   ],
   "source": [
    "svd_simple = SVD(random_state=42)\n",
    "results = cross_validate(svd_simple, data, measures=['RMSE'], cv=5, n_jobs = -1, verbose=True)\n",
    "svd_simple.fit(trainset)\n",
    "predictions = svd_simple.test(testset)\n",
    "svd_simple_acc = accuracy.rmse(predictions)\n",
    "print(results)\n",
    "print(svd_simple_acc)"
   ]
  },
  {
   "cell_type": "markdown",
   "id": "48a9c2d9-9753-4674-91c9-d894e94e35eb",
   "metadata": {},
   "source": [
    "## Grid Searching SVD"
   ]
  },
  {
   "cell_type": "code",
   "execution_count": 16,
   "id": "25cc2056-3e61-4b9b-b2d8-d27bf5164bfb",
   "metadata": {},
   "outputs": [
    {
     "name": "stderr",
     "output_type": "stream",
     "text": [
      "[Parallel(n_jobs=-1)]: Using backend LokyBackend with 8 concurrent workers.\n",
      "[Parallel(n_jobs=-1)]: Done   2 tasks      | elapsed:   16.3s\n",
      "[Parallel(n_jobs=-1)]: Done  56 tasks      | elapsed:  2.6min\n",
      "[Parallel(n_jobs=-1)]: Done  96 out of  96 | elapsed:  4.5min finished\n"
     ]
    },
    {
     "ename": "NameError",
     "evalue": "name 'gs1_svd_' is not defined",
     "output_type": "error",
     "traceback": [
      "\u001b[0;31m---------------------------------------------------------------------------\u001b[0m",
      "\u001b[0;31mNameError\u001b[0m                                 Traceback (most recent call last)",
      "Cell \u001b[0;32mIn[16], line 8\u001b[0m\n\u001b[1;32m      6\u001b[0m gs1_svd \u001b[38;5;241m=\u001b[39m GridSearchCV(SVD,param_grid\u001b[38;5;241m=\u001b[39msvd_grid,n_jobs \u001b[38;5;241m=\u001b[39m \u001b[38;5;241m-\u001b[39m\u001b[38;5;241m1\u001b[39m,joblib_verbose\u001b[38;5;241m=\u001b[39m\u001b[38;5;241m5\u001b[39m, cv\u001b[38;5;241m=\u001b[39m\u001b[38;5;241m3\u001b[39m)\n\u001b[1;32m      7\u001b[0m gs1_svd\u001b[38;5;241m.\u001b[39mfit(data)\n\u001b[0;32m----> 8\u001b[0m gs1_svd_\u001b[38;5;241m.\u001b[39mbest_params[\u001b[38;5;124m'\u001b[39m\u001b[38;5;124mrmse\u001b[39m\u001b[38;5;124m'\u001b[39m]\n",
      "\u001b[0;31mNameError\u001b[0m: name 'gs1_svd_' is not defined"
     ]
    }
   ],
   "source": [
    "svd_grid = {'n_factors':[20, 100],\n",
    "            'n_epochs': [5, 10], \n",
    "            'lr_all': [0.002, 0.005],\n",
    "            'reg_all': [0.4, 0.6],\n",
    "           'biased': [True, False]}\n",
    "gs1_svd = GridSearchCV(SVD,param_grid=svd_grid,n_jobs = -1,joblib_verbose=5, cv=3)\n",
    "gs1_svd.fit(data)\n"
   ]
  },
  {
   "cell_type": "code",
   "execution_count": 17,
   "id": "3ef21ecd-6cab-4652-a4e6-dde2f3d32eea",
   "metadata": {},
   "outputs": [
    {
     "data": {
      "text/plain": [
       "{'n_factors': 20,\n",
       " 'n_epochs': 10,\n",
       " 'lr_all': 0.005,\n",
       " 'reg_all': 0.4,\n",
       " 'biased': True}"
      ]
     },
     "execution_count": 17,
     "metadata": {},
     "output_type": "execute_result"
    }
   ],
   "source": [
    "gs1_svd.best_params['rmse']\n"
   ]
  },
  {
   "cell_type": "code",
   "execution_count": 20,
   "id": "ff3602b8-9408-47e1-b49d-11ff3b805ee8",
   "metadata": {},
   "outputs": [
    {
     "name": "stdout",
     "output_type": "stream",
     "text": [
      "RMSE: 1.1056\n",
      "1.1056224350578843\n"
     ]
    }
   ],
   "source": [
    "gs1_svd_best = SVD(n_factors=20, n_epochs=10, lr_all=0.005, reg_all=0.4, biased=True)\n",
    "gs1_svd_best.fit(trainset)\n",
    "predictions = gs1_svd_best.test(testset)\n",
    "print(accuracy.rmse(predictions))"
   ]
  },
  {
   "cell_type": "markdown",
   "id": "8eb55026-da10-448f-ba03-90005b99e3f0",
   "metadata": {},
   "source": [
    "# Memory-Based CF"
   ]
  },
  {
   "cell_type": "markdown",
   "id": "503b3bf4-32e3-437e-82ba-05e84f0c9e41",
   "metadata": {},
   "source": [
    "## User-User similarity"
   ]
  },
  {
   "cell_type": "code",
   "execution_count": null,
   "id": "27f264d6-6383-4289-a289-d2b77f67873c",
   "metadata": {},
   "outputs": [],
   "source": [
    "sim_cos = {\"name\": \"cosine\", \"user_based\": True}\n"
   ]
  },
  {
   "cell_type": "code",
   "execution_count": null,
   "id": "aceea40e-7cea-4fcd-8c6f-455b7e6dfa3e",
   "metadata": {},
   "outputs": [],
   "source": [
    "# KNN\n",
    "knn_simple = knns.KNNBasic(sim_options=sim_cos)\n",
    "knn_simple.fit(trainset)\n",
    "knn_simple.sim"
   ]
  },
  {
   "cell_type": "code",
   "execution_count": null,
   "id": "e6d9800d-4853-4f6d-af34-0dbc1df160e7",
   "metadata": {},
   "outputs": [],
   "source": [
    "knn_predictions = knn_simple.test(testset)\n",
    "knn_accuracy = accuracy.rmse(knn_predicitons)"
   ]
  }
 ],
 "metadata": {
  "kernelspec": {
   "display_name": "capstone",
   "language": "python",
   "name": "python3"
  },
  "language_info": {
   "codemirror_mode": {
    "name": "ipython",
    "version": 3
   },
   "file_extension": ".py",
   "mimetype": "text/x-python",
   "name": "python",
   "nbconvert_exporter": "python",
   "pygments_lexer": "ipython3",
   "version": "3.11.7"
  }
 },
 "nbformat": 4,
 "nbformat_minor": 5
}
