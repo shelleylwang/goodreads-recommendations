{
 "cells": [
  {
   "cell_type": "markdown",
   "id": "85fdafd0-2d6e-4862-aaad-127535a163a6",
   "metadata": {},
   "source": [
    "# GoodReads Recommendations Data Preparation"
   ]
  },
  {
   "cell_type": "markdown",
   "id": "8b7e2870-c688-4189-9991-532202db1063",
   "metadata": {},
   "source": [
    "## Table of Contents\n",
    "\n",
    "1. Background\n",
    "2. Business Understanding\n",
    "3. Data Understanding\n",
    "4. Data Preparation\n",
    "    - 4.a. Book Metadata\n",
    "    - 4.b. User Review Data\n",
    "    - 4.c. User Reviews by Book\n"
   ]
  },
  {
   "cell_type": "code",
   "execution_count": 29,
   "id": "ca988e8b-a386-4df4-897c-f895c531ad80",
   "metadata": {},
   "outputs": [],
   "source": [
    "# Imports\n",
    "import numpy as np\n",
    "import pandas as pd\n",
    "import matplotlib as plt\n",
    "%matplotlib inline\n",
    "\n",
    "from nltk.corpus import stopwords\n",
    "from nltk.tokenize import regexp_tokenize, RegexpTokenizer\n",
    "from nltk.stem import WordNetLemmatizer"
   ]
  },
  {
   "cell_type": "markdown",
   "id": "b36380bf-1222-4811-bdd6-b123908eb68c",
   "metadata": {},
   "source": [
    "## 1. Background"
   ]
  },
  {
   "cell_type": "code",
   "execution_count": null,
   "id": "c8259963-41ae-4d31-b3a6-0f3c1b4b3077",
   "metadata": {},
   "outputs": [],
   "source": []
  },
  {
   "cell_type": "markdown",
   "id": "b7af8b00-2e2d-4c4e-995a-67d0fd8d388c",
   "metadata": {},
   "source": [
    "## 2. Business Understanding"
   ]
  },
  {
   "cell_type": "code",
   "execution_count": null,
   "id": "7f517c03-d194-46aa-8599-ca3ec4a5fa4e",
   "metadata": {},
   "outputs": [],
   "source": []
  },
  {
   "cell_type": "markdown",
   "id": "689f5d6a-c73f-4c46-b02e-d06016057cc4",
   "metadata": {},
   "source": [
    "## 3. Data Understanding"
   ]
  },
  {
   "cell_type": "code",
   "execution_count": null,
   "id": "12dd6fb5-86ae-41a0-acdd-ebe1cecb2472",
   "metadata": {},
   "outputs": [],
   "source": []
  },
  {
   "cell_type": "markdown",
   "id": "3fc084e7-4d51-4ef8-ba9a-758f80c443cf",
   "metadata": {},
   "source": [
    "## 4. Data Preparation"
   ]
  },
  {
   "cell_type": "markdown",
   "id": "28c46e7c-0770-4f1b-883e-bf04ab14b8cf",
   "metadata": {},
   "source": [
    "Note that the datasets are quite large, so they'll take some time to run. I've included comments with average run time for your information."
   ]
  },
  {
   "cell_type": "markdown",
   "id": "5413c9dd",
   "metadata": {},
   "source": [
    "### 4.a. Book Metadata\n",
    "I need the metadata of the books in a dataset for two reasons: first, In my collaborative filtering, I will be returning recommendations to users. I'd like to give them information about the books they are recommended. Second, content-based filtering requires finding similar books using their traits/qualities/features. Metadata like the number of pages and the book's description will act as those features."
   ]
  },
  {
   "cell_type": "code",
   "execution_count": 7,
   "id": "76bf968f",
   "metadata": {},
   "outputs": [],
   "source": [
    "# This took about 2 mins\n",
    "cols = ['isbn', 'average_rating', 'similar_books', 'description', 'link', 'authors',\n",
    "        'num_pages', 'book_id', 'ratings_count', 'title', 'publication_year']\n",
    "json_reader = pd.read_csv('data/meta_gr.csv', chunksize=10000)"
   ]
  },
  {
   "cell_type": "code",
   "execution_count": 8,
   "id": "eebe52ec",
   "metadata": {},
   "outputs": [],
   "source": [
    "list_df = []\n",
    "for chunk in json_reader:\n",
    "    list_df.append(chunk[cols])"
   ]
  },
  {
   "cell_type": "code",
   "execution_count": 9,
   "id": "79a8db8c",
   "metadata": {},
   "outputs": [],
   "source": [
    "metadata = pd.concat(list_df)"
   ]
  },
  {
   "cell_type": "code",
   "execution_count": 10,
   "id": "20c36fe1",
   "metadata": {},
   "outputs": [
    {
     "data": {
      "text/html": [
       "<div>\n",
       "<style scoped>\n",
       "    .dataframe tbody tr th:only-of-type {\n",
       "        vertical-align: middle;\n",
       "    }\n",
       "\n",
       "    .dataframe tbody tr th {\n",
       "        vertical-align: top;\n",
       "    }\n",
       "\n",
       "    .dataframe thead th {\n",
       "        text-align: right;\n",
       "    }\n",
       "</style>\n",
       "<table border=\"1\" class=\"dataframe\">\n",
       "  <thead>\n",
       "    <tr style=\"text-align: right;\">\n",
       "      <th></th>\n",
       "      <th>isbn</th>\n",
       "      <th>average_rating</th>\n",
       "      <th>similar_books</th>\n",
       "      <th>description</th>\n",
       "      <th>link</th>\n",
       "      <th>authors</th>\n",
       "      <th>num_pages</th>\n",
       "      <th>book_id</th>\n",
       "      <th>ratings_count</th>\n",
       "      <th>title</th>\n",
       "      <th>publication_year</th>\n",
       "    </tr>\n",
       "  </thead>\n",
       "  <tbody>\n",
       "    <tr>\n",
       "      <th>0</th>\n",
       "      <td>0312853122</td>\n",
       "      <td>4.00</td>\n",
       "      <td>[]</td>\n",
       "      <td>NaN</td>\n",
       "      <td>https://www.goodreads.com/book/show/5333265-w-...</td>\n",
       "      <td>[{'author_id': '604031', 'role': ''}]</td>\n",
       "      <td>256.0</td>\n",
       "      <td>5333265</td>\n",
       "      <td>3.0</td>\n",
       "      <td>W.C. Fields: A Life on Film</td>\n",
       "      <td>1984.0</td>\n",
       "    </tr>\n",
       "    <tr>\n",
       "      <th>1</th>\n",
       "      <td>0743509986</td>\n",
       "      <td>3.23</td>\n",
       "      <td>['8709549', '17074050', '28937', '158816', '22...</td>\n",
       "      <td>Anita Diamant's international bestseller \"The ...</td>\n",
       "      <td>https://www.goodreads.com/book/show/1333909.Go...</td>\n",
       "      <td>[{'author_id': '626222', 'role': ''}]</td>\n",
       "      <td>NaN</td>\n",
       "      <td>1333909</td>\n",
       "      <td>10.0</td>\n",
       "      <td>Good Harbor</td>\n",
       "      <td>2001.0</td>\n",
       "    </tr>\n",
       "    <tr>\n",
       "      <th>2</th>\n",
       "      <td>NaN</td>\n",
       "      <td>4.03</td>\n",
       "      <td>['19997', '828466', '1569323', '425389', '1176...</td>\n",
       "      <td>Omnibus book club edition containing the Ladie...</td>\n",
       "      <td>https://www.goodreads.com/book/show/7327624-th...</td>\n",
       "      <td>[{'author_id': '10333', 'role': ''}]</td>\n",
       "      <td>600.0</td>\n",
       "      <td>7327624</td>\n",
       "      <td>140.0</td>\n",
       "      <td>The Unschooled Wizard (Sun Wolf and Starhawk, ...</td>\n",
       "      <td>1987.0</td>\n",
       "    </tr>\n",
       "    <tr>\n",
       "      <th>3</th>\n",
       "      <td>0743294297</td>\n",
       "      <td>3.49</td>\n",
       "      <td>['6604176', '6054190', '2285777', '82641', '75...</td>\n",
       "      <td>Addie Downs and Valerie Adler were eight when ...</td>\n",
       "      <td>https://www.goodreads.com/book/show/6066819-be...</td>\n",
       "      <td>[{'author_id': '9212', 'role': ''}]</td>\n",
       "      <td>368.0</td>\n",
       "      <td>6066819</td>\n",
       "      <td>51184.0</td>\n",
       "      <td>Best Friends Forever</td>\n",
       "      <td>2009.0</td>\n",
       "    </tr>\n",
       "    <tr>\n",
       "      <th>4</th>\n",
       "      <td>0850308712</td>\n",
       "      <td>3.40</td>\n",
       "      <td>[]</td>\n",
       "      <td>NaN</td>\n",
       "      <td>https://www.goodreads.com/book/show/287140.Run...</td>\n",
       "      <td>[{'author_id': '149918', 'role': ''}]</td>\n",
       "      <td>NaN</td>\n",
       "      <td>287140</td>\n",
       "      <td>15.0</td>\n",
       "      <td>Runic Astrology: Starcraft and Timekeeping in ...</td>\n",
       "      <td>NaN</td>\n",
       "    </tr>\n",
       "  </tbody>\n",
       "</table>\n",
       "</div>"
      ],
      "text/plain": [
       "         isbn  average_rating  \\\n",
       "0  0312853122            4.00   \n",
       "1  0743509986            3.23   \n",
       "2         NaN            4.03   \n",
       "3  0743294297            3.49   \n",
       "4  0850308712            3.40   \n",
       "\n",
       "                                       similar_books  \\\n",
       "0                                                 []   \n",
       "1  ['8709549', '17074050', '28937', '158816', '22...   \n",
       "2  ['19997', '828466', '1569323', '425389', '1176...   \n",
       "3  ['6604176', '6054190', '2285777', '82641', '75...   \n",
       "4                                                 []   \n",
       "\n",
       "                                         description  \\\n",
       "0                                                NaN   \n",
       "1  Anita Diamant's international bestseller \"The ...   \n",
       "2  Omnibus book club edition containing the Ladie...   \n",
       "3  Addie Downs and Valerie Adler were eight when ...   \n",
       "4                                                NaN   \n",
       "\n",
       "                                                link  \\\n",
       "0  https://www.goodreads.com/book/show/5333265-w-...   \n",
       "1  https://www.goodreads.com/book/show/1333909.Go...   \n",
       "2  https://www.goodreads.com/book/show/7327624-th...   \n",
       "3  https://www.goodreads.com/book/show/6066819-be...   \n",
       "4  https://www.goodreads.com/book/show/287140.Run...   \n",
       "\n",
       "                                 authors  num_pages  book_id  ratings_count  \\\n",
       "0  [{'author_id': '604031', 'role': ''}]      256.0  5333265            3.0   \n",
       "1  [{'author_id': '626222', 'role': ''}]        NaN  1333909           10.0   \n",
       "2   [{'author_id': '10333', 'role': ''}]      600.0  7327624          140.0   \n",
       "3    [{'author_id': '9212', 'role': ''}]      368.0  6066819        51184.0   \n",
       "4  [{'author_id': '149918', 'role': ''}]        NaN   287140           15.0   \n",
       "\n",
       "                                               title  publication_year  \n",
       "0                        W.C. Fields: A Life on Film            1984.0  \n",
       "1                                        Good Harbor            2001.0  \n",
       "2  The Unschooled Wizard (Sun Wolf and Starhawk, ...            1987.0  \n",
       "3                               Best Friends Forever            2009.0  \n",
       "4  Runic Astrology: Starcraft and Timekeeping in ...               NaN  "
      ]
     },
     "execution_count": 10,
     "metadata": {},
     "output_type": "execute_result"
    }
   ],
   "source": [
    "metadata.head()"
   ]
  },
  {
   "cell_type": "markdown",
   "id": "938034b6",
   "metadata": {},
   "source": [
    "Column-by-column review:\n",
    "- I will keep 'isbn' and 'link' because it can help users find the exact book when they are recommended it\n",
    "- I will keep 'average_rating', 'num_pages', 'ratings_count', 'title', and 'publication_year' to act as features in my content-based recommendation model and as descriptors for returned recommendations\n",
    "- I will keep 'description' to act as a feature in my content-based recommendation model and as a descriiptor for my returned recommendations. It will be NLP processed before entering the content-based model, in the content-based notebook (not here)\n",
    "- I will keep 'similar_books' as a check for my model's recommendations. The user can see the what the dataset has currently determined are books similar to my model's recommendations\n",
    "- I will keep 'authors' as a descriptor for my returned recommendations, but I will need to merge in the authors' names using a **separate authors dataset** below\n",
    "- The 'book_id' column is crucial for connecting this dataset to others\n",
    "\n",
    "Notably missing here is genre information from the books. I'll merge that in using a **separate genres dataset** below"
   ]
  },
  {
   "cell_type": "code",
   "execution_count": null,
   "id": "c2221027",
   "metadata": {},
   "outputs": [],
   "source": [
    "# Loading in genre data"
   ]
  },
  {
   "cell_type": "markdown",
   "id": "f7eafe5a-3f9c-4ca5-b6fa-71a1eab4ced7",
   "metadata": {},
   "source": [
    "### 4.b. User Review Data"
   ]
  },
  {
   "cell_type": "markdown",
   "id": "d929aa29-9b60-45af-862e-e9d550a6817e",
   "metadata": {},
   "source": [
    "Here we want to end up with: rating, user id, book id, the review text for each user per book"
   ]
  },
  {
   "cell_type": "code",
   "execution_count": 11,
   "id": "f87dbf43",
   "metadata": {},
   "outputs": [],
   "source": [
    "# This took 6 mins to load in\n",
    "reviews = pd.read_json('data/goodreads_reviews_spoiler.json.gz', compression='gzip', lines=True)\n"
   ]
  },
  {
   "cell_type": "code",
   "execution_count": 12,
   "id": "0118966b",
   "metadata": {},
   "outputs": [
    {
     "name": "stdout",
     "output_type": "stream",
     "text": [
      "<class 'pandas.core.frame.DataFrame'>\n",
      "RangeIndex: 1378033 entries, 0 to 1378032\n",
      "Data columns (total 7 columns):\n",
      " #   Column            Non-Null Count    Dtype         \n",
      "---  ------            --------------    -----         \n",
      " 0   user_id           1378033 non-null  object        \n",
      " 1   timestamp         1378033 non-null  datetime64[ns]\n",
      " 2   review_sentences  1378033 non-null  object        \n",
      " 3   rating            1378033 non-null  int64         \n",
      " 4   has_spoiler       1378033 non-null  bool          \n",
      " 5   book_id           1378033 non-null  int64         \n",
      " 6   review_id         1378033 non-null  object        \n",
      "dtypes: bool(1), datetime64[ns](1), int64(2), object(3)\n",
      "memory usage: 64.4+ MB\n"
     ]
    }
   ],
   "source": [
    "reviews.info()"
   ]
  },
  {
   "cell_type": "code",
   "execution_count": 14,
   "id": "e806b74c",
   "metadata": {},
   "outputs": [
    {
     "data": {
      "text/html": [
       "<div>\n",
       "<style scoped>\n",
       "    .dataframe tbody tr th:only-of-type {\n",
       "        vertical-align: middle;\n",
       "    }\n",
       "\n",
       "    .dataframe tbody tr th {\n",
       "        vertical-align: top;\n",
       "    }\n",
       "\n",
       "    .dataframe thead th {\n",
       "        text-align: right;\n",
       "    }\n",
       "</style>\n",
       "<table border=\"1\" class=\"dataframe\">\n",
       "  <thead>\n",
       "    <tr style=\"text-align: right;\">\n",
       "      <th></th>\n",
       "      <th>user_id</th>\n",
       "      <th>rating</th>\n",
       "      <th>book_id</th>\n",
       "      <th>review_sentences</th>\n",
       "    </tr>\n",
       "  </thead>\n",
       "  <tbody>\n",
       "    <tr>\n",
       "      <th>0</th>\n",
       "      <td>8842281e1d1347389f2ab93d60773d4d</td>\n",
       "      <td>5</td>\n",
       "      <td>18245960</td>\n",
       "      <td>[[0, This is a special book.], [0, It started ...</td>\n",
       "    </tr>\n",
       "    <tr>\n",
       "      <th>1</th>\n",
       "      <td>8842281e1d1347389f2ab93d60773d4d</td>\n",
       "      <td>3</td>\n",
       "      <td>16981</td>\n",
       "      <td>[[0, Recommended by Don Katz.], [0, Avail for ...</td>\n",
       "    </tr>\n",
       "    <tr>\n",
       "      <th>2</th>\n",
       "      <td>8842281e1d1347389f2ab93d60773d4d</td>\n",
       "      <td>3</td>\n",
       "      <td>28684704</td>\n",
       "      <td>[[0, A fun, fast paced science fiction thrille...</td>\n",
       "    </tr>\n",
       "    <tr>\n",
       "      <th>3</th>\n",
       "      <td>8842281e1d1347389f2ab93d60773d4d</td>\n",
       "      <td>0</td>\n",
       "      <td>27161156</td>\n",
       "      <td>[[0, Recommended reading to understand what is...</td>\n",
       "    </tr>\n",
       "    <tr>\n",
       "      <th>4</th>\n",
       "      <td>8842281e1d1347389f2ab93d60773d4d</td>\n",
       "      <td>4</td>\n",
       "      <td>25884323</td>\n",
       "      <td>[[0, I really enjoyed this book, and there is ...</td>\n",
       "    </tr>\n",
       "  </tbody>\n",
       "</table>\n",
       "</div>"
      ],
      "text/plain": [
       "                            user_id  rating   book_id  \\\n",
       "0  8842281e1d1347389f2ab93d60773d4d       5  18245960   \n",
       "1  8842281e1d1347389f2ab93d60773d4d       3     16981   \n",
       "2  8842281e1d1347389f2ab93d60773d4d       3  28684704   \n",
       "3  8842281e1d1347389f2ab93d60773d4d       0  27161156   \n",
       "4  8842281e1d1347389f2ab93d60773d4d       4  25884323   \n",
       "\n",
       "                                    review_sentences  \n",
       "0  [[0, This is a special book.], [0, It started ...  \n",
       "1  [[0, Recommended by Don Katz.], [0, Avail for ...  \n",
       "2  [[0, A fun, fast paced science fiction thrille...  \n",
       "3  [[0, Recommended reading to understand what is...  \n",
       "4  [[0, I really enjoyed this book, and there is ...  "
      ]
     },
     "execution_count": 14,
     "metadata": {},
     "output_type": "execute_result"
    }
   ],
   "source": [
    "# I only need user_id, review_sentences, rating, and book_id \n",
    "reviews_subset = reviews[['user_id', 'rating', 'book_id', 'review_sentences']]\n",
    "reviews_subset.head()"
   ]
  },
  {
   "cell_type": "code",
   "execution_count": 15,
   "id": "01253bd4",
   "metadata": {},
   "outputs": [
    {
     "data": {
      "text/plain": [
       "[[0, 'A fun, fast paced science fiction thriller.'],\n",
       " [0, \"I read it in 2 nights and couldn't put it down.\"],\n",
       " [0,\n",
       "  'The book is about the quantum theory of many worlds which states that all decisions we make throughout our lives basically create branches, and that each possible path through the decision tree can be thought of as a parallel world.'],\n",
       " [0,\n",
       "  'And in this book, someone invents a way to switch between these worlds.'],\n",
       " [0, 'This was nicely alluded to/foreshadowed in this quote:'],\n",
       " [0, '\"I think about all the choices we\\'ve made that created this moment.'],\n",
       " [0, 'Us sitting here together at this beautiful table.'],\n",
       " [0,\n",
       "  'Then I think of all the possible events that could have stopped this moment from ever happening, and it all feels, I don\\'t know...\" \"What?\"'],\n",
       " [0, '\"So fragile.\"'],\n",
       " [0, 'Now he becomes thoughtful for a moment.'],\n",
       " [0,\n",
       "  'He says finally, \"It\\'s terrifying when you consider that every thought we have, every choice we could possibly make, branches into a new world.\"'],\n",
       " [1, \"This book can't be discussed without spoilers.\"],\n",
       " [1, 'It is a book about choice and regret.'],\n",
       " [1,\n",
       "  'Ever regret not chasing the girl of your dreams so you can focus on your career?'],\n",
       " [1, 'Well Jason2 made that choice and then did regret it.'],\n",
       " [1,\n",
       "  'Clearly the author is trying to tell us to optimize for happiness - to be that second rate physics teacher at a community college if it means you can have a happy life.'],\n",
       " [1,\n",
       "  \"I'm being snarky because while there is certainly something to that, you also have to have meaning in your life that comes from within.\"],\n",
       " [1, 'I thought the book was a little shallow on this dimension.'],\n",
       " [1, 'In fact, all the characters were fairly shallow.'],\n",
       " [1, 'Daniela was the perfect wife.'],\n",
       " [1, 'Ryan the perfect antithesis of Jason.'],\n",
       " [1, 'Amanda the perfect loyal traveling companion, etc.'],\n",
       " [1,\n",
       "  \"This, plus the fact that the book was weak on the science are what led me to take a few stars off - but I'd still read it again if I could go back in time - was a very fun and engaging read.\"],\n",
       " [1,\n",
       "  'If you want to really minimize regret, you have to live your life to avoid it in the first place.'],\n",
       " [1, \"Regret can't be hacked, which is kind of the point of the book.\"],\n",
       " [1, 'My favorite book about regret is Remains of the Day.'],\n",
       " [1,\n",
       "  'I do really like the visualization of the decision tree though - that is a powerful concept.'],\n",
       " [1, '\"Every moment, every breath, contains a choice.'],\n",
       " [1, 'But life is imperfect.'],\n",
       " [1, 'We make the wrong choices.'],\n",
       " [1,\n",
       "  'So we end up living in a state of perpetual regret, and is there anything worse?'],\n",
       " [1, 'I built something that could actually eradicate regret.'],\n",
       " [1, 'Let you find worlds where you made the right choice.\"'],\n",
       " [1, 'Daniela says, \"Life doesn\\'t work that way.'],\n",
       " [1, 'You live with your choices and learn.'],\n",
       " [1, 'You don\\'t cheat the system.\"']]"
      ]
     },
     "execution_count": 15,
     "metadata": {},
     "output_type": "execute_result"
    }
   ],
   "source": [
    "# The review sentences column is a list of each sentence with a number for the index at the beginning\n",
    "reviews_subset['review_sentences'][2]"
   ]
  },
  {
   "cell_type": "code",
   "execution_count": 16,
   "id": "b034b2f6",
   "metadata": {},
   "outputs": [
    {
     "name": "stderr",
     "output_type": "stream",
     "text": [
      "/var/folders/45/9490rsy120vgdzpsxzj4d3wr0000gn/T/ipykernel_29425/378747040.py:17: SettingWithCopyWarning: \n",
      "A value is trying to be set on a copy of a slice from a DataFrame.\n",
      "Try using .loc[row_indexer,col_indexer] = value instead\n",
      "\n",
      "See the caveats in the documentation: https://pandas.pydata.org/pandas-docs/stable/user_guide/indexing.html#returning-a-view-versus-a-copy\n",
      "  reviews_subset['review_sentences'] = reviews_subset['review_sentences'].apply(concatenate_sentences)\n"
     ]
    },
    {
     "data": {
      "text/plain": [
       "'A fun, fast paced science fiction thriller. I read it in 2 nights and couldn\\'t put it down. The book is about the quantum theory of many worlds which states that all decisions we make throughout our lives basically create branches, and that each possible path through the decision tree can be thought of as a parallel world. And in this book, someone invents a way to switch between these worlds. This was nicely alluded to/foreshadowed in this quote: \"I think about all the choices we\\'ve made that created this moment. Us sitting here together at this beautiful table. Then I think of all the possible events that could have stopped this moment from ever happening, and it all feels, I don\\'t know...\" \"What?\" So fragile. Now he becomes thoughtful for a moment. He says finally, \"It\\'s terrifying when you consider that every thought we have, every choice we could possibly make, branches into a new world.\" his book can\\'t be discussed without spoilers. t is a book about choice and regret. ver regret not chasing the girl of your dreams so you can focus on your career? ell Jason2 made that choice and then did regret it. learly the author is trying to tell us to optimize for happiness - to be that second rate physics teacher at a community college if it means you can have a happy life. \\'m being snarky because while there is certainly something to that, you also have to have meaning in your life that comes from within.  thought the book was a little shallow on this dimension. n fact, all the characters were fairly shallow. aniela was the perfect wife. yan the perfect antithesis of Jason. manda the perfect loyal traveling companion, etc. his, plus the fact that the book was weak on the science are what led me to take a few stars off - but I\\'d still read it again if I could go back in time - was a very fun and engaging read. f you want to really minimize regret, you have to live your life to avoid it in the first place. egret can\\'t be hacked, which is kind of the point of the book. y favorite book about regret is Remains of the Day.  do really like the visualization of the decision tree though - that is a powerful concept. Every moment, every breath, contains a choice. ut life is imperfect. e make the wrong choices. o we end up living in a state of perpetual regret, and is there anything worse?  built something that could actually eradicate regret. et you find worlds where you made the right choice.\" aniela says, \"Life doesn\\'t work that way. ou live with your choices and learn. ou don\\'t cheat the system.\"'"
      ]
     },
     "execution_count": 16,
     "metadata": {},
     "output_type": "execute_result"
    }
   ],
   "source": [
    "# Function to concatenate sentences and remove numbers and quotes\n",
    "def concatenate_sentences(sentences):\n",
    "    concatenated_text = ''\n",
    "    for sentence_info in sentences:\n",
    "        # Remove the number at the beginning of each sentence\n",
    "        sentence = sentence_info[1]\n",
    "        if sentence_info[0] == 1:\n",
    "            sentence = sentence[1:]  # Remove the number at the beginning\n",
    "        # Remove quotes around the sentence\n",
    "        if sentence.startswith('\"') and sentence.endswith('\"'):\n",
    "            sentence = sentence[1:-1]\n",
    "        # Append the sentence to the concatenated text\n",
    "        concatenated_text += sentence + ' '\n",
    "    return concatenated_text.strip()  # Remove trailing space\n",
    "\n",
    "# Apply the function to concatenate sentences in the 'review_sentences' column\n",
    "reviews_subset['review_sentences'] = reviews_subset['review_sentences'].apply(concatenate_sentences)\n",
    "reviews_subset['review_sentences'][2]"
   ]
  },
  {
   "cell_type": "code",
   "execution_count": 17,
   "id": "0f935da1",
   "metadata": {},
   "outputs": [
    {
     "data": {
      "text/html": [
       "<div>\n",
       "<style scoped>\n",
       "    .dataframe tbody tr th:only-of-type {\n",
       "        vertical-align: middle;\n",
       "    }\n",
       "\n",
       "    .dataframe tbody tr th {\n",
       "        vertical-align: top;\n",
       "    }\n",
       "\n",
       "    .dataframe thead th {\n",
       "        text-align: right;\n",
       "    }\n",
       "</style>\n",
       "<table border=\"1\" class=\"dataframe\">\n",
       "  <thead>\n",
       "    <tr style=\"text-align: right;\">\n",
       "      <th></th>\n",
       "      <th>user_id</th>\n",
       "      <th>rating</th>\n",
       "      <th>book_id</th>\n",
       "      <th>review_sentences</th>\n",
       "    </tr>\n",
       "  </thead>\n",
       "  <tbody>\n",
       "    <tr>\n",
       "      <th>0</th>\n",
       "      <td>8842281e1d1347389f2ab93d60773d4d</td>\n",
       "      <td>5</td>\n",
       "      <td>18245960</td>\n",
       "      <td>This is a special book. It started slow for ab...</td>\n",
       "    </tr>\n",
       "    <tr>\n",
       "      <th>1</th>\n",
       "      <td>8842281e1d1347389f2ab93d60773d4d</td>\n",
       "      <td>3</td>\n",
       "      <td>16981</td>\n",
       "      <td>Recommended by Don Katz. Avail for free in Dec...</td>\n",
       "    </tr>\n",
       "    <tr>\n",
       "      <th>2</th>\n",
       "      <td>8842281e1d1347389f2ab93d60773d4d</td>\n",
       "      <td>3</td>\n",
       "      <td>28684704</td>\n",
       "      <td>A fun, fast paced science fiction thriller. I ...</td>\n",
       "    </tr>\n",
       "    <tr>\n",
       "      <th>3</th>\n",
       "      <td>8842281e1d1347389f2ab93d60773d4d</td>\n",
       "      <td>0</td>\n",
       "      <td>27161156</td>\n",
       "      <td>Recommended reading to understand what is goin...</td>\n",
       "    </tr>\n",
       "    <tr>\n",
       "      <th>4</th>\n",
       "      <td>8842281e1d1347389f2ab93d60773d4d</td>\n",
       "      <td>4</td>\n",
       "      <td>25884323</td>\n",
       "      <td>I really enjoyed this book, and there is a lot...</td>\n",
       "    </tr>\n",
       "  </tbody>\n",
       "</table>\n",
       "</div>"
      ],
      "text/plain": [
       "                            user_id  rating   book_id  \\\n",
       "0  8842281e1d1347389f2ab93d60773d4d       5  18245960   \n",
       "1  8842281e1d1347389f2ab93d60773d4d       3     16981   \n",
       "2  8842281e1d1347389f2ab93d60773d4d       3  28684704   \n",
       "3  8842281e1d1347389f2ab93d60773d4d       0  27161156   \n",
       "4  8842281e1d1347389f2ab93d60773d4d       4  25884323   \n",
       "\n",
       "                                    review_sentences  \n",
       "0  This is a special book. It started slow for ab...  \n",
       "1  Recommended by Don Katz. Avail for free in Dec...  \n",
       "2  A fun, fast paced science fiction thriller. I ...  \n",
       "3  Recommended reading to understand what is goin...  \n",
       "4  I really enjoyed this book, and there is a lot...  "
      ]
     },
     "execution_count": 17,
     "metadata": {},
     "output_type": "execute_result"
    }
   ],
   "source": [
    "# Checking that review_sentences has been turned into one string\n",
    "reviews_subset.head()"
   ]
  },
  {
   "cell_type": "code",
   "execution_count": 18,
   "id": "aadc27d4",
   "metadata": {},
   "outputs": [
    {
     "data": {
      "text/plain": [
       "user_id\n",
       "aca760854b57ce2ec981df32e46dc96c    1815\n",
       "843a44e2499ba9362b47a089b0b0ce75    1647\n",
       "8e7e5b546a63cb9add8431ee6914cf59    1214\n",
       "667b94d4c7e0b014bb6ab3636999e712    1189\n",
       "c5b70e45e230a166bb00201662495d69    1165\n",
       "                                    ... \n",
       "49e4ac9e5bc4f06039e6120de035738e       1\n",
       "424fa9e638254075ebe6b4cba7310a91       1\n",
       "1857263fbefd251fdac5cd6d468aa6e0       1\n",
       "a0d87052bf1a80b01a9066744fb46e26       1\n",
       "62e5c281998b211e61dab629ba595ef4       1\n",
       "Name: count, Length: 18892, dtype: int64"
      ]
     },
     "execution_count": 18,
     "metadata": {},
     "output_type": "execute_result"
    }
   ],
   "source": [
    "# I want to see how many individual (unique) users there are\n",
    "user_vc = reviews_subset['user_id'].value_counts()\n",
    "user_vc"
   ]
  },
  {
   "cell_type": "code",
   "execution_count": 24,
   "id": "99fa6e45",
   "metadata": {},
   "outputs": [
    {
     "data": {
      "text/plain": [
       "Index(['aca760854b57ce2ec981df32e46dc96c', '843a44e2499ba9362b47a089b0b0ce75',\n",
       "       '8e7e5b546a63cb9add8431ee6914cf59', '667b94d4c7e0b014bb6ab3636999e712',\n",
       "       'c5b70e45e230a166bb00201662495d69', 'aed35dbc626957174ebedf3c555b63d0',\n",
       "       'd7879573928a367edb1d1accf2372810', 'c0e0fda388f87af0deffad748c9c8b67',\n",
       "       '422e76592e2717d5d59465d22d74d47c', 'ccf944f8aca6814c1ec21cad667b7123',\n",
       "       ...\n",
       "       '54b7ab241624ebbc4158968b48cdd680', 'aaf7d634af94f2c65c04511f80ebdf02',\n",
       "       '5fcdf0b98fb5d2dea561f5b93b298f8e', '156503c1d86446fd175c965320cb2129',\n",
       "       'ec4a85bca6494332b52e7257e84b0714', '7ece23a7577ee3377c206ad52a287a47',\n",
       "       'fdfaa1eeddeb558af311d36eaac263d8', 'c7303bb03f7f4a96c89d44f0504d6b0f',\n",
       "       '8593c4720b979d9531b023ef8abf0e6d', '58fe4880f1c5746d7311867093747775'],\n",
       "      dtype='object', name='user_id', length=17268)"
      ]
     },
     "execution_count": 24,
     "metadata": {},
     "output_type": "execute_result"
    }
   ],
   "source": [
    "# I want to see how many users I'd be left with if I only kept users who have written at least 5 reviews\n",
    "users_vc_5 = user_vc[user_vc >=5 ].index\n",
    "users_vc_5"
   ]
  },
  {
   "cell_type": "markdown",
   "id": "043ef758",
   "metadata": {},
   "source": [
    "The length of the users_vc vs. the users_vc_5 has a difference of only 1,624 users, or 8% of users."
   ]
  },
  {
   "cell_type": "code",
   "execution_count": 25,
   "id": "8b7aec0a",
   "metadata": {},
   "outputs": [],
   "source": [
    "# Keeping only users who have written at least 5 reviews\n",
    "reviews_subset_2 = reviews_subset[reviews_subset['user_id'].isin(users_5)]"
   ]
  },
  {
   "cell_type": "code",
   "execution_count": 26,
   "id": "1c296a7e",
   "metadata": {},
   "outputs": [
    {
     "data": {
      "text/plain": [
       "user_id\n",
       "aca760854b57ce2ec981df32e46dc96c    1815\n",
       "843a44e2499ba9362b47a089b0b0ce75    1647\n",
       "8e7e5b546a63cb9add8431ee6914cf59    1214\n",
       "667b94d4c7e0b014bb6ab3636999e712    1189\n",
       "c5b70e45e230a166bb00201662495d69    1165\n",
       "                                    ... \n",
       "f8b91520e708af9a6c2ea8b2739f28bb       5\n",
       "3b206409e55a73ca47284a85d84e0cc1       5\n",
       "fdfaa1eeddeb558af311d36eaac263d8       5\n",
       "d7c4e0e475bf1421b37890416f4cf1b9       5\n",
       "297142f776e6cd363a2bc2f7aaa11c81       5\n",
       "Name: count, Length: 17268, dtype: int64"
      ]
     },
     "execution_count": 26,
     "metadata": {},
     "output_type": "execute_result"
    }
   ],
   "source": [
    "reviews_subset_2['user_id'].value_counts()"
   ]
  },
  {
   "cell_type": "code",
   "execution_count": 27,
   "id": "db710e65",
   "metadata": {},
   "outputs": [
    {
     "data": {
      "text/plain": [
       "book_id\n",
       "11870085    2725\n",
       "11235712    2276\n",
       "2767052     2236\n",
       "7260188     1983\n",
       "16096824    1716\n",
       "            ... \n",
       "385483         8\n",
       "2535743        8\n",
       "16070990       7\n",
       "118349         7\n",
       "16148398       1\n",
       "Name: count, Length: 25475, dtype: int64"
      ]
     },
     "execution_count": 27,
     "metadata": {},
     "output_type": "execute_result"
    }
   ],
   "source": [
    "# We have about 25,500 unique books in the reviews df\n",
    "reviews_subset_2['book_id'].value_counts()"
   ]
  },
  {
   "cell_type": "code",
   "execution_count": 28,
   "id": "b49f9984",
   "metadata": {},
   "outputs": [
    {
     "name": "stdout",
     "output_type": "stream",
     "text": [
      "<class 'pandas.core.frame.DataFrame'>\n",
      "Index: 1373966 entries, 0 to 1378032\n",
      "Data columns (total 4 columns):\n",
      " #   Column            Non-Null Count    Dtype \n",
      "---  ------            --------------    ----- \n",
      " 0   user_id           1373966 non-null  object\n",
      " 1   rating            1373966 non-null  int64 \n",
      " 2   book_id           1373966 non-null  int64 \n",
      " 3   review_sentences  1373966 non-null  object\n",
      "dtypes: int64(2), object(2)\n",
      "memory usage: 52.4+ MB\n"
     ]
    }
   ],
   "source": [
    "reviews_subset_2.info()\n",
    "# It's fine for user_id to be an object b/c the user id has letters in it"
   ]
  },
  {
   "cell_type": "markdown",
   "id": "e663bfac",
   "metadata": {},
   "source": [
    "The review text data will need to be NLP processed before it can be meaningfully used.  Natural Language Processing (NLP) invovles inputs of a certain type: namely, \"tokenized\" text. Ideally, a string of lower-case, individual, normalized, semantic words. \n",
    "\n",
    "Below we initialize a tokenizer, a stopwords list, and a lemmatizer that we use in a custom function. \n",
    "\n",
    "The tokenizer will use a regex pattern to turn all words that are at least 3 letters long into a \"token.\"\n",
    "\n",
    "The stopwords list will be used to remove words like \"is\" the \"the.\" These are filler words that have no semantic meaning but are still the majority of most speech. They are not useful for prediction and they dramatically increase the input that a model must process. Therefore, our function iterates through the tokenized text and removes them.\n",
    "\n",
    "Finally our lemmatizer will get to the meaningful \"base\" or \"lemma\" of a word. So it will take \"change,\" \"changes,\" \"changed,\" and \"changing\" and identify them all as the token \"change\" instead of 4 separate words. This is essentially the \"normalization\" of text."
   ]
  },
  {
   "cell_type": "code",
   "execution_count": 30,
   "id": "8dfd3d98",
   "metadata": {},
   "outputs": [],
   "source": [
    "tokenizer = RegexpTokenizer(r\"(?u)\\w{3,}\") # This pattern finds words that are at least 3 letters long\n",
    "stopwords = stopwords.words(\"english\")\n",
    "lemmatizer = WordNetLemmatizer()\n",
    "\n",
    "def preprocessing(text, tokenizer, stopwords, lemmatizer):\n",
    "    # Make everything in the df[\"Text\"] column into a lower-case string\n",
    "    #text = [\"\".join(item for item in lst).lower() for lst in text]\n",
    "\n",
    "    # Tokenize\n",
    "    tokens = tokenizer.tokenize(text)\n",
    "    \n",
    "    # Remove stopwords\n",
    "    tokens = [token for token in tokens if token not in stopwords]\n",
    "    \n",
    "    # Lemmatize\n",
    "    tokens = [lemmatizer.lemmatize(token) for token in tokens]\n",
    "    \n",
    "    return tokens"
   ]
  },
  {
   "cell_type": "code",
   "execution_count": 31,
   "id": "d89ca594",
   "metadata": {},
   "outputs": [],
   "source": [
    "# Apply the preprocessing function to the 'Text' column\n",
    "reviews_subset_nlp = reviews_subset_2.copy()\n",
    "reviews_subset_nlp['list_tokens'] = reviews_subset_2['review_sentences'].apply(lambda x: preprocessing(x, tokenizer, stopwords, lemmatizer))\n",
    "reviews_subset_nlp.head()"
   ]
  },
  {
   "cell_type": "code",
   "execution_count": null,
   "id": "dea9437b",
   "metadata": {},
   "outputs": [],
   "source": [
    "type(reviews_subset_nlp['list_tokens'][0])"
   ]
  },
  {
   "cell_type": "code",
   "execution_count": null,
   "id": "204f0afa",
   "metadata": {},
   "outputs": [],
   "source": [
    "# # making the tokens list of strings into one big string \n",
    "# result_df['string_tokens'] = result_df['list_tokens'].apply(lambda x: ' '.join(x))\n",
    "# result_df['string_tokens'][0]"
   ]
  },
  {
   "cell_type": "code",
   "execution_count": null,
   "id": "8465a31e",
   "metadata": {},
   "outputs": [],
   "source": [
    "# Saving the review data\n",
    "reviews_subset_nlp.to_csv('data/gr_reviews_clean.csv')\n"
   ]
  },
  {
   "cell_type": "markdown",
   "id": "9bd98cbf",
   "metadata": {},
   "source": [
    "### 4.c. User Reviews by Book\n",
    "Continuation from the user reviews dataset above. We need to join all the reviews for each book into one string. The dataset should have one row per book, with one cell for all that joined review text. This is needed for content-based recommendations, since the review text for each book will act as a feature in the model's search for similar books."
   ]
  },
  {
   "cell_type": "code",
   "execution_count": null,
   "id": "44503466",
   "metadata": {},
   "outputs": [],
   "source": [
    "reviews_per_book = reviews_subset_nlp.groupby(['book_id'], as_index=False).agg({'list_tokens': ' '.join})\n",
    "reviews_per_book.head()"
   ]
  },
  {
   "cell_type": "code",
   "execution_count": null,
   "id": "0f78c393",
   "metadata": {},
   "outputs": [],
   "source": [
    "# Locing into the joined reviews for book_id 1\n",
    "reviews_per_book['list_tokens'][0]"
   ]
  },
  {
   "cell_type": "code",
   "execution_count": null,
   "id": "d642fff3",
   "metadata": {},
   "outputs": [],
   "source": [
    "# Checkingto see that the per-book reviews for book_id 1 match\n",
    "# all the reviews for book_id 1 in the per-user per book gr_reviews_subset2 dataframe\n",
    "reviews_subset_nlp[reviews_subset_nlp['book_id']==1]"
   ]
  },
  {
   "cell_type": "code",
   "execution_count": null,
   "id": "3aa2b092",
   "metadata": {},
   "outputs": [],
   "source": [
    "# Saving off the per-book reviews\n",
    "reviews_per_book.to_csv('data/gr_reviews_per_book.csv')\n"
   ]
  },
  {
   "cell_type": "markdown",
   "id": "1ba9c502-ccf2-465d-ad7d-3cf665e7fd8e",
   "metadata": {},
   "source": [
    "### Genre Data"
   ]
  },
  {
   "cell_type": "markdown",
   "id": "e18f7ef0-c622-425c-be6b-bdad631c8c51",
   "metadata": {},
   "source": [
    "We want to add this genre data to the books metadata"
   ]
  },
  {
   "cell_type": "code",
   "execution_count": null,
   "id": "3d0dc4b8-51bb-406e-9dbe-36e67ddaf6ce",
   "metadata": {},
   "outputs": [],
   "source": [
    "genres.info()"
   ]
  },
  {
   "cell_type": "code",
   "execution_count": null,
   "id": "184ab4f9-e1cd-469f-bdc7-6dcaa74682dc",
   "metadata": {},
   "outputs": [],
   "source": [
    "genres.head()"
   ]
  },
  {
   "cell_type": "markdown",
   "id": "34144a3e-f241-4eee-9501-37b0bef6360e",
   "metadata": {},
   "source": [
    "### Books Meta Data"
   ]
  },
  {
   "cell_type": "markdown",
   "id": "f90379a0-9656-4ec2-b3e5-1da720083b31",
   "metadata": {},
   "source": [
    "We want one row per book"
   ]
  },
  {
   "cell_type": "code",
   "execution_count": null,
   "id": "d97781d5-cfd6-43c2-bcf1-bf6a1efb519c",
   "metadata": {},
   "outputs": [],
   "source": [
    "books.info()"
   ]
  },
  {
   "cell_type": "code",
   "execution_count": null,
   "id": "3b2bbc70-f518-48ee-8eb4-2563bded3c5b",
   "metadata": {},
   "outputs": [],
   "source": [
    "books.head()"
   ]
  },
  {
   "cell_type": "markdown",
   "id": "37266830-3dbe-4be0-a3cf-5c67bef93877",
   "metadata": {},
   "source": []
  }
 ],
 "metadata": {
  "kernelspec": {
   "display_name": "capstone",
   "language": "python",
   "name": "capstone"
  },
  "language_info": {
   "codemirror_mode": {
    "name": "ipython",
    "version": 3
   },
   "file_extension": ".py",
   "mimetype": "text/x-python",
   "name": "python",
   "nbconvert_exporter": "python",
   "pygments_lexer": "ipython3",
   "version": "3.11.7"
  }
 },
 "nbformat": 4,
 "nbformat_minor": 5
}
