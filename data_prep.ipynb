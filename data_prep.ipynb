{
 "cells": [
  {
   "cell_type": "markdown",
   "id": "85fdafd0-2d6e-4862-aaad-127535a163a6",
   "metadata": {},
   "source": [
    "# GoodReads Recommendations Data Preparation"
   ]
  },
  {
   "cell_type": "markdown",
   "id": "8b7e2870-c688-4189-9991-532202db1063",
   "metadata": {},
   "source": [
    "## Table of Contents\n",
    "\n",
    "1. Background\n",
    "2. Business Understanding\n",
    "3. Data Understanding\n",
    "4. Data Preparation\n",
    "    - 4.a. Book Metadata\n",
    "    - 4.b. User Review Data\n",
    "    - 4.c. User Reviews by Book\n"
   ]
  },
  {
   "cell_type": "code",
   "execution_count": 79,
   "id": "ca988e8b-a386-4df4-897c-f895c531ad80",
   "metadata": {},
   "outputs": [],
   "source": [
    "# Imports\n",
    "import numpy as np\n",
    "import pandas as pd\n",
    "import matplotlib as plt\n",
    "%matplotlib inline\n",
    "\n",
    "import re\n",
    "import ast\n",
    "\n",
    "from nltk.corpus import stopwords\n",
    "from nltk.tokenize import regexp_tokenize, RegexpTokenizer\n",
    "from nltk.stem import WordNetLemmatizer"
   ]
  },
  {
   "cell_type": "markdown",
   "id": "b36380bf-1222-4811-bdd6-b123908eb68c",
   "metadata": {},
   "source": [
    "## 1. Background"
   ]
  },
  {
   "cell_type": "code",
   "execution_count": null,
   "id": "c8259963-41ae-4d31-b3a6-0f3c1b4b3077",
   "metadata": {},
   "outputs": [],
   "source": []
  },
  {
   "cell_type": "markdown",
   "id": "b7af8b00-2e2d-4c4e-995a-67d0fd8d388c",
   "metadata": {},
   "source": [
    "## 2. Business Understanding"
   ]
  },
  {
   "cell_type": "code",
   "execution_count": null,
   "id": "7f517c03-d194-46aa-8599-ca3ec4a5fa4e",
   "metadata": {},
   "outputs": [],
   "source": []
  },
  {
   "cell_type": "markdown",
   "id": "689f5d6a-c73f-4c46-b02e-d06016057cc4",
   "metadata": {},
   "source": [
    "## 3. Data Understanding"
   ]
  },
  {
   "cell_type": "code",
   "execution_count": null,
   "id": "12dd6fb5-86ae-41a0-acdd-ebe1cecb2472",
   "metadata": {},
   "outputs": [],
   "source": []
  },
  {
   "cell_type": "markdown",
   "id": "3fc084e7-4d51-4ef8-ba9a-758f80c443cf",
   "metadata": {},
   "source": [
    "## 4. Data Preparation"
   ]
  },
  {
   "cell_type": "markdown",
   "id": "28c46e7c-0770-4f1b-883e-bf04ab14b8cf",
   "metadata": {},
   "source": [
    "Note that the datasets are quite large, so they'll take some time to run. I've included comments with average run time for your information."
   ]
  },
  {
   "cell_type": "markdown",
   "id": "5413c9dd",
   "metadata": {},
   "source": [
    "### 4.a. Book Metadata\n",
    "I need the metadata of the books in a dataset for two reasons: first, In my collaborative filtering, I will be returning recommendations to users. I'd like to give them information about the books they are recommended. Second, content-based filtering requires finding similar books using their traits/qualities/features. Metadata like the number of pages and the book's description will act as those features."
   ]
  },
  {
   "cell_type": "code",
   "execution_count": 2,
   "id": "76bf968f",
   "metadata": {},
   "outputs": [],
   "source": [
    "# This took about 2 mins\n",
    "cols = ['isbn', 'average_rating', 'similar_books', 'description', 'link', 'authors',\n",
    "        'num_pages', 'book_id', 'ratings_count', 'title', 'publication_year']\n",
    "json_reader = pd.read_csv('data/meta_gr.csv', chunksize=10000)"
   ]
  },
  {
   "cell_type": "code",
   "execution_count": 3,
   "id": "eebe52ec",
   "metadata": {},
   "outputs": [],
   "source": [
    "list_df = []\n",
    "for chunk in json_reader:\n",
    "    list_df.append(chunk[cols])"
   ]
  },
  {
   "cell_type": "code",
   "execution_count": 4,
   "id": "79a8db8c",
   "metadata": {},
   "outputs": [],
   "source": [
    "metadata = pd.concat(list_df)"
   ]
  },
  {
   "cell_type": "code",
   "execution_count": 5,
   "id": "20c36fe1",
   "metadata": {},
   "outputs": [
    {
     "data": {
      "text/html": [
       "<div>\n",
       "<style scoped>\n",
       "    .dataframe tbody tr th:only-of-type {\n",
       "        vertical-align: middle;\n",
       "    }\n",
       "\n",
       "    .dataframe tbody tr th {\n",
       "        vertical-align: top;\n",
       "    }\n",
       "\n",
       "    .dataframe thead th {\n",
       "        text-align: right;\n",
       "    }\n",
       "</style>\n",
       "<table border=\"1\" class=\"dataframe\">\n",
       "  <thead>\n",
       "    <tr style=\"text-align: right;\">\n",
       "      <th></th>\n",
       "      <th>isbn</th>\n",
       "      <th>average_rating</th>\n",
       "      <th>similar_books</th>\n",
       "      <th>description</th>\n",
       "      <th>link</th>\n",
       "      <th>authors</th>\n",
       "      <th>num_pages</th>\n",
       "      <th>book_id</th>\n",
       "      <th>ratings_count</th>\n",
       "      <th>title</th>\n",
       "      <th>publication_year</th>\n",
       "    </tr>\n",
       "  </thead>\n",
       "  <tbody>\n",
       "    <tr>\n",
       "      <th>0</th>\n",
       "      <td>0312853122</td>\n",
       "      <td>4.00</td>\n",
       "      <td>[]</td>\n",
       "      <td>NaN</td>\n",
       "      <td>https://www.goodreads.com/book/show/5333265-w-...</td>\n",
       "      <td>[{'author_id': '604031', 'role': ''}]</td>\n",
       "      <td>256.0</td>\n",
       "      <td>5333265</td>\n",
       "      <td>3.0</td>\n",
       "      <td>W.C. Fields: A Life on Film</td>\n",
       "      <td>1984.0</td>\n",
       "    </tr>\n",
       "    <tr>\n",
       "      <th>1</th>\n",
       "      <td>0743509986</td>\n",
       "      <td>3.23</td>\n",
       "      <td>['8709549', '17074050', '28937', '158816', '22...</td>\n",
       "      <td>Anita Diamant's international bestseller \"The ...</td>\n",
       "      <td>https://www.goodreads.com/book/show/1333909.Go...</td>\n",
       "      <td>[{'author_id': '626222', 'role': ''}]</td>\n",
       "      <td>NaN</td>\n",
       "      <td>1333909</td>\n",
       "      <td>10.0</td>\n",
       "      <td>Good Harbor</td>\n",
       "      <td>2001.0</td>\n",
       "    </tr>\n",
       "    <tr>\n",
       "      <th>2</th>\n",
       "      <td>NaN</td>\n",
       "      <td>4.03</td>\n",
       "      <td>['19997', '828466', '1569323', '425389', '1176...</td>\n",
       "      <td>Omnibus book club edition containing the Ladie...</td>\n",
       "      <td>https://www.goodreads.com/book/show/7327624-th...</td>\n",
       "      <td>[{'author_id': '10333', 'role': ''}]</td>\n",
       "      <td>600.0</td>\n",
       "      <td>7327624</td>\n",
       "      <td>140.0</td>\n",
       "      <td>The Unschooled Wizard (Sun Wolf and Starhawk, ...</td>\n",
       "      <td>1987.0</td>\n",
       "    </tr>\n",
       "    <tr>\n",
       "      <th>3</th>\n",
       "      <td>0743294297</td>\n",
       "      <td>3.49</td>\n",
       "      <td>['6604176', '6054190', '2285777', '82641', '75...</td>\n",
       "      <td>Addie Downs and Valerie Adler were eight when ...</td>\n",
       "      <td>https://www.goodreads.com/book/show/6066819-be...</td>\n",
       "      <td>[{'author_id': '9212', 'role': ''}]</td>\n",
       "      <td>368.0</td>\n",
       "      <td>6066819</td>\n",
       "      <td>51184.0</td>\n",
       "      <td>Best Friends Forever</td>\n",
       "      <td>2009.0</td>\n",
       "    </tr>\n",
       "    <tr>\n",
       "      <th>4</th>\n",
       "      <td>0850308712</td>\n",
       "      <td>3.40</td>\n",
       "      <td>[]</td>\n",
       "      <td>NaN</td>\n",
       "      <td>https://www.goodreads.com/book/show/287140.Run...</td>\n",
       "      <td>[{'author_id': '149918', 'role': ''}]</td>\n",
       "      <td>NaN</td>\n",
       "      <td>287140</td>\n",
       "      <td>15.0</td>\n",
       "      <td>Runic Astrology: Starcraft and Timekeeping in ...</td>\n",
       "      <td>NaN</td>\n",
       "    </tr>\n",
       "  </tbody>\n",
       "</table>\n",
       "</div>"
      ],
      "text/plain": [
       "         isbn  average_rating  \\\n",
       "0  0312853122            4.00   \n",
       "1  0743509986            3.23   \n",
       "2         NaN            4.03   \n",
       "3  0743294297            3.49   \n",
       "4  0850308712            3.40   \n",
       "\n",
       "                                       similar_books  \\\n",
       "0                                                 []   \n",
       "1  ['8709549', '17074050', '28937', '158816', '22...   \n",
       "2  ['19997', '828466', '1569323', '425389', '1176...   \n",
       "3  ['6604176', '6054190', '2285777', '82641', '75...   \n",
       "4                                                 []   \n",
       "\n",
       "                                         description  \\\n",
       "0                                                NaN   \n",
       "1  Anita Diamant's international bestseller \"The ...   \n",
       "2  Omnibus book club edition containing the Ladie...   \n",
       "3  Addie Downs and Valerie Adler were eight when ...   \n",
       "4                                                NaN   \n",
       "\n",
       "                                                link  \\\n",
       "0  https://www.goodreads.com/book/show/5333265-w-...   \n",
       "1  https://www.goodreads.com/book/show/1333909.Go...   \n",
       "2  https://www.goodreads.com/book/show/7327624-th...   \n",
       "3  https://www.goodreads.com/book/show/6066819-be...   \n",
       "4  https://www.goodreads.com/book/show/287140.Run...   \n",
       "\n",
       "                                 authors  num_pages  book_id  ratings_count  \\\n",
       "0  [{'author_id': '604031', 'role': ''}]      256.0  5333265            3.0   \n",
       "1  [{'author_id': '626222', 'role': ''}]        NaN  1333909           10.0   \n",
       "2   [{'author_id': '10333', 'role': ''}]      600.0  7327624          140.0   \n",
       "3    [{'author_id': '9212', 'role': ''}]      368.0  6066819        51184.0   \n",
       "4  [{'author_id': '149918', 'role': ''}]        NaN   287140           15.0   \n",
       "\n",
       "                                               title  publication_year  \n",
       "0                        W.C. Fields: A Life on Film            1984.0  \n",
       "1                                        Good Harbor            2001.0  \n",
       "2  The Unschooled Wizard (Sun Wolf and Starhawk, ...            1987.0  \n",
       "3                               Best Friends Forever            2009.0  \n",
       "4  Runic Astrology: Starcraft and Timekeeping in ...               NaN  "
      ]
     },
     "execution_count": 5,
     "metadata": {},
     "output_type": "execute_result"
    }
   ],
   "source": [
    "metadata.head()"
   ]
  },
  {
   "cell_type": "code",
   "execution_count": 18,
   "id": "e652b462",
   "metadata": {},
   "outputs": [
    {
     "name": "stdout",
     "output_type": "stream",
     "text": [
      "<class 'pandas.core.frame.DataFrame'>\n",
      "RangeIndex: 2360655 entries, 0 to 2360654\n",
      "Data columns (total 11 columns):\n",
      " #   Column            Dtype  \n",
      "---  ------            -----  \n",
      " 0   isbn              object \n",
      " 1   average_rating    float64\n",
      " 2   similar_books     object \n",
      " 3   description       object \n",
      " 4   link              object \n",
      " 5   authors           object \n",
      " 6   num_pages         float64\n",
      " 7   book_id           int64  \n",
      " 8   ratings_count     float64\n",
      " 9   title             object \n",
      " 10  publication_year  float64\n",
      "dtypes: float64(4), int64(1), object(6)\n",
      "memory usage: 198.1+ MB\n"
     ]
    }
   ],
   "source": [
    "metadata.info()"
   ]
  },
  {
   "cell_type": "code",
   "execution_count": null,
   "id": "543ec04a",
   "metadata": {},
   "outputs": [],
   "source": [
    "metadata.isna().sum()"
   ]
  },
  {
   "cell_type": "markdown",
   "id": "938034b6",
   "metadata": {},
   "source": [
    "Column-by-column review:\n",
    "- I will keep 'isbn' and 'link' because it can help users find the exact book when they are recommended it\n",
    "- I will keep 'average_rating', 'num_pages', 'ratings_count', 'title', and 'publication_year' to act as features in my content-based recommendation model and as descriptors for returned recommendations\n",
    "- I will keep 'description' to act as a feature in my content-based recommendation model and as a descriiptor for my returned recommendations. It will be NLP processed before entering the content-based model, in the content-based notebook (not here)\n",
    "- I will keep 'similar_books' as a check for my model's recommendations. The user can see the what the dataset has currently determined are books similar to my model's recommendations\n",
    "- I will keep 'authors' as a descriptor for my returned recommendations, but I will need to merge in the authors' names using a **separate authors dataset** below\n",
    "- The 'book_id' column is crucial for connecting this dataset to others\n",
    "\n",
    "Notably missing here is genre information from the books. I'll merge that in using a **separate genres dataset** below"
   ]
  },
  {
   "cell_type": "code",
   "execution_count": 3,
   "id": "c2221027",
   "metadata": {},
   "outputs": [
    {
     "data": {
      "text/html": [
       "<div>\n",
       "<style scoped>\n",
       "    .dataframe tbody tr th:only-of-type {\n",
       "        vertical-align: middle;\n",
       "    }\n",
       "\n",
       "    .dataframe tbody tr th {\n",
       "        vertical-align: top;\n",
       "    }\n",
       "\n",
       "    .dataframe thead th {\n",
       "        text-align: right;\n",
       "    }\n",
       "</style>\n",
       "<table border=\"1\" class=\"dataframe\">\n",
       "  <thead>\n",
       "    <tr style=\"text-align: right;\">\n",
       "      <th></th>\n",
       "      <th>book_id</th>\n",
       "      <th>genres</th>\n",
       "    </tr>\n",
       "  </thead>\n",
       "  <tbody>\n",
       "    <tr>\n",
       "      <th>0</th>\n",
       "      <td>5333265</td>\n",
       "      <td>{'history, historical fiction, biography': 1}</td>\n",
       "    </tr>\n",
       "    <tr>\n",
       "      <th>1</th>\n",
       "      <td>1333909</td>\n",
       "      <td>{'fiction': 219, 'history, historical fiction,...</td>\n",
       "    </tr>\n",
       "    <tr>\n",
       "      <th>2</th>\n",
       "      <td>7327624</td>\n",
       "      <td>{'fantasy, paranormal': 31, 'fiction': 8, 'mys...</td>\n",
       "    </tr>\n",
       "    <tr>\n",
       "      <th>3</th>\n",
       "      <td>6066819</td>\n",
       "      <td>{'fiction': 555, 'romance': 23, 'mystery, thri...</td>\n",
       "    </tr>\n",
       "    <tr>\n",
       "      <th>4</th>\n",
       "      <td>287140</td>\n",
       "      <td>{'non-fiction': 3}</td>\n",
       "    </tr>\n",
       "  </tbody>\n",
       "</table>\n",
       "</div>"
      ],
      "text/plain": [
       "   book_id                                             genres\n",
       "0  5333265      {'history, historical fiction, biography': 1}\n",
       "1  1333909  {'fiction': 219, 'history, historical fiction,...\n",
       "2  7327624  {'fantasy, paranormal': 31, 'fiction': 8, 'mys...\n",
       "3  6066819  {'fiction': 555, 'romance': 23, 'mystery, thri...\n",
       "4   287140                                 {'non-fiction': 3}"
      ]
     },
     "execution_count": 3,
     "metadata": {},
     "output_type": "execute_result"
    }
   ],
   "source": [
    "# Loading in genre data\n",
    "# \n",
    "import pandas as pd\n",
    "genres = pd.read_json('data/goodreads_book_genres_initial.json', lines=True)\n",
    "genres.head()"
   ]
  },
  {
   "cell_type": "code",
   "execution_count": 5,
   "metadata": {},
   "outputs": [
    {
     "name": "stdout",
     "output_type": "stream",
     "text": [
      "<class 'pandas.core.frame.DataFrame'>\n",
      "RangeIndex: 2360655 entries, 0 to 2360654\n",
      "Data columns (total 2 columns):\n",
      " #   Column   Dtype \n",
      "---  ------   ----- \n",
      " 0   book_id  int64 \n",
      " 1   genres   object\n",
      "dtypes: int64(1), object(1)\n",
      "memory usage: 36.0+ MB\n"
     ]
    }
   ],
   "source": [
    "genres.info()"
   ]
  },
  {
   "cell_type": "code",
   "execution_count": 16,
   "id": "ab854bac",
   "metadata": {},
   "outputs": [
    {
     "data": {
      "text/plain": [
       "{'non-fiction': 3}"
      ]
     },
     "execution_count": 16,
     "metadata": {},
     "output_type": "execute_result"
    }
   ],
   "source": [
    "genres['genres'][4]"
   ]
  },
  {
   "cell_type": "code",
   "execution_count": 10,
   "id": "cb2cf019",
   "metadata": {},
   "outputs": [
    {
     "data": {
      "text/plain": [
       "{'fiction': 555, 'romance': 23, 'mystery, thriller, crime': 10}"
      ]
     },
     "execution_count": 10,
     "metadata": {},
     "output_type": "execute_result"
    }
   ],
   "source": [
    "sorted(dict1, key=dict1.get)\n",
    "first_value = next(iter(my_dict.values()))"
   ]
  },
  {
   "cell_type": "code",
   "execution_count": 54,
   "id": "d7e18501",
   "metadata": {},
   "outputs": [
    {
     "data": {
      "text/html": [
       "<div>\n",
       "<style scoped>\n",
       "    .dataframe tbody tr th:only-of-type {\n",
       "        vertical-align: middle;\n",
       "    }\n",
       "\n",
       "    .dataframe tbody tr th {\n",
       "        vertical-align: top;\n",
       "    }\n",
       "\n",
       "    .dataframe thead th {\n",
       "        text-align: right;\n",
       "    }\n",
       "</style>\n",
       "<table border=\"1\" class=\"dataframe\">\n",
       "  <thead>\n",
       "    <tr style=\"text-align: right;\">\n",
       "      <th></th>\n",
       "      <th>book_id</th>\n",
       "      <th>genres</th>\n",
       "      <th>top_genre</th>\n",
       "    </tr>\n",
       "  </thead>\n",
       "  <tbody>\n",
       "    <tr>\n",
       "      <th>0</th>\n",
       "      <td>5333265</td>\n",
       "      <td>{''history': 1, 'historical fiction': 1, 'biog...</td>\n",
       "      <td>None</td>\n",
       "    </tr>\n",
       "    <tr>\n",
       "      <th>1</th>\n",
       "      <td>1333909</td>\n",
       "      <td>{''fiction': 219': 1, ''history': 1, 'historic...</td>\n",
       "      <td>None</td>\n",
       "    </tr>\n",
       "    <tr>\n",
       "      <th>2</th>\n",
       "      <td>7327624</td>\n",
       "      <td>{''fantasy': 1, 'paranormal': 31': 1, ''fictio...</td>\n",
       "      <td>None</td>\n",
       "    </tr>\n",
       "    <tr>\n",
       "      <th>3</th>\n",
       "      <td>6066819</td>\n",
       "      <td>{''fiction': 555': 1, ''romance': 23': 1, ''my...</td>\n",
       "      <td>None</td>\n",
       "    </tr>\n",
       "    <tr>\n",
       "      <th>4</th>\n",
       "      <td>287140</td>\n",
       "      <td>{''non-fiction': 3': 1}</td>\n",
       "      <td>None</td>\n",
       "    </tr>\n",
       "  </tbody>\n",
       "</table>\n",
       "</div>"
      ],
      "text/plain": [
       "   book_id                                             genres top_genre\n",
       "0  5333265  {''history': 1, 'historical fiction': 1, 'biog...      None\n",
       "1  1333909  {''fiction': 219': 1, ''history': 1, 'historic...      None\n",
       "2  7327624  {''fantasy': 1, 'paranormal': 31': 1, ''fictio...      None\n",
       "3  6066819  {''fiction': 555': 1, ''romance': 23': 1, ''my...      None\n",
       "4   287140                            {''non-fiction': 3': 1}      None"
      ]
     },
     "execution_count": 54,
     "metadata": {},
     "output_type": "execute_result"
    }
   ],
   "source": [
    "\n",
    "# # Define function to extract top genre\n",
    "# def extract_top_genre(genre_string):\n",
    "#     # Remove curly braces and split into individual genre-number pairs\n",
    "#     genre_pairs = [pair.strip() for pair in genre_string.strip('{}').split(',')]\n",
    "    \n",
    "#     # Initialize variables to track top genre and its associated number\n",
    "#     top_genre = ''\n",
    "#     max_count = 0\n",
    "    \n",
    "#     # Iterate over genre-number pairs\n",
    "#     for pair in genre_pairs:\n",
    "#         genre, count = pair.rsplit(':', 1)\n",
    "#         count = int(count)\n",
    "#         # Check if count is higher than current max_count\n",
    "#         if count > max_count:\n",
    "#             max_count = count\n",
    "#             top_genre = genre.strip(\"'\")\n",
    "    \n",
    "#     return top_genre\n",
    "\n",
    "# # Apply the function to each row in the 'genres' column and store the result in a new column 'top_genre'\n",
    "# genres['top_genre'] = genres['genres'].apply(extract_top_genre)\n",
    "\n",
    "# genres.head()\n"
   ]
  },
  {
   "cell_type": "code",
   "execution_count": 7,
   "id": "cb8ee129",
   "metadata": {},
   "outputs": [
    {
     "data": {
      "text/html": [
       "<div>\n",
       "<style scoped>\n",
       "    .dataframe tbody tr th:only-of-type {\n",
       "        vertical-align: middle;\n",
       "    }\n",
       "\n",
       "    .dataframe tbody tr th {\n",
       "        vertical-align: top;\n",
       "    }\n",
       "\n",
       "    .dataframe thead th {\n",
       "        text-align: right;\n",
       "    }\n",
       "</style>\n",
       "<table border=\"1\" class=\"dataframe\">\n",
       "  <thead>\n",
       "    <tr style=\"text-align: right;\">\n",
       "      <th></th>\n",
       "      <th>average_rating</th>\n",
       "      <th>author_id</th>\n",
       "      <th>text_reviews_count</th>\n",
       "      <th>name</th>\n",
       "      <th>ratings_count</th>\n",
       "    </tr>\n",
       "  </thead>\n",
       "  <tbody>\n",
       "    <tr>\n",
       "      <th>0</th>\n",
       "      <td>3.98</td>\n",
       "      <td>604031</td>\n",
       "      <td>7</td>\n",
       "      <td>Ronald J. Fields</td>\n",
       "      <td>49</td>\n",
       "    </tr>\n",
       "    <tr>\n",
       "      <th>1</th>\n",
       "      <td>4.08</td>\n",
       "      <td>626222</td>\n",
       "      <td>28716</td>\n",
       "      <td>Anita Diamant</td>\n",
       "      <td>546796</td>\n",
       "    </tr>\n",
       "    <tr>\n",
       "      <th>2</th>\n",
       "      <td>3.92</td>\n",
       "      <td>10333</td>\n",
       "      <td>5075</td>\n",
       "      <td>Barbara Hambly</td>\n",
       "      <td>122118</td>\n",
       "    </tr>\n",
       "    <tr>\n",
       "      <th>3</th>\n",
       "      <td>3.68</td>\n",
       "      <td>9212</td>\n",
       "      <td>36262</td>\n",
       "      <td>Jennifer Weiner</td>\n",
       "      <td>888522</td>\n",
       "    </tr>\n",
       "    <tr>\n",
       "      <th>4</th>\n",
       "      <td>3.82</td>\n",
       "      <td>149918</td>\n",
       "      <td>96</td>\n",
       "      <td>Nigel Pennick</td>\n",
       "      <td>1740</td>\n",
       "    </tr>\n",
       "  </tbody>\n",
       "</table>\n",
       "</div>"
      ],
      "text/plain": [
       "   average_rating  author_id  text_reviews_count              name  \\\n",
       "0            3.98     604031                   7  Ronald J. Fields   \n",
       "1            4.08     626222               28716     Anita Diamant   \n",
       "2            3.92      10333                5075    Barbara Hambly   \n",
       "3            3.68       9212               36262   Jennifer Weiner   \n",
       "4            3.82     149918                  96     Nigel Pennick   \n",
       "\n",
       "   ratings_count  \n",
       "0             49  \n",
       "1         546796  \n",
       "2         122118  \n",
       "3         888522  \n",
       "4           1740  "
      ]
     },
     "execution_count": 7,
     "metadata": {},
     "output_type": "execute_result"
    }
   ],
   "source": [
    "# Loading in author data\n",
    "authors = pd.read_json('data/goodreads_book_authors.json', lines=True)\n",
    "authors.head()"
   ]
  },
  {
   "cell_type": "code",
   "execution_count": 8,
   "id": "f83b998f",
   "metadata": {},
   "outputs": [
    {
     "data": {
      "text/html": [
       "<div>\n",
       "<style scoped>\n",
       "    .dataframe tbody tr th:only-of-type {\n",
       "        vertical-align: middle;\n",
       "    }\n",
       "\n",
       "    .dataframe tbody tr th {\n",
       "        vertical-align: top;\n",
       "    }\n",
       "\n",
       "    .dataframe thead th {\n",
       "        text-align: right;\n",
       "    }\n",
       "</style>\n",
       "<table border=\"1\" class=\"dataframe\">\n",
       "  <thead>\n",
       "    <tr style=\"text-align: right;\">\n",
       "      <th></th>\n",
       "      <th>author_id</th>\n",
       "      <th>name</th>\n",
       "    </tr>\n",
       "  </thead>\n",
       "  <tbody>\n",
       "    <tr>\n",
       "      <th>0</th>\n",
       "      <td>604031</td>\n",
       "      <td>Ronald J. Fields</td>\n",
       "    </tr>\n",
       "    <tr>\n",
       "      <th>1</th>\n",
       "      <td>626222</td>\n",
       "      <td>Anita Diamant</td>\n",
       "    </tr>\n",
       "    <tr>\n",
       "      <th>2</th>\n",
       "      <td>10333</td>\n",
       "      <td>Barbara Hambly</td>\n",
       "    </tr>\n",
       "    <tr>\n",
       "      <th>3</th>\n",
       "      <td>9212</td>\n",
       "      <td>Jennifer Weiner</td>\n",
       "    </tr>\n",
       "    <tr>\n",
       "      <th>4</th>\n",
       "      <td>149918</td>\n",
       "      <td>Nigel Pennick</td>\n",
       "    </tr>\n",
       "  </tbody>\n",
       "</table>\n",
       "</div>"
      ],
      "text/plain": [
       "   author_id              name\n",
       "0     604031  Ronald J. Fields\n",
       "1     626222     Anita Diamant\n",
       "2      10333    Barbara Hambly\n",
       "3       9212   Jennifer Weiner\n",
       "4     149918     Nigel Pennick"
      ]
     },
     "execution_count": 8,
     "metadata": {},
     "output_type": "execute_result"
    }
   ],
   "source": [
    "authors = authors.drop(columns=['average_rating', 'text_reviews_count', 'ratings_count'])\n",
    "authors.head()"
   ]
  },
  {
   "cell_type": "code",
   "execution_count": 21,
   "id": "a50f6f3a",
   "metadata": {},
   "outputs": [
    {
     "name": "stdout",
     "output_type": "stream",
     "text": [
      "<class 'pandas.core.frame.DataFrame'>\n",
      "RangeIndex: 829529 entries, 0 to 829528\n",
      "Data columns (total 2 columns):\n",
      " #   Column     Non-Null Count   Dtype \n",
      "---  ------     --------------   ----- \n",
      " 0   author_id  829529 non-null  int64 \n",
      " 1   name       829529 non-null  object\n",
      "dtypes: int64(1), object(1)\n",
      "memory usage: 12.7+ MB\n"
     ]
    }
   ],
   "source": [
    "authors.info()"
   ]
  },
  {
   "cell_type": "code",
   "execution_count": 13,
   "id": "d330e8c4",
   "metadata": {},
   "outputs": [
    {
     "data": {
      "text/plain": [
       "\"[{'author_id': '7083555', 'role': ''}]\""
      ]
     },
     "execution_count": 13,
     "metadata": {},
     "output_type": "execute_result"
    }
   ],
   "source": [
    "metadata['authors'][88]"
   ]
  },
  {
   "cell_type": "code",
   "execution_count": 20,
   "id": "97109d30",
   "metadata": {},
   "outputs": [
    {
     "data": {
      "text/html": [
       "<div>\n",
       "<style scoped>\n",
       "    .dataframe tbody tr th:only-of-type {\n",
       "        vertical-align: middle;\n",
       "    }\n",
       "\n",
       "    .dataframe tbody tr th {\n",
       "        vertical-align: top;\n",
       "    }\n",
       "\n",
       "    .dataframe thead th {\n",
       "        text-align: right;\n",
       "    }\n",
       "</style>\n",
       "<table border=\"1\" class=\"dataframe\">\n",
       "  <thead>\n",
       "    <tr style=\"text-align: right;\">\n",
       "      <th></th>\n",
       "      <th>isbn</th>\n",
       "      <th>average_rating</th>\n",
       "      <th>similar_books</th>\n",
       "      <th>description</th>\n",
       "      <th>link</th>\n",
       "      <th>authors</th>\n",
       "      <th>num_pages</th>\n",
       "      <th>book_id</th>\n",
       "      <th>ratings_count</th>\n",
       "      <th>title</th>\n",
       "      <th>publication_year</th>\n",
       "      <th>author_id</th>\n",
       "    </tr>\n",
       "  </thead>\n",
       "  <tbody>\n",
       "    <tr>\n",
       "      <th>0</th>\n",
       "      <td>0312853122</td>\n",
       "      <td>4.00</td>\n",
       "      <td>[]</td>\n",
       "      <td>NaN</td>\n",
       "      <td>https://www.goodreads.com/book/show/5333265-w-...</td>\n",
       "      <td>[{'author_id': '604031', 'role': ''}]</td>\n",
       "      <td>256.0</td>\n",
       "      <td>5333265</td>\n",
       "      <td>3.0</td>\n",
       "      <td>W.C. Fields: A Life on Film</td>\n",
       "      <td>1984.0</td>\n",
       "      <td>604031.0</td>\n",
       "    </tr>\n",
       "    <tr>\n",
       "      <th>1</th>\n",
       "      <td>0743509986</td>\n",
       "      <td>3.23</td>\n",
       "      <td>['8709549', '17074050', '28937', '158816', '22...</td>\n",
       "      <td>Anita Diamant's international bestseller \"The ...</td>\n",
       "      <td>https://www.goodreads.com/book/show/1333909.Go...</td>\n",
       "      <td>[{'author_id': '626222', 'role': ''}]</td>\n",
       "      <td>NaN</td>\n",
       "      <td>1333909</td>\n",
       "      <td>10.0</td>\n",
       "      <td>Good Harbor</td>\n",
       "      <td>2001.0</td>\n",
       "      <td>626222.0</td>\n",
       "    </tr>\n",
       "    <tr>\n",
       "      <th>2</th>\n",
       "      <td>NaN</td>\n",
       "      <td>4.03</td>\n",
       "      <td>['19997', '828466', '1569323', '425389', '1176...</td>\n",
       "      <td>Omnibus book club edition containing the Ladie...</td>\n",
       "      <td>https://www.goodreads.com/book/show/7327624-th...</td>\n",
       "      <td>[{'author_id': '10333', 'role': ''}]</td>\n",
       "      <td>600.0</td>\n",
       "      <td>7327624</td>\n",
       "      <td>140.0</td>\n",
       "      <td>The Unschooled Wizard (Sun Wolf and Starhawk, ...</td>\n",
       "      <td>1987.0</td>\n",
       "      <td>10333.0</td>\n",
       "    </tr>\n",
       "    <tr>\n",
       "      <th>3</th>\n",
       "      <td>0743294297</td>\n",
       "      <td>3.49</td>\n",
       "      <td>['6604176', '6054190', '2285777', '82641', '75...</td>\n",
       "      <td>Addie Downs and Valerie Adler were eight when ...</td>\n",
       "      <td>https://www.goodreads.com/book/show/6066819-be...</td>\n",
       "      <td>[{'author_id': '9212', 'role': ''}]</td>\n",
       "      <td>368.0</td>\n",
       "      <td>6066819</td>\n",
       "      <td>51184.0</td>\n",
       "      <td>Best Friends Forever</td>\n",
       "      <td>2009.0</td>\n",
       "      <td>9212.0</td>\n",
       "    </tr>\n",
       "    <tr>\n",
       "      <th>4</th>\n",
       "      <td>0850308712</td>\n",
       "      <td>3.40</td>\n",
       "      <td>[]</td>\n",
       "      <td>NaN</td>\n",
       "      <td>https://www.goodreads.com/book/show/287140.Run...</td>\n",
       "      <td>[{'author_id': '149918', 'role': ''}]</td>\n",
       "      <td>NaN</td>\n",
       "      <td>287140</td>\n",
       "      <td>15.0</td>\n",
       "      <td>Runic Astrology: Starcraft and Timekeeping in ...</td>\n",
       "      <td>NaN</td>\n",
       "      <td>149918.0</td>\n",
       "    </tr>\n",
       "  </tbody>\n",
       "</table>\n",
       "</div>"
      ],
      "text/plain": [
       "         isbn  average_rating  \\\n",
       "0  0312853122            4.00   \n",
       "1  0743509986            3.23   \n",
       "2         NaN            4.03   \n",
       "3  0743294297            3.49   \n",
       "4  0850308712            3.40   \n",
       "\n",
       "                                       similar_books  \\\n",
       "0                                                 []   \n",
       "1  ['8709549', '17074050', '28937', '158816', '22...   \n",
       "2  ['19997', '828466', '1569323', '425389', '1176...   \n",
       "3  ['6604176', '6054190', '2285777', '82641', '75...   \n",
       "4                                                 []   \n",
       "\n",
       "                                         description  \\\n",
       "0                                                NaN   \n",
       "1  Anita Diamant's international bestseller \"The ...   \n",
       "2  Omnibus book club edition containing the Ladie...   \n",
       "3  Addie Downs and Valerie Adler were eight when ...   \n",
       "4                                                NaN   \n",
       "\n",
       "                                                link  \\\n",
       "0  https://www.goodreads.com/book/show/5333265-w-...   \n",
       "1  https://www.goodreads.com/book/show/1333909.Go...   \n",
       "2  https://www.goodreads.com/book/show/7327624-th...   \n",
       "3  https://www.goodreads.com/book/show/6066819-be...   \n",
       "4  https://www.goodreads.com/book/show/287140.Run...   \n",
       "\n",
       "                                 authors  num_pages  book_id  ratings_count  \\\n",
       "0  [{'author_id': '604031', 'role': ''}]      256.0  5333265            3.0   \n",
       "1  [{'author_id': '626222', 'role': ''}]        NaN  1333909           10.0   \n",
       "2   [{'author_id': '10333', 'role': ''}]      600.0  7327624          140.0   \n",
       "3    [{'author_id': '9212', 'role': ''}]      368.0  6066819        51184.0   \n",
       "4  [{'author_id': '149918', 'role': ''}]        NaN   287140           15.0   \n",
       "\n",
       "                                               title  publication_year  \\\n",
       "0                        W.C. Fields: A Life on Film            1984.0   \n",
       "1                                        Good Harbor            2001.0   \n",
       "2  The Unschooled Wizard (Sun Wolf and Starhawk, ...            1987.0   \n",
       "3                               Best Friends Forever            2009.0   \n",
       "4  Runic Astrology: Starcraft and Timekeeping in ...               NaN   \n",
       "\n",
       "   author_id  \n",
       "0   604031.0  \n",
       "1   626222.0  \n",
       "2    10333.0  \n",
       "3     9212.0  \n",
       "4   149918.0  "
      ]
     },
     "execution_count": 20,
     "metadata": {},
     "output_type": "execute_result"
    }
   ],
   "source": [
    "# Define a regular expression pattern to match the 'author_id' value\n",
    "pattern = r\"'author_id': '(\\d+)'\"\n",
    "\n",
    "# Function to extract the author ID from a string\n",
    "def extract_author_id(cell):\n",
    "    # Search for the pattern in the string\n",
    "    match = re.search(pattern, cell)\n",
    "    if match:\n",
    "        # If a match is found, return the extracted author ID as an integer\n",
    "        return int(match.group(1))\n",
    "    else:\n",
    "        # If no match is found, return None or any other appropriate value\n",
    "        return None\n",
    "\n",
    "# Apply the function to each cell in the 'author' column\n",
    "metadata['author_id'] = metadata['authors'].apply(extract_author_id)\n",
    "\n",
    "# Display the updated DataFrame\n",
    "metadata.head()\n"
   ]
  },
  {
   "cell_type": "code",
   "execution_count": 22,
   "id": "82df90da",
   "metadata": {},
   "outputs": [
    {
     "name": "stdout",
     "output_type": "stream",
     "text": [
      "<class 'pandas.core.frame.DataFrame'>\n",
      "RangeIndex: 2360655 entries, 0 to 2360654\n",
      "Data columns (total 12 columns):\n",
      " #   Column            Dtype  \n",
      "---  ------            -----  \n",
      " 0   isbn              object \n",
      " 1   average_rating    float64\n",
      " 2   similar_books     object \n",
      " 3   description       object \n",
      " 4   link              object \n",
      " 5   authors           object \n",
      " 6   num_pages         float64\n",
      " 7   book_id           int64  \n",
      " 8   ratings_count     float64\n",
      " 9   title             object \n",
      " 10  publication_year  float64\n",
      " 11  author_id         float64\n",
      "dtypes: float64(5), int64(1), object(6)\n",
      "memory usage: 216.1+ MB\n"
     ]
    }
   ],
   "source": [
    "metadata.info()"
   ]
  },
  {
   "cell_type": "code",
   "execution_count": 26,
   "id": "268266f4",
   "metadata": {},
   "outputs": [
    {
     "data": {
      "text/plain": [
       "isbn                983374\n",
       "average_rating         524\n",
       "similar_books            0\n",
       "description         412249\n",
       "link                   524\n",
       "authors                  0\n",
       "num_pages           764133\n",
       "book_id                  0\n",
       "ratings_count          524\n",
       "title                   12\n",
       "publication_year    599625\n",
       "author_id              537\n",
       "dtype: int64"
      ]
     },
     "execution_count": 26,
     "metadata": {},
     "output_type": "execute_result"
    }
   ],
   "source": [
    "metadata.isna().sum()"
   ]
  },
  {
   "cell_type": "code",
   "execution_count": 36,
   "id": "be55a61c",
   "metadata": {},
   "outputs": [],
   "source": [
    "authors['author_id'] = authors['author_id'].astype(float)"
   ]
  },
  {
   "cell_type": "code",
   "execution_count": 37,
   "id": "b6cf2804",
   "metadata": {},
   "outputs": [
    {
     "name": "stdout",
     "output_type": "stream",
     "text": [
      "<class 'pandas.core.frame.DataFrame'>\n",
      "RangeIndex: 829529 entries, 0 to 829528\n",
      "Data columns (total 2 columns):\n",
      " #   Column     Non-Null Count   Dtype  \n",
      "---  ------     --------------   -----  \n",
      " 0   author_id  829529 non-null  float64\n",
      " 1   name       829529 non-null  object \n",
      "dtypes: float64(1), object(1)\n",
      "memory usage: 12.7+ MB\n"
     ]
    }
   ],
   "source": [
    "authors.info()"
   ]
  },
  {
   "cell_type": "code",
   "execution_count": 38,
   "id": "51c208c0",
   "metadata": {},
   "outputs": [
    {
     "data": {
      "text/html": [
       "<div>\n",
       "<style scoped>\n",
       "    .dataframe tbody tr th:only-of-type {\n",
       "        vertical-align: middle;\n",
       "    }\n",
       "\n",
       "    .dataframe tbody tr th {\n",
       "        vertical-align: top;\n",
       "    }\n",
       "\n",
       "    .dataframe thead th {\n",
       "        text-align: right;\n",
       "    }\n",
       "</style>\n",
       "<table border=\"1\" class=\"dataframe\">\n",
       "  <thead>\n",
       "    <tr style=\"text-align: right;\">\n",
       "      <th></th>\n",
       "      <th>isbn</th>\n",
       "      <th>average_rating</th>\n",
       "      <th>similar_books</th>\n",
       "      <th>description</th>\n",
       "      <th>link</th>\n",
       "      <th>authors</th>\n",
       "      <th>num_pages</th>\n",
       "      <th>book_id</th>\n",
       "      <th>ratings_count</th>\n",
       "      <th>title</th>\n",
       "      <th>publication_year</th>\n",
       "      <th>author_id</th>\n",
       "      <th>name</th>\n",
       "    </tr>\n",
       "  </thead>\n",
       "  <tbody>\n",
       "    <tr>\n",
       "      <th>0</th>\n",
       "      <td>0312853122</td>\n",
       "      <td>4.00</td>\n",
       "      <td>[]</td>\n",
       "      <td>NaN</td>\n",
       "      <td>https://www.goodreads.com/book/show/5333265-w-...</td>\n",
       "      <td>[{'author_id': '604031', 'role': ''}]</td>\n",
       "      <td>256.0</td>\n",
       "      <td>5333265</td>\n",
       "      <td>3.0</td>\n",
       "      <td>W.C. Fields: A Life on Film</td>\n",
       "      <td>1984.0</td>\n",
       "      <td>604031.0</td>\n",
       "      <td>Ronald J. Fields</td>\n",
       "    </tr>\n",
       "    <tr>\n",
       "      <th>1</th>\n",
       "      <td>0743509986</td>\n",
       "      <td>3.23</td>\n",
       "      <td>['8709549', '17074050', '28937', '158816', '22...</td>\n",
       "      <td>Anita Diamant's international bestseller \"The ...</td>\n",
       "      <td>https://www.goodreads.com/book/show/1333909.Go...</td>\n",
       "      <td>[{'author_id': '626222', 'role': ''}]</td>\n",
       "      <td>NaN</td>\n",
       "      <td>1333909</td>\n",
       "      <td>10.0</td>\n",
       "      <td>Good Harbor</td>\n",
       "      <td>2001.0</td>\n",
       "      <td>626222.0</td>\n",
       "      <td>Anita Diamant</td>\n",
       "    </tr>\n",
       "    <tr>\n",
       "      <th>2</th>\n",
       "      <td>NaN</td>\n",
       "      <td>4.03</td>\n",
       "      <td>['19997', '828466', '1569323', '425389', '1176...</td>\n",
       "      <td>Omnibus book club edition containing the Ladie...</td>\n",
       "      <td>https://www.goodreads.com/book/show/7327624-th...</td>\n",
       "      <td>[{'author_id': '10333', 'role': ''}]</td>\n",
       "      <td>600.0</td>\n",
       "      <td>7327624</td>\n",
       "      <td>140.0</td>\n",
       "      <td>The Unschooled Wizard (Sun Wolf and Starhawk, ...</td>\n",
       "      <td>1987.0</td>\n",
       "      <td>10333.0</td>\n",
       "      <td>Barbara Hambly</td>\n",
       "    </tr>\n",
       "    <tr>\n",
       "      <th>3</th>\n",
       "      <td>0743294297</td>\n",
       "      <td>3.49</td>\n",
       "      <td>['6604176', '6054190', '2285777', '82641', '75...</td>\n",
       "      <td>Addie Downs and Valerie Adler were eight when ...</td>\n",
       "      <td>https://www.goodreads.com/book/show/6066819-be...</td>\n",
       "      <td>[{'author_id': '9212', 'role': ''}]</td>\n",
       "      <td>368.0</td>\n",
       "      <td>6066819</td>\n",
       "      <td>51184.0</td>\n",
       "      <td>Best Friends Forever</td>\n",
       "      <td>2009.0</td>\n",
       "      <td>9212.0</td>\n",
       "      <td>Jennifer Weiner</td>\n",
       "    </tr>\n",
       "    <tr>\n",
       "      <th>4</th>\n",
       "      <td>0850308712</td>\n",
       "      <td>3.40</td>\n",
       "      <td>[]</td>\n",
       "      <td>NaN</td>\n",
       "      <td>https://www.goodreads.com/book/show/287140.Run...</td>\n",
       "      <td>[{'author_id': '149918', 'role': ''}]</td>\n",
       "      <td>NaN</td>\n",
       "      <td>287140</td>\n",
       "      <td>15.0</td>\n",
       "      <td>Runic Astrology: Starcraft and Timekeeping in ...</td>\n",
       "      <td>NaN</td>\n",
       "      <td>149918.0</td>\n",
       "      <td>Nigel Pennick</td>\n",
       "    </tr>\n",
       "  </tbody>\n",
       "</table>\n",
       "</div>"
      ],
      "text/plain": [
       "         isbn  average_rating  \\\n",
       "0  0312853122            4.00   \n",
       "1  0743509986            3.23   \n",
       "2         NaN            4.03   \n",
       "3  0743294297            3.49   \n",
       "4  0850308712            3.40   \n",
       "\n",
       "                                       similar_books  \\\n",
       "0                                                 []   \n",
       "1  ['8709549', '17074050', '28937', '158816', '22...   \n",
       "2  ['19997', '828466', '1569323', '425389', '1176...   \n",
       "3  ['6604176', '6054190', '2285777', '82641', '75...   \n",
       "4                                                 []   \n",
       "\n",
       "                                         description  \\\n",
       "0                                                NaN   \n",
       "1  Anita Diamant's international bestseller \"The ...   \n",
       "2  Omnibus book club edition containing the Ladie...   \n",
       "3  Addie Downs and Valerie Adler were eight when ...   \n",
       "4                                                NaN   \n",
       "\n",
       "                                                link  \\\n",
       "0  https://www.goodreads.com/book/show/5333265-w-...   \n",
       "1  https://www.goodreads.com/book/show/1333909.Go...   \n",
       "2  https://www.goodreads.com/book/show/7327624-th...   \n",
       "3  https://www.goodreads.com/book/show/6066819-be...   \n",
       "4  https://www.goodreads.com/book/show/287140.Run...   \n",
       "\n",
       "                                 authors  num_pages  book_id  ratings_count  \\\n",
       "0  [{'author_id': '604031', 'role': ''}]      256.0  5333265            3.0   \n",
       "1  [{'author_id': '626222', 'role': ''}]        NaN  1333909           10.0   \n",
       "2   [{'author_id': '10333', 'role': ''}]      600.0  7327624          140.0   \n",
       "3    [{'author_id': '9212', 'role': ''}]      368.0  6066819        51184.0   \n",
       "4  [{'author_id': '149918', 'role': ''}]        NaN   287140           15.0   \n",
       "\n",
       "                                               title  publication_year  \\\n",
       "0                        W.C. Fields: A Life on Film            1984.0   \n",
       "1                                        Good Harbor            2001.0   \n",
       "2  The Unschooled Wizard (Sun Wolf and Starhawk, ...            1987.0   \n",
       "3                               Best Friends Forever            2009.0   \n",
       "4  Runic Astrology: Starcraft and Timekeeping in ...               NaN   \n",
       "\n",
       "   author_id              name  \n",
       "0   604031.0  Ronald J. Fields  \n",
       "1   626222.0     Anita Diamant  \n",
       "2    10333.0    Barbara Hambly  \n",
       "3     9212.0   Jennifer Weiner  \n",
       "4   149918.0     Nigel Pennick  "
      ]
     },
     "execution_count": 38,
     "metadata": {},
     "output_type": "execute_result"
    }
   ],
   "source": [
    "# Merge metadata and authors DataFrames based on 'author_id' column\n",
    "metadata = pd.merge(metadata, authors, how='left', left_on='author_id', right_on='author_id')\n",
    "\n",
    "metadata.head()\n"
   ]
  },
  {
   "cell_type": "code",
   "execution_count": 39,
   "id": "c98d8816",
   "metadata": {},
   "outputs": [
    {
     "name": "stdout",
     "output_type": "stream",
     "text": [
      "<class 'pandas.core.frame.DataFrame'>\n",
      "RangeIndex: 2360655 entries, 0 to 2360654\n",
      "Data columns (total 11 columns):\n",
      " #   Column            Dtype  \n",
      "---  ------            -----  \n",
      " 0   isbn              object \n",
      " 1   average_rating    float64\n",
      " 2   similar_books     object \n",
      " 3   description       object \n",
      " 4   link              object \n",
      " 5   num_pages         float64\n",
      " 6   book_id           int64  \n",
      " 7   ratings_count     float64\n",
      " 8   title             object \n",
      " 9   publication_year  float64\n",
      " 10  name              object \n",
      "dtypes: float64(4), int64(1), object(6)\n",
      "memory usage: 198.1+ MB\n"
     ]
    }
   ],
   "source": [
    "metadata = metadata.drop(columns=['authors', 'author_id'])\n",
    "metadata.info()"
   ]
  },
  {
   "cell_type": "code",
   "execution_count": 40,
   "id": "4d5910ed",
   "metadata": {},
   "outputs": [
    {
     "data": {
      "text/html": [
       "<div>\n",
       "<style scoped>\n",
       "    .dataframe tbody tr th:only-of-type {\n",
       "        vertical-align: middle;\n",
       "    }\n",
       "\n",
       "    .dataframe tbody tr th {\n",
       "        vertical-align: top;\n",
       "    }\n",
       "\n",
       "    .dataframe thead th {\n",
       "        text-align: right;\n",
       "    }\n",
       "</style>\n",
       "<table border=\"1\" class=\"dataframe\">\n",
       "  <thead>\n",
       "    <tr style=\"text-align: right;\">\n",
       "      <th></th>\n",
       "      <th>isbn</th>\n",
       "      <th>average_rating</th>\n",
       "      <th>similar_books</th>\n",
       "      <th>description</th>\n",
       "      <th>link</th>\n",
       "      <th>num_pages</th>\n",
       "      <th>book_id</th>\n",
       "      <th>ratings_count</th>\n",
       "      <th>title</th>\n",
       "      <th>publication_year</th>\n",
       "      <th>name</th>\n",
       "    </tr>\n",
       "  </thead>\n",
       "  <tbody>\n",
       "    <tr>\n",
       "      <th>0</th>\n",
       "      <td>0312853122</td>\n",
       "      <td>4.00</td>\n",
       "      <td>[]</td>\n",
       "      <td>NaN</td>\n",
       "      <td>https://www.goodreads.com/book/show/5333265-w-...</td>\n",
       "      <td>256.0</td>\n",
       "      <td>5333265</td>\n",
       "      <td>3.0</td>\n",
       "      <td>W.C. Fields: A Life on Film</td>\n",
       "      <td>1984.0</td>\n",
       "      <td>Ronald J. Fields</td>\n",
       "    </tr>\n",
       "    <tr>\n",
       "      <th>1</th>\n",
       "      <td>0743509986</td>\n",
       "      <td>3.23</td>\n",
       "      <td>[Hope Will Find You: My Search for the Wisdom ...</td>\n",
       "      <td>Anita Diamant's international bestseller \"The ...</td>\n",
       "      <td>https://www.goodreads.com/book/show/1333909.Go...</td>\n",
       "      <td>NaN</td>\n",
       "      <td>1333909</td>\n",
       "      <td>10.0</td>\n",
       "      <td>Good Harbor</td>\n",
       "      <td>2001.0</td>\n",
       "      <td>Anita Diamant</td>\n",
       "    </tr>\n",
       "    <tr>\n",
       "      <th>2</th>\n",
       "      <td>NaN</td>\n",
       "      <td>4.03</td>\n",
       "      <td>[Through a Brazen Mirror, The Hound and the Fa...</td>\n",
       "      <td>Omnibus book club edition containing the Ladie...</td>\n",
       "      <td>https://www.goodreads.com/book/show/7327624-th...</td>\n",
       "      <td>600.0</td>\n",
       "      <td>7327624</td>\n",
       "      <td>140.0</td>\n",
       "      <td>The Unschooled Wizard (Sun Wolf and Starhawk, ...</td>\n",
       "      <td>1987.0</td>\n",
       "      <td>Barbara Hambly</td>\n",
       "    </tr>\n",
       "    <tr>\n",
       "      <th>3</th>\n",
       "      <td>0743294297</td>\n",
       "      <td>3.49</td>\n",
       "      <td>[The Opposite of Me, Dune Road, A Summer Affai...</td>\n",
       "      <td>Addie Downs and Valerie Adler were eight when ...</td>\n",
       "      <td>https://www.goodreads.com/book/show/6066819-be...</td>\n",
       "      <td>368.0</td>\n",
       "      <td>6066819</td>\n",
       "      <td>51184.0</td>\n",
       "      <td>Best Friends Forever</td>\n",
       "      <td>2009.0</td>\n",
       "      <td>Jennifer Weiner</td>\n",
       "    </tr>\n",
       "    <tr>\n",
       "      <th>4</th>\n",
       "      <td>0850308712</td>\n",
       "      <td>3.40</td>\n",
       "      <td>[]</td>\n",
       "      <td>NaN</td>\n",
       "      <td>https://www.goodreads.com/book/show/287140.Run...</td>\n",
       "      <td>NaN</td>\n",
       "      <td>287140</td>\n",
       "      <td>15.0</td>\n",
       "      <td>Runic Astrology: Starcraft and Timekeeping in ...</td>\n",
       "      <td>NaN</td>\n",
       "      <td>Nigel Pennick</td>\n",
       "    </tr>\n",
       "  </tbody>\n",
       "</table>\n",
       "</div>"
      ],
      "text/plain": [
       "         isbn  average_rating  \\\n",
       "0  0312853122            4.00   \n",
       "1  0743509986            3.23   \n",
       "2         NaN            4.03   \n",
       "3  0743294297            3.49   \n",
       "4  0850308712            3.40   \n",
       "\n",
       "                                       similar_books  \\\n",
       "0                                                 []   \n",
       "1  [Hope Will Find You: My Search for the Wisdom ...   \n",
       "2  [Through a Brazen Mirror, The Hound and the Fa...   \n",
       "3  [The Opposite of Me, Dune Road, A Summer Affai...   \n",
       "4                                                 []   \n",
       "\n",
       "                                         description  \\\n",
       "0                                                NaN   \n",
       "1  Anita Diamant's international bestseller \"The ...   \n",
       "2  Omnibus book club edition containing the Ladie...   \n",
       "3  Addie Downs and Valerie Adler were eight when ...   \n",
       "4                                                NaN   \n",
       "\n",
       "                                                link  num_pages  book_id  \\\n",
       "0  https://www.goodreads.com/book/show/5333265-w-...      256.0  5333265   \n",
       "1  https://www.goodreads.com/book/show/1333909.Go...        NaN  1333909   \n",
       "2  https://www.goodreads.com/book/show/7327624-th...      600.0  7327624   \n",
       "3  https://www.goodreads.com/book/show/6066819-be...      368.0  6066819   \n",
       "4  https://www.goodreads.com/book/show/287140.Run...        NaN   287140   \n",
       "\n",
       "   ratings_count                                              title  \\\n",
       "0            3.0                        W.C. Fields: A Life on Film   \n",
       "1           10.0                                        Good Harbor   \n",
       "2          140.0  The Unschooled Wizard (Sun Wolf and Starhawk, ...   \n",
       "3        51184.0                               Best Friends Forever   \n",
       "4           15.0  Runic Astrology: Starcraft and Timekeeping in ...   \n",
       "\n",
       "   publication_year              name  \n",
       "0            1984.0  Ronald J. Fields  \n",
       "1            2001.0     Anita Diamant  \n",
       "2            1987.0    Barbara Hambly  \n",
       "3            2009.0   Jennifer Weiner  \n",
       "4               NaN     Nigel Pennick  "
      ]
     },
     "execution_count": 40,
     "metadata": {},
     "output_type": "execute_result"
    }
   ],
   "source": [
    "# Replacing the 'similar_books' column string of book id's with the corresponding book titles\n",
    "\n",
    "# Create a dictionary mapping book_id to title\n",
    "book_id_title_map = dict(zip(metadata['book_id'], metadata['title']))\n",
    "\n",
    "# Function to replace book_id with title\n",
    "def replace_with_title(similar_books_str):\n",
    "    similar_books = eval(similar_books_str)  # Convert string to list of book IDs\n",
    "    titles = [book_id_title_map.get(int(book_id), '') for book_id in similar_books]  # Get titles for each book ID\n",
    "    return titles\n",
    "\n",
    "# Apply the function to each element in the 'similar_books' column\n",
    "metadata['similar_books'] = metadata['similar_books'].apply(replace_with_title)\n",
    "\n",
    "metadata.head()\n"
   ]
  },
  {
   "cell_type": "code",
   "execution_count": 41,
   "id": "2fd75147",
   "metadata": {},
   "outputs": [
    {
     "data": {
      "text/plain": [
       "['Through a Brazen Mirror',\n",
       " 'The Hound and the Falcon (The Hound and the Falcon, #1-3)',\n",
       " 'The Secret Books of Paradys III & IV (Secret Books of Paradys, #3-4)',\n",
       " 'Child of Light: Mary Shelley',\n",
       " 'A Blackbird in Silver (Blackbird, #1)',\n",
       " 'The Youngest Miss Ward',\n",
       " 'Three to Dorsai!',\n",
       " 'Lord Darcy  (Lord Darcy, #1-3)',\n",
       " 'The Many Coloured Land The Golden Torc',\n",
       " 'Dragonslayer',\n",
       " 'To the Stars',\n",
       " 'The Angelic Avengers',\n",
       " 'Der mechanische Prinz',\n",
       " 'The Road to Ehvenor (Guardians of the Flame, #6)',\n",
       " 'Oath of the Renunciates (Darkover #10/13)',\n",
       " 'Mockingbird',\n",
       " 'The Far Kingdoms (Anteros, #1)']"
      ]
     },
     "execution_count": 41,
     "metadata": {},
     "output_type": "execute_result"
    }
   ],
   "source": [
    "metadata['similar_books'][2]"
   ]
  },
  {
   "cell_type": "code",
   "execution_count": 42,
   "id": "7cf4453b",
   "metadata": {},
   "outputs": [],
   "source": [
    "# Saving off the metadata dataframe\n",
    "metadata.to_csv('data/metadata.csv', index=False)"
   ]
  },
  {
   "cell_type": "markdown",
   "id": "cf97ea55",
   "metadata": {},
   "source": []
  },
  {
   "cell_type": "markdown",
   "id": "f7eafe5a-3f9c-4ca5-b6fa-71a1eab4ced7",
   "metadata": {},
   "source": [
    "### 4.b. User Review Data"
   ]
  },
  {
   "cell_type": "markdown",
   "id": "d929aa29-9b60-45af-862e-e9d550a6817e",
   "metadata": {},
   "source": [
    "Here we want to end up with: rating, user id, book id, the review text for each user per book"
   ]
  },
  {
   "cell_type": "code",
   "execution_count": 55,
   "id": "f87dbf43",
   "metadata": {},
   "outputs": [],
   "source": [
    "# This took 6 mins to load in\n",
    "reviews = pd.read_json('data/goodreads_reviews_spoiler.json.gz', compression='gzip', lines=True)\n"
   ]
  },
  {
   "cell_type": "code",
   "execution_count": 56,
   "id": "0118966b",
   "metadata": {},
   "outputs": [
    {
     "name": "stdout",
     "output_type": "stream",
     "text": [
      "<class 'pandas.core.frame.DataFrame'>\n",
      "RangeIndex: 1378033 entries, 0 to 1378032\n",
      "Data columns (total 7 columns):\n",
      " #   Column            Non-Null Count    Dtype         \n",
      "---  ------            --------------    -----         \n",
      " 0   user_id           1378033 non-null  object        \n",
      " 1   timestamp         1378033 non-null  datetime64[ns]\n",
      " 2   review_sentences  1378033 non-null  object        \n",
      " 3   rating            1378033 non-null  int64         \n",
      " 4   has_spoiler       1378033 non-null  bool          \n",
      " 5   book_id           1378033 non-null  int64         \n",
      " 6   review_id         1378033 non-null  object        \n",
      "dtypes: bool(1), datetime64[ns](1), int64(2), object(3)\n",
      "memory usage: 64.4+ MB\n"
     ]
    }
   ],
   "source": [
    "reviews.info()"
   ]
  },
  {
   "cell_type": "code",
   "execution_count": 57,
   "id": "e806b74c",
   "metadata": {},
   "outputs": [
    {
     "data": {
      "text/html": [
       "<div>\n",
       "<style scoped>\n",
       "    .dataframe tbody tr th:only-of-type {\n",
       "        vertical-align: middle;\n",
       "    }\n",
       "\n",
       "    .dataframe tbody tr th {\n",
       "        vertical-align: top;\n",
       "    }\n",
       "\n",
       "    .dataframe thead th {\n",
       "        text-align: right;\n",
       "    }\n",
       "</style>\n",
       "<table border=\"1\" class=\"dataframe\">\n",
       "  <thead>\n",
       "    <tr style=\"text-align: right;\">\n",
       "      <th></th>\n",
       "      <th>user_id</th>\n",
       "      <th>rating</th>\n",
       "      <th>book_id</th>\n",
       "      <th>review_sentences</th>\n",
       "    </tr>\n",
       "  </thead>\n",
       "  <tbody>\n",
       "    <tr>\n",
       "      <th>0</th>\n",
       "      <td>8842281e1d1347389f2ab93d60773d4d</td>\n",
       "      <td>5</td>\n",
       "      <td>18245960</td>\n",
       "      <td>[[0, This is a special book.], [0, It started ...</td>\n",
       "    </tr>\n",
       "    <tr>\n",
       "      <th>1</th>\n",
       "      <td>8842281e1d1347389f2ab93d60773d4d</td>\n",
       "      <td>3</td>\n",
       "      <td>16981</td>\n",
       "      <td>[[0, Recommended by Don Katz.], [0, Avail for ...</td>\n",
       "    </tr>\n",
       "    <tr>\n",
       "      <th>2</th>\n",
       "      <td>8842281e1d1347389f2ab93d60773d4d</td>\n",
       "      <td>3</td>\n",
       "      <td>28684704</td>\n",
       "      <td>[[0, A fun, fast paced science fiction thrille...</td>\n",
       "    </tr>\n",
       "    <tr>\n",
       "      <th>3</th>\n",
       "      <td>8842281e1d1347389f2ab93d60773d4d</td>\n",
       "      <td>0</td>\n",
       "      <td>27161156</td>\n",
       "      <td>[[0, Recommended reading to understand what is...</td>\n",
       "    </tr>\n",
       "    <tr>\n",
       "      <th>4</th>\n",
       "      <td>8842281e1d1347389f2ab93d60773d4d</td>\n",
       "      <td>4</td>\n",
       "      <td>25884323</td>\n",
       "      <td>[[0, I really enjoyed this book, and there is ...</td>\n",
       "    </tr>\n",
       "  </tbody>\n",
       "</table>\n",
       "</div>"
      ],
      "text/plain": [
       "                            user_id  rating   book_id  \\\n",
       "0  8842281e1d1347389f2ab93d60773d4d       5  18245960   \n",
       "1  8842281e1d1347389f2ab93d60773d4d       3     16981   \n",
       "2  8842281e1d1347389f2ab93d60773d4d       3  28684704   \n",
       "3  8842281e1d1347389f2ab93d60773d4d       0  27161156   \n",
       "4  8842281e1d1347389f2ab93d60773d4d       4  25884323   \n",
       "\n",
       "                                    review_sentences  \n",
       "0  [[0, This is a special book.], [0, It started ...  \n",
       "1  [[0, Recommended by Don Katz.], [0, Avail for ...  \n",
       "2  [[0, A fun, fast paced science fiction thrille...  \n",
       "3  [[0, Recommended reading to understand what is...  \n",
       "4  [[0, I really enjoyed this book, and there is ...  "
      ]
     },
     "execution_count": 57,
     "metadata": {},
     "output_type": "execute_result"
    }
   ],
   "source": [
    "# I only need user_id, review_sentences, rating, and book_id \n",
    "reviews_subset = reviews[['user_id', 'rating', 'book_id', 'review_sentences']]\n",
    "reviews_subset.head()"
   ]
  },
  {
   "cell_type": "code",
   "execution_count": 58,
   "id": "01253bd4",
   "metadata": {},
   "outputs": [
    {
     "data": {
      "text/plain": [
       "[[0, 'A fun, fast paced science fiction thriller.'],\n",
       " [0, \"I read it in 2 nights and couldn't put it down.\"],\n",
       " [0,\n",
       "  'The book is about the quantum theory of many worlds which states that all decisions we make throughout our lives basically create branches, and that each possible path through the decision tree can be thought of as a parallel world.'],\n",
       " [0,\n",
       "  'And in this book, someone invents a way to switch between these worlds.'],\n",
       " [0, 'This was nicely alluded to/foreshadowed in this quote:'],\n",
       " [0, '\"I think about all the choices we\\'ve made that created this moment.'],\n",
       " [0, 'Us sitting here together at this beautiful table.'],\n",
       " [0,\n",
       "  'Then I think of all the possible events that could have stopped this moment from ever happening, and it all feels, I don\\'t know...\" \"What?\"'],\n",
       " [0, '\"So fragile.\"'],\n",
       " [0, 'Now he becomes thoughtful for a moment.'],\n",
       " [0,\n",
       "  'He says finally, \"It\\'s terrifying when you consider that every thought we have, every choice we could possibly make, branches into a new world.\"'],\n",
       " [1, \"This book can't be discussed without spoilers.\"],\n",
       " [1, 'It is a book about choice and regret.'],\n",
       " [1,\n",
       "  'Ever regret not chasing the girl of your dreams so you can focus on your career?'],\n",
       " [1, 'Well Jason2 made that choice and then did regret it.'],\n",
       " [1,\n",
       "  'Clearly the author is trying to tell us to optimize for happiness - to be that second rate physics teacher at a community college if it means you can have a happy life.'],\n",
       " [1,\n",
       "  \"I'm being snarky because while there is certainly something to that, you also have to have meaning in your life that comes from within.\"],\n",
       " [1, 'I thought the book was a little shallow on this dimension.'],\n",
       " [1, 'In fact, all the characters were fairly shallow.'],\n",
       " [1, 'Daniela was the perfect wife.'],\n",
       " [1, 'Ryan the perfect antithesis of Jason.'],\n",
       " [1, 'Amanda the perfect loyal traveling companion, etc.'],\n",
       " [1,\n",
       "  \"This, plus the fact that the book was weak on the science are what led me to take a few stars off - but I'd still read it again if I could go back in time - was a very fun and engaging read.\"],\n",
       " [1,\n",
       "  'If you want to really minimize regret, you have to live your life to avoid it in the first place.'],\n",
       " [1, \"Regret can't be hacked, which is kind of the point of the book.\"],\n",
       " [1, 'My favorite book about regret is Remains of the Day.'],\n",
       " [1,\n",
       "  'I do really like the visualization of the decision tree though - that is a powerful concept.'],\n",
       " [1, '\"Every moment, every breath, contains a choice.'],\n",
       " [1, 'But life is imperfect.'],\n",
       " [1, 'We make the wrong choices.'],\n",
       " [1,\n",
       "  'So we end up living in a state of perpetual regret, and is there anything worse?'],\n",
       " [1, 'I built something that could actually eradicate regret.'],\n",
       " [1, 'Let you find worlds where you made the right choice.\"'],\n",
       " [1, 'Daniela says, \"Life doesn\\'t work that way.'],\n",
       " [1, 'You live with your choices and learn.'],\n",
       " [1, 'You don\\'t cheat the system.\"']]"
      ]
     },
     "execution_count": 58,
     "metadata": {},
     "output_type": "execute_result"
    }
   ],
   "source": [
    "# The review sentences column is a list of each sentence with a number for the index at the beginning\n",
    "reviews_subset['review_sentences'][2]"
   ]
  },
  {
   "cell_type": "code",
   "execution_count": 59,
   "id": "b034b2f6",
   "metadata": {},
   "outputs": [
    {
     "name": "stderr",
     "output_type": "stream",
     "text": [
      "/var/folders/45/9490rsy120vgdzpsxzj4d3wr0000gn/T/ipykernel_30889/378747040.py:17: SettingWithCopyWarning: \n",
      "A value is trying to be set on a copy of a slice from a DataFrame.\n",
      "Try using .loc[row_indexer,col_indexer] = value instead\n",
      "\n",
      "See the caveats in the documentation: https://pandas.pydata.org/pandas-docs/stable/user_guide/indexing.html#returning-a-view-versus-a-copy\n",
      "  reviews_subset['review_sentences'] = reviews_subset['review_sentences'].apply(concatenate_sentences)\n"
     ]
    },
    {
     "data": {
      "text/plain": [
       "'A fun, fast paced science fiction thriller. I read it in 2 nights and couldn\\'t put it down. The book is about the quantum theory of many worlds which states that all decisions we make throughout our lives basically create branches, and that each possible path through the decision tree can be thought of as a parallel world. And in this book, someone invents a way to switch between these worlds. This was nicely alluded to/foreshadowed in this quote: \"I think about all the choices we\\'ve made that created this moment. Us sitting here together at this beautiful table. Then I think of all the possible events that could have stopped this moment from ever happening, and it all feels, I don\\'t know...\" \"What?\" So fragile. Now he becomes thoughtful for a moment. He says finally, \"It\\'s terrifying when you consider that every thought we have, every choice we could possibly make, branches into a new world.\" his book can\\'t be discussed without spoilers. t is a book about choice and regret. ver regret not chasing the girl of your dreams so you can focus on your career? ell Jason2 made that choice and then did regret it. learly the author is trying to tell us to optimize for happiness - to be that second rate physics teacher at a community college if it means you can have a happy life. \\'m being snarky because while there is certainly something to that, you also have to have meaning in your life that comes from within.  thought the book was a little shallow on this dimension. n fact, all the characters were fairly shallow. aniela was the perfect wife. yan the perfect antithesis of Jason. manda the perfect loyal traveling companion, etc. his, plus the fact that the book was weak on the science are what led me to take a few stars off - but I\\'d still read it again if I could go back in time - was a very fun and engaging read. f you want to really minimize regret, you have to live your life to avoid it in the first place. egret can\\'t be hacked, which is kind of the point of the book. y favorite book about regret is Remains of the Day.  do really like the visualization of the decision tree though - that is a powerful concept. Every moment, every breath, contains a choice. ut life is imperfect. e make the wrong choices. o we end up living in a state of perpetual regret, and is there anything worse?  built something that could actually eradicate regret. et you find worlds where you made the right choice.\" aniela says, \"Life doesn\\'t work that way. ou live with your choices and learn. ou don\\'t cheat the system.\"'"
      ]
     },
     "execution_count": 59,
     "metadata": {},
     "output_type": "execute_result"
    }
   ],
   "source": [
    "# Function to concatenate sentences and remove numbers and quotes\n",
    "def concatenate_sentences(sentences):\n",
    "    concatenated_text = ''\n",
    "    for sentence_info in sentences:\n",
    "        # Remove the number at the beginning of each sentence\n",
    "        sentence = sentence_info[1]\n",
    "        if sentence_info[0] == 1:\n",
    "            sentence = sentence[1:]  # Remove the number at the beginning\n",
    "        # Remove quotes around the sentence\n",
    "        if sentence.startswith('\"') and sentence.endswith('\"'):\n",
    "            sentence = sentence[1:-1]\n",
    "        # Append the sentence to the concatenated text\n",
    "        concatenated_text += sentence + ' '\n",
    "    return concatenated_text.strip()  # Remove trailing space\n",
    "\n",
    "# Apply the function to concatenate sentences in the 'review_sentences' column\n",
    "reviews_subset['review_sentences'] = reviews_subset['review_sentences'].apply(concatenate_sentences)\n",
    "reviews_subset['review_sentences'][2]"
   ]
  },
  {
   "cell_type": "code",
   "execution_count": 60,
   "id": "0f935da1",
   "metadata": {},
   "outputs": [
    {
     "data": {
      "text/html": [
       "<div>\n",
       "<style scoped>\n",
       "    .dataframe tbody tr th:only-of-type {\n",
       "        vertical-align: middle;\n",
       "    }\n",
       "\n",
       "    .dataframe tbody tr th {\n",
       "        vertical-align: top;\n",
       "    }\n",
       "\n",
       "    .dataframe thead th {\n",
       "        text-align: right;\n",
       "    }\n",
       "</style>\n",
       "<table border=\"1\" class=\"dataframe\">\n",
       "  <thead>\n",
       "    <tr style=\"text-align: right;\">\n",
       "      <th></th>\n",
       "      <th>user_id</th>\n",
       "      <th>rating</th>\n",
       "      <th>book_id</th>\n",
       "      <th>review_sentences</th>\n",
       "    </tr>\n",
       "  </thead>\n",
       "  <tbody>\n",
       "    <tr>\n",
       "      <th>0</th>\n",
       "      <td>8842281e1d1347389f2ab93d60773d4d</td>\n",
       "      <td>5</td>\n",
       "      <td>18245960</td>\n",
       "      <td>This is a special book. It started slow for ab...</td>\n",
       "    </tr>\n",
       "    <tr>\n",
       "      <th>1</th>\n",
       "      <td>8842281e1d1347389f2ab93d60773d4d</td>\n",
       "      <td>3</td>\n",
       "      <td>16981</td>\n",
       "      <td>Recommended by Don Katz. Avail for free in Dec...</td>\n",
       "    </tr>\n",
       "    <tr>\n",
       "      <th>2</th>\n",
       "      <td>8842281e1d1347389f2ab93d60773d4d</td>\n",
       "      <td>3</td>\n",
       "      <td>28684704</td>\n",
       "      <td>A fun, fast paced science fiction thriller. I ...</td>\n",
       "    </tr>\n",
       "    <tr>\n",
       "      <th>3</th>\n",
       "      <td>8842281e1d1347389f2ab93d60773d4d</td>\n",
       "      <td>0</td>\n",
       "      <td>27161156</td>\n",
       "      <td>Recommended reading to understand what is goin...</td>\n",
       "    </tr>\n",
       "    <tr>\n",
       "      <th>4</th>\n",
       "      <td>8842281e1d1347389f2ab93d60773d4d</td>\n",
       "      <td>4</td>\n",
       "      <td>25884323</td>\n",
       "      <td>I really enjoyed this book, and there is a lot...</td>\n",
       "    </tr>\n",
       "  </tbody>\n",
       "</table>\n",
       "</div>"
      ],
      "text/plain": [
       "                            user_id  rating   book_id  \\\n",
       "0  8842281e1d1347389f2ab93d60773d4d       5  18245960   \n",
       "1  8842281e1d1347389f2ab93d60773d4d       3     16981   \n",
       "2  8842281e1d1347389f2ab93d60773d4d       3  28684704   \n",
       "3  8842281e1d1347389f2ab93d60773d4d       0  27161156   \n",
       "4  8842281e1d1347389f2ab93d60773d4d       4  25884323   \n",
       "\n",
       "                                    review_sentences  \n",
       "0  This is a special book. It started slow for ab...  \n",
       "1  Recommended by Don Katz. Avail for free in Dec...  \n",
       "2  A fun, fast paced science fiction thriller. I ...  \n",
       "3  Recommended reading to understand what is goin...  \n",
       "4  I really enjoyed this book, and there is a lot...  "
      ]
     },
     "execution_count": 60,
     "metadata": {},
     "output_type": "execute_result"
    }
   ],
   "source": [
    "# Checking that review_sentences has been turned into one string\n",
    "reviews_subset.head()"
   ]
  },
  {
   "cell_type": "code",
   "execution_count": 61,
   "id": "aadc27d4",
   "metadata": {},
   "outputs": [
    {
     "data": {
      "text/plain": [
       "user_id\n",
       "aca760854b57ce2ec981df32e46dc96c    1815\n",
       "843a44e2499ba9362b47a089b0b0ce75    1647\n",
       "8e7e5b546a63cb9add8431ee6914cf59    1214\n",
       "667b94d4c7e0b014bb6ab3636999e712    1189\n",
       "c5b70e45e230a166bb00201662495d69    1165\n",
       "                                    ... \n",
       "49e4ac9e5bc4f06039e6120de035738e       1\n",
       "424fa9e638254075ebe6b4cba7310a91       1\n",
       "1857263fbefd251fdac5cd6d468aa6e0       1\n",
       "a0d87052bf1a80b01a9066744fb46e26       1\n",
       "62e5c281998b211e61dab629ba595ef4       1\n",
       "Name: count, Length: 18892, dtype: int64"
      ]
     },
     "execution_count": 61,
     "metadata": {},
     "output_type": "execute_result"
    }
   ],
   "source": [
    "# I want to see how many individual (unique) users there are\n",
    "user_vc = reviews_subset['user_id'].value_counts()\n",
    "user_vc"
   ]
  },
  {
   "cell_type": "code",
   "execution_count": 62,
   "id": "99fa6e45",
   "metadata": {},
   "outputs": [
    {
     "data": {
      "text/plain": [
       "Index(['aca760854b57ce2ec981df32e46dc96c', '843a44e2499ba9362b47a089b0b0ce75',\n",
       "       '8e7e5b546a63cb9add8431ee6914cf59', '667b94d4c7e0b014bb6ab3636999e712',\n",
       "       'c5b70e45e230a166bb00201662495d69', 'aed35dbc626957174ebedf3c555b63d0',\n",
       "       'd7879573928a367edb1d1accf2372810', 'c0e0fda388f87af0deffad748c9c8b67',\n",
       "       '422e76592e2717d5d59465d22d74d47c', 'ccf944f8aca6814c1ec21cad667b7123',\n",
       "       ...\n",
       "       '54b7ab241624ebbc4158968b48cdd680', 'aaf7d634af94f2c65c04511f80ebdf02',\n",
       "       '5fcdf0b98fb5d2dea561f5b93b298f8e', '156503c1d86446fd175c965320cb2129',\n",
       "       'ec4a85bca6494332b52e7257e84b0714', '7ece23a7577ee3377c206ad52a287a47',\n",
       "       'fdfaa1eeddeb558af311d36eaac263d8', 'c7303bb03f7f4a96c89d44f0504d6b0f',\n",
       "       '8593c4720b979d9531b023ef8abf0e6d', '58fe4880f1c5746d7311867093747775'],\n",
       "      dtype='object', name='user_id', length=17268)"
      ]
     },
     "execution_count": 62,
     "metadata": {},
     "output_type": "execute_result"
    }
   ],
   "source": [
    "# I want to see how many users I'd be left with if I only kept users who have written at least 5 reviews\n",
    "users_vc_5 = user_vc[user_vc >=5 ].index\n",
    "users_vc_5"
   ]
  },
  {
   "cell_type": "markdown",
   "id": "043ef758",
   "metadata": {},
   "source": [
    "The length of the users_vc vs. the users_vc_5 has a difference of only 1,624 users, or 8% of users."
   ]
  },
  {
   "cell_type": "code",
   "execution_count": 64,
   "id": "8b7aec0a",
   "metadata": {},
   "outputs": [],
   "source": [
    "# Keeping only users who have written at least 5 reviews\n",
    "reviews_subset_2 = reviews_subset[reviews_subset['user_id'].isin(users_vc_5)]"
   ]
  },
  {
   "cell_type": "code",
   "execution_count": 65,
   "id": "1c296a7e",
   "metadata": {},
   "outputs": [
    {
     "data": {
      "text/plain": [
       "user_id\n",
       "aca760854b57ce2ec981df32e46dc96c    1815\n",
       "843a44e2499ba9362b47a089b0b0ce75    1647\n",
       "8e7e5b546a63cb9add8431ee6914cf59    1214\n",
       "667b94d4c7e0b014bb6ab3636999e712    1189\n",
       "c5b70e45e230a166bb00201662495d69    1165\n",
       "                                    ... \n",
       "f8b91520e708af9a6c2ea8b2739f28bb       5\n",
       "3b206409e55a73ca47284a85d84e0cc1       5\n",
       "fdfaa1eeddeb558af311d36eaac263d8       5\n",
       "d7c4e0e475bf1421b37890416f4cf1b9       5\n",
       "297142f776e6cd363a2bc2f7aaa11c81       5\n",
       "Name: count, Length: 17268, dtype: int64"
      ]
     },
     "execution_count": 65,
     "metadata": {},
     "output_type": "execute_result"
    }
   ],
   "source": [
    "reviews_subset_2['user_id'].value_counts()"
   ]
  },
  {
   "cell_type": "code",
   "execution_count": 66,
   "id": "db710e65",
   "metadata": {},
   "outputs": [
    {
     "data": {
      "text/plain": [
       "book_id\n",
       "11870085    2725\n",
       "11235712    2276\n",
       "2767052     2236\n",
       "7260188     1983\n",
       "16096824    1716\n",
       "            ... \n",
       "385483         8\n",
       "2535743        8\n",
       "16070990       7\n",
       "118349         7\n",
       "16148398       1\n",
       "Name: count, Length: 25475, dtype: int64"
      ]
     },
     "execution_count": 66,
     "metadata": {},
     "output_type": "execute_result"
    }
   ],
   "source": [
    "# We have about 25,500 unique books in the reviews df\n",
    "reviews_subset_2['book_id'].value_counts()"
   ]
  },
  {
   "cell_type": "code",
   "execution_count": 67,
   "id": "b49f9984",
   "metadata": {},
   "outputs": [
    {
     "name": "stdout",
     "output_type": "stream",
     "text": [
      "<class 'pandas.core.frame.DataFrame'>\n",
      "Index: 1373966 entries, 0 to 1378032\n",
      "Data columns (total 4 columns):\n",
      " #   Column            Non-Null Count    Dtype \n",
      "---  ------            --------------    ----- \n",
      " 0   user_id           1373966 non-null  object\n",
      " 1   rating            1373966 non-null  int64 \n",
      " 2   book_id           1373966 non-null  int64 \n",
      " 3   review_sentences  1373966 non-null  object\n",
      "dtypes: int64(2), object(2)\n",
      "memory usage: 52.4+ MB\n"
     ]
    }
   ],
   "source": [
    "reviews_subset_2.info()\n",
    "# It's fine for user_id to be an object b/c the user id has letters in it"
   ]
  },
  {
   "cell_type": "markdown",
   "id": "e663bfac",
   "metadata": {},
   "source": [
    "The review text data will need to be NLP processed before it can be meaningfully used.  Natural Language Processing (NLP) invovles inputs of a certain type: namely, \"tokenized\" text. Ideally, a string of lower-case, individual, normalized, semantic words. \n",
    "\n",
    "Below we initialize a tokenizer, a stopwords list, and a lemmatizer that we use in a custom function. \n",
    "\n",
    "The tokenizer will use a regex pattern to turn all words that are at least 3 letters long into a \"token.\"\n",
    "\n",
    "The stopwords list will be used to remove words like \"is\" the \"the.\" These are filler words that have no semantic meaning but are still the majority of most speech. They are not useful for prediction and they dramatically increase the input that a model must process. Therefore, our function iterates through the tokenized text and removes them.\n",
    "\n",
    "Finally our lemmatizer will get to the meaningful \"base\" or \"lemma\" of a word. So it will take \"change,\" \"changes,\" \"changed,\" and \"changing\" and identify them all as the token \"change\" instead of 4 separate words. This is essentially the \"normalization\" of text."
   ]
  },
  {
   "cell_type": "code",
   "execution_count": 77,
   "id": "1760865b",
   "metadata": {},
   "outputs": [
    {
     "name": "stderr",
     "output_type": "stream",
     "text": [
      "/var/folders/45/9490rsy120vgdzpsxzj4d3wr0000gn/T/ipykernel_30889/3263503405.py:1: SettingWithCopyWarning: \n",
      "A value is trying to be set on a copy of a slice from a DataFrame.\n",
      "Try using .loc[row_indexer,col_indexer] = value instead\n",
      "\n",
      "See the caveats in the documentation: https://pandas.pydata.org/pandas-docs/stable/user_guide/indexing.html#returning-a-view-versus-a-copy\n",
      "  reviews_subset_2['review_sentences']= reviews_subset_2['review_sentences'].apply(lambda x: x.lower())\n"
     ]
    },
    {
     "data": {
      "text/plain": [
       "'a fun, fast paced science fiction thriller. i read it in 2 nights and couldn\\'t put it down. the book is about the quantum theory of many worlds which states that all decisions we make throughout our lives basically create branches, and that each possible path through the decision tree can be thought of as a parallel world. and in this book, someone invents a way to switch between these worlds. this was nicely alluded to/foreshadowed in this quote: \"i think about all the choices we\\'ve made that created this moment. us sitting here together at this beautiful table. then i think of all the possible events that could have stopped this moment from ever happening, and it all feels, i don\\'t know...\" \"what?\" so fragile. now he becomes thoughtful for a moment. he says finally, \"it\\'s terrifying when you consider that every thought we have, every choice we could possibly make, branches into a new world.\" his book can\\'t be discussed without spoilers. t is a book about choice and regret. ver regret not chasing the girl of your dreams so you can focus on your career? ell jason2 made that choice and then did regret it. learly the author is trying to tell us to optimize for happiness - to be that second rate physics teacher at a community college if it means you can have a happy life. \\'m being snarky because while there is certainly something to that, you also have to have meaning in your life that comes from within.  thought the book was a little shallow on this dimension. n fact, all the characters were fairly shallow. aniela was the perfect wife. yan the perfect antithesis of jason. manda the perfect loyal traveling companion, etc. his, plus the fact that the book was weak on the science are what led me to take a few stars off - but i\\'d still read it again if i could go back in time - was a very fun and engaging read. f you want to really minimize regret, you have to live your life to avoid it in the first place. egret can\\'t be hacked, which is kind of the point of the book. y favorite book about regret is remains of the day.  do really like the visualization of the decision tree though - that is a powerful concept. every moment, every breath, contains a choice. ut life is imperfect. e make the wrong choices. o we end up living in a state of perpetual regret, and is there anything worse?  built something that could actually eradicate regret. et you find worlds where you made the right choice.\" aniela says, \"life doesn\\'t work that way. ou live with your choices and learn. ou don\\'t cheat the system.\"'"
      ]
     },
     "execution_count": 77,
     "metadata": {},
     "output_type": "execute_result"
    }
   ],
   "source": [
    "# Lower casing\n",
    "reviews_subset_2['review_sentences']= reviews_subset_2['review_sentences'].apply(lambda x: x.lower())\n",
    "reviews_subset_2['review_sentences'][2]"
   ]
  },
  {
   "cell_type": "code",
   "execution_count": 80,
   "id": "8dfd3d98",
   "metadata": {},
   "outputs": [],
   "source": [
    "tokenizer = RegexpTokenizer(r\"(?u)\\w{3,}\") # This pattern finds words that are at least 3 letters long\n",
    "stopwords = stopwords.words(\"english\")\n",
    "lemmatizer = WordNetLemmatizer()\n",
    "\n",
    "def preprocessing(text, tokenizer, stopwords, lemmatizer):\n",
    "    # Tokenize\n",
    "    tokens = tokenizer.tokenize(text)\n",
    "    \n",
    "    # Remove stopwords\n",
    "    tokens = [token for token in tokens if token not in stopwords]\n",
    "    \n",
    "    # Lemmatize\n",
    "    tokens = [lemmatizer.lemmatize(token) for token in tokens]\n",
    "    \n",
    "    return tokens"
   ]
  },
  {
   "cell_type": "code",
   "execution_count": 81,
   "id": "d89ca594",
   "metadata": {},
   "outputs": [
    {
     "data": {
      "text/html": [
       "<div>\n",
       "<style scoped>\n",
       "    .dataframe tbody tr th:only-of-type {\n",
       "        vertical-align: middle;\n",
       "    }\n",
       "\n",
       "    .dataframe tbody tr th {\n",
       "        vertical-align: top;\n",
       "    }\n",
       "\n",
       "    .dataframe thead th {\n",
       "        text-align: right;\n",
       "    }\n",
       "</style>\n",
       "<table border=\"1\" class=\"dataframe\">\n",
       "  <thead>\n",
       "    <tr style=\"text-align: right;\">\n",
       "      <th></th>\n",
       "      <th>user_id</th>\n",
       "      <th>rating</th>\n",
       "      <th>book_id</th>\n",
       "      <th>review_sentences</th>\n",
       "      <th>list_tokens</th>\n",
       "    </tr>\n",
       "  </thead>\n",
       "  <tbody>\n",
       "    <tr>\n",
       "      <th>0</th>\n",
       "      <td>8842281e1d1347389f2ab93d60773d4d</td>\n",
       "      <td>5</td>\n",
       "      <td>18245960</td>\n",
       "      <td>this is a special book. it started slow for ab...</td>\n",
       "      <td>[special, book, started, slow, first, third, m...</td>\n",
       "    </tr>\n",
       "    <tr>\n",
       "      <th>1</th>\n",
       "      <td>8842281e1d1347389f2ab93d60773d4d</td>\n",
       "      <td>3</td>\n",
       "      <td>16981</td>\n",
       "      <td>recommended by don katz. avail for free in dec...</td>\n",
       "      <td>[recommended, katz, avail, free, december, htt...</td>\n",
       "    </tr>\n",
       "    <tr>\n",
       "      <th>2</th>\n",
       "      <td>8842281e1d1347389f2ab93d60773d4d</td>\n",
       "      <td>3</td>\n",
       "      <td>28684704</td>\n",
       "      <td>a fun, fast paced science fiction thriller. i ...</td>\n",
       "      <td>[fun, fast, paced, science, fiction, thriller,...</td>\n",
       "    </tr>\n",
       "    <tr>\n",
       "      <th>3</th>\n",
       "      <td>8842281e1d1347389f2ab93d60773d4d</td>\n",
       "      <td>0</td>\n",
       "      <td>27161156</td>\n",
       "      <td>recommended reading to understand what is goin...</td>\n",
       "      <td>[recommended, reading, understand, going, midd...</td>\n",
       "    </tr>\n",
       "    <tr>\n",
       "      <th>4</th>\n",
       "      <td>8842281e1d1347389f2ab93d60773d4d</td>\n",
       "      <td>4</td>\n",
       "      <td>25884323</td>\n",
       "      <td>i really enjoyed this book, and there is a lot...</td>\n",
       "      <td>[really, enjoyed, book, lot, recommend, drag, ...</td>\n",
       "    </tr>\n",
       "  </tbody>\n",
       "</table>\n",
       "</div>"
      ],
      "text/plain": [
       "                            user_id  rating   book_id  \\\n",
       "0  8842281e1d1347389f2ab93d60773d4d       5  18245960   \n",
       "1  8842281e1d1347389f2ab93d60773d4d       3     16981   \n",
       "2  8842281e1d1347389f2ab93d60773d4d       3  28684704   \n",
       "3  8842281e1d1347389f2ab93d60773d4d       0  27161156   \n",
       "4  8842281e1d1347389f2ab93d60773d4d       4  25884323   \n",
       "\n",
       "                                    review_sentences  \\\n",
       "0  this is a special book. it started slow for ab...   \n",
       "1  recommended by don katz. avail for free in dec...   \n",
       "2  a fun, fast paced science fiction thriller. i ...   \n",
       "3  recommended reading to understand what is goin...   \n",
       "4  i really enjoyed this book, and there is a lot...   \n",
       "\n",
       "                                         list_tokens  \n",
       "0  [special, book, started, slow, first, third, m...  \n",
       "1  [recommended, katz, avail, free, december, htt...  \n",
       "2  [fun, fast, paced, science, fiction, thriller,...  \n",
       "3  [recommended, reading, understand, going, midd...  \n",
       "4  [really, enjoyed, book, lot, recommend, drag, ...  "
      ]
     },
     "execution_count": 81,
     "metadata": {},
     "output_type": "execute_result"
    }
   ],
   "source": [
    "# Apply the preprocessing function to the 'Text' column\n",
    "reviews_subset_nlp = reviews_subset_2.copy()\n",
    "reviews_subset_nlp['list_tokens'] = reviews_subset_2['review_sentences'].apply(lambda x: preprocessing(x, tokenizer, stopwords, lemmatizer))\n",
    "reviews_subset_nlp.head()"
   ]
  },
  {
   "cell_type": "code",
   "execution_count": 82,
   "id": "dea9437b",
   "metadata": {},
   "outputs": [
    {
     "data": {
      "text/plain": [
       "list"
      ]
     },
     "execution_count": 82,
     "metadata": {},
     "output_type": "execute_result"
    }
   ],
   "source": [
    "type(reviews_subset_nlp['list_tokens'][0])"
   ]
  },
  {
   "cell_type": "code",
   "execution_count": null,
   "id": "204f0afa",
   "metadata": {},
   "outputs": [],
   "source": [
    "reviews_subset_nlp = reviews_subset_nlp.drop(columns='review_sentences')"
   ]
  },
  {
   "cell_type": "code",
   "execution_count": 83,
   "id": "8465a31e",
   "metadata": {},
   "outputs": [],
   "source": [
    "# Saving the review data\n",
    "reviews_subset_nlp.to_csv('data/gr_reviews_clean.csv')\n"
   ]
  },
  {
   "cell_type": "markdown",
   "id": "9bd98cbf",
   "metadata": {},
   "source": [
    "### 4.c. User Reviews by Book\n",
    "Continuation from the user reviews dataset above. We need to join all the reviews for each book into one string. The dataset should have one row per book, with one cell for all that joined review text. This is needed for content-based recommendations, since the review text for each book will act as a feature in the model's search for similar books."
   ]
  },
  {
   "cell_type": "code",
   "execution_count": 88,
   "id": "1eef6017",
   "metadata": {},
   "outputs": [],
   "source": [
    "# Turning the tokens into a string\n",
    "reviews_subset_nlp['string_tokens'] = reviews_subset_nlp['list_tokens'].apply(lambda x: ' '.join(x))"
   ]
  },
  {
   "cell_type": "code",
   "execution_count": 89,
   "id": "44503466",
   "metadata": {},
   "outputs": [
    {
     "data": {
      "text/html": [
       "<div>\n",
       "<style scoped>\n",
       "    .dataframe tbody tr th:only-of-type {\n",
       "        vertical-align: middle;\n",
       "    }\n",
       "\n",
       "    .dataframe tbody tr th {\n",
       "        vertical-align: top;\n",
       "    }\n",
       "\n",
       "    .dataframe thead th {\n",
       "        text-align: right;\n",
       "    }\n",
       "</style>\n",
       "<table border=\"1\" class=\"dataframe\">\n",
       "  <thead>\n",
       "    <tr style=\"text-align: right;\">\n",
       "      <th></th>\n",
       "      <th>book_id</th>\n",
       "      <th>string_tokens</th>\n",
       "    </tr>\n",
       "  </thead>\n",
       "  <tbody>\n",
       "    <tr>\n",
       "      <th>0</th>\n",
       "      <td>1</td>\n",
       "      <td>one best book series think get better suspense...</td>\n",
       "    </tr>\n",
       "    <tr>\n",
       "      <th>1</th>\n",
       "      <td>2</td>\n",
       "      <td>first read book worst one harry potter series ...</td>\n",
       "    </tr>\n",
       "    <tr>\n",
       "      <th>2</th>\n",
       "      <td>3</td>\n",
       "      <td>remember trying time read always gave page ski...</td>\n",
       "    </tr>\n",
       "    <tr>\n",
       "      <th>3</th>\n",
       "      <td>5</td>\n",
       "      <td>one definitely good second one much happened r...</td>\n",
       "    </tr>\n",
       "    <tr>\n",
       "      <th>4</th>\n",
       "      <td>6</td>\n",
       "      <td>best harry potter book far followed closely bo...</td>\n",
       "    </tr>\n",
       "  </tbody>\n",
       "</table>\n",
       "</div>"
      ],
      "text/plain": [
       "   book_id                                      string_tokens\n",
       "0        1  one best book series think get better suspense...\n",
       "1        2  first read book worst one harry potter series ...\n",
       "2        3  remember trying time read always gave page ski...\n",
       "3        5  one definitely good second one much happened r...\n",
       "4        6  best harry potter book far followed closely bo..."
      ]
     },
     "execution_count": 89,
     "metadata": {},
     "output_type": "execute_result"
    }
   ],
   "source": [
    "reviews_per_book = reviews_subset_nlp.groupby(['book_id'], as_index=False).agg({'string_tokens': ' '.join})\n",
    "reviews_per_book.head()"
   ]
  },
  {
   "cell_type": "code",
   "execution_count": 91,
   "id": "0f78c393",
   "metadata": {},
   "outputs": [
    {
     "data": {
      "text/plain": [
       "'one best book series think get better suspense build terrific mysterious tale possible double crossing virtuousness delivers best emotional mix good versus evil meta micro scale since ally versus axis second world war first love book since year old got first book christmas hooked still several year book movie theme park later piece always dream magical world hogwarts always home said least favorite book enjoyed learning voldemort past took way much book school year much worth character ron hermione flat lack flavor leave harry alone submerge teen world filled hormone really like suddenly form one book another superficial blind cant care le harry voldemort make sense cried lot end book know happen still hut think knew true beginning knew rowling showing actually allied disguise expecting book full action definitively need happen order give room final book one change everything hoped could fun read book disappoint absolutely love charming aspect book book series sad book series almost get enough star urgh reread december 2016 harry christmas another one forgotten pretty big part pick least favorite harry potter book would probably really interesting book certain small part absolutely loved whole quite measure rereads rest reread december 2014 harry christmas literally word feel like half blood left heart devastated think agree basic series arrive review sixth book pretend saying anything new writing world building character development plot progression execution etc always element impeccable sixth second last installment enjoyed bit last one teenager feeling little le angsty brink adulthood well hermione ron wizarding standard come age shortly book turned harry follow course july seventh book usually book pick added romance way ron lavender hermione harry ginny particularly think romance strong suit rowling really genius way mystery fantasy completely buy harry ginny thing always felt bit like really made effort connect bit time see maybe missing something feel like made small bit progress like idea favorite character favorite series together like execution really feel much chemistry never really felt way hermione ron feeling eachother hinted earlier series easy accept hoping time however realize feel much way chemistry front either like said meant really bug ending book still shock core matter many time read watched play big screen hate though know serf much bigger purpose tried hard study snape action dialogue really know happens like understand better something never understood even book one snape rage hatred toward harry well anyone like snape guess get whole thing dad friend come grown ups well know serf higher purpose something could never quite come term understand cold detached time throughout series snape downright cruel even book knowing know book guess getting spoilery random person living rock read book much else say book much loved truly enjoyed deep bone read last two book loved going able study part confused really see deeper book though heartwrenching enchanting wonderfully done think series justice still going take time figure feel reference book definitely toward top list like favorite read book 2007 anticipation final book one favorite book series ending still hit hard heartbreaking spoiler alert favorite series especially since dumbledore died course loved love harry potter book book seemed much well paced previous two enjoyed lot noticed certain depth rest preceding book lack think may fact dumbledore play much larger roll also think rowling writing improved book last book harry potter read bucketful tear grin next generation kid going hogwarts ended reading series year excellent always love rowling favorite seems aside main story arc series unpredictable harry potter half blood prince make figure puzzle book good remember reading first time wish could experience feeling brain buzzing delight excitement finally putting event previous book true context reading upteenth time lost none charm intensity know reading many time severus snape best character ever written seriously read series depriving one magical experience literary life fantasy must real favorite first six book loved though end sad liked reading harry potter saga book one best entertaining previous one lack originality quite similar others book harry potter deathly hallows two favourite series remember getting book midnight release reading consistently hour sleep food getting chair would read time absolute must read everyone least life put everything hold cause book ripped apart word cannot believe dumbledore died irst sirius suck know death coming cant help book good doubt story line everything dumbledore could waited till last book know sob harry completely alone one look sob love book harry potter fun series understood last dumbledore trying tell thought difference dragged arena face battle death walking arena head held high people perhaps would say little choose two way dumbledore knew thought harry rush fierce pride parent difference world 2016 favorite book entire series still cry toward end must reread movie come thing read loud family listened audio reading going see movie despite knowing everything going happen secret twist enjoyable riveted ever probably least favourite harry potter series technical skill previous installment opinion tone thing different book remember romance abound magic mystery surely loved one also bit disappointed expected something different happen reading audio format short period time harry potter book realised despite one still quite good also opinion weakest series little action mostly volume dump lot information voldemort also raise expectation last 7th volume still reading bit night son far favorite book yet much happiness book harry find future entail suffers devastating loss confirms suspicion accurate even get experience romance personally love book one particular installment really everything completely sucked especially last half romance aspect realistic brought back lot memory even laughed loud several time book action packed leaving eager grand finale one best book ever read amazing parallel good evil gosh favorite book series far umbledore far noble man ever heard way carried expressed loved others resonated heart deeply amazing man cried tear sorrow died made book beautiful arry potter quite proved book well shown fight battle voldemort sacrificing prospect love forging past loss dumbledore symbolic protection guidance arry potter true man amazing morale love book holy cow good heart wrenching read wow spoiler alert pretty enjoyable even though seen meme snape killing dumbledore still surprised happened like book last wind pinnacle excitement need know attended dumbledore funeral merpeople sang maybe would feel differently really reading came formality way starting next book reread 2015 always saddest book series reread 2013 almost year since last read half blood prince glad decided read book one strongest book series think one favorite series many feel though everytime finished one harry potter book always said think fave turn fave fave book series even make sense could sigh last read dec 2010 well barry whiny brat loved book grow reading year old year old language nice ahw dumbledore still stop thinking ending book even dream dumbledore last night finished mean wth seriously half blood prince right prisoner azkaban one emotionally gripping challenging far still sad confused worst feel betrayed plot also jro harry reader evil always lurk malevolent head around worst possible time happened happy ending first year hogwarts well hoping answer come year sure others wait get started sigh one ever feared yes indeed one rowling must done quite elaborate series outline writing harry potter book struck many thread previous book coming together think toughest one read yet found little slower book also put order focus book review life stuff interesting read harry potter watch grow adult eye reread 2017 book ruined spoiler day came read enjoyable far seem theme harry novel one exception like refer teenager era yes hormone running rampid harry love jealous fighting generally growing entire novel read almost like prologue upcoming finale except fact 600 page long thing stepped notch wizarding world finally begin acknowledge dark lord returned minister magic sacked knightbolt installed place pressure become face ministry harry return hogwarts discover snape dada position slugworth arrogant name dropping past professor parent teaching potion school term become series paper homework harry struggle keep help potion textbook previously owned one half blood prince event last chapter seem almost isolated rest novel rush towards tragic almost universally predicted conclusion truly setting stage end much better read angry harry novel many loose end memorable good book sadly nearly good book high hope seventh book hope pull darker feeling still keep plot one piece brought darker side magical world student seemed able fool dumbledore 6th harry potter book harry using old textbook potion class seems able read invisible ink corrects potion book book signed half blood prince harry also taking personal lesson dumbledore actually lot happens book fact happened book remembered really enjoyed maybe first time around listened audio narrated jim dale third book listened narrated fourth book listened overall narrated finally growing finally see appeal actually good effect narrating often easy pick speaking voice spoiler alert dumbledore dy snape bad trust crap order arrgghh happy one disappointed sad wanted thing happier even though serious thing happening still thing tended work book one end beat hope last one redeeming stuff great series aside lot book enjoy feel like much happens setting last book appropriate good thing like relationship aspect story think would bored book sort feel like getting tired writing school stuff harry extra annoying rawr draco hate draco angry voldemort controlling anymore let argue best friend everything malfoy fault female especially teenage girl strange thing revenge even knowing ending hurt bit read watched interview jim dale describes created many many voice rowling wonderful book mention like word actor belief performer act character character wow succeed jim dale bloody brilliant would listen read anything last time read 2014 reading emma october 2012 rereading october 2011 think half blood prince favorite book series hampir setara goblet fire siap buat deathly hallows god write joint review last book loved loved loved ootp start getting alot action even book read book time still tear end read 2016 probably favorite harry potter book mostly even though lot sad desperate moment also lot bright one nice change order phoenix probably interesting part half blood prince time harry spent dumbledore learning voldemort past another definite plus put romantic awaking main protagonist although ron hermione scene sometimes cringy right standing next harry feeling awkward conversation really liked though space rowling gave ginny although still like see even help love amazing funny strong woman becoming ending course left heartbroken dumbledore death also pure fact harry return hogwarts next book know book need evolve really miss hogwarts ginny neville luna mcgonagall etc fter hogwarts harry home already lost enough reading book making devastated really afraid start reading last one anyway thought book follows omg dumbledore read january 2009 december 2011 audiobook november december 2016 audiobook first book make actually cry since tfios teary eye sob bravo jkr bravo probably favorite harry potter book set scene going happen deathly hallows also book gave insight severus snape also show burden placed draco really much disliked really enjoying read series jim dale amazing job narration think story ever get old book start see future romantical relationship character really crystallize favorite part half blood prince glimpse voldemort past flashback make world seem fully realized place always existed rich history yet read newly released potterverse story know really reason jkr basically richest person world fantastic imagination even know managed come detail wizarding world like said pretty sure book always amaze always ugly cried last like page book lot action one although part seemed drag bit mostly involving slughorn one favorite character harry seem becoming full book time found sympathizing snape conversation others criticized hermione mooning ron think presented serious studious older year first book reader tends forget still teenage girl none action uncharacteristic age group cho chang much annoying opinion happy nothing developed believe one book sadface rip dumbledore favorite series loved everything started coming together book reread preparation harry potter half blood prince harry potter rowling synopsis war voldemort going well even muggle government noticing ron scan obituary page daily prophet looking familiar name dumbledore absent hogwarts long stretch time order phoenix already suffered loss yet war life go sixth year student learn apparate lose eyebrow process weasley twin expand business teenager flirt fight fall love class never straightforward though harry receives extraordinary help mysterious half blood prince home front take center stage multilayered sixth installment story harry potter hogwarts harry search full complex story boy became lord voldemort thereby find may vulnerability sentence least favorite harry potter book still amazing thought book whirlwind everything seven book like one least mean book awesome siree rowling great job depicting life year old think love life attitude opinion important novel probably least favorite installment series interested teenage love story although love story rather sweet decent amount action novel think make book good psychology behind psychology teenager psychology behind good people villain even psychology surrounding voldemort past found interesting kept asking psychologist husband voldemort sociopath psychopath finally one part first read forgive rowling read book know mean scene tower final book part satisfactorily explained still hate fact event happened traumatic read first time around nowadays understand happen still make sad overall loved story say ever favorite transitory story harry potter kid harry potter man like middle story leaf unsatisfied ready final epic conclusion read 2012 love harry potter deeply even explain much happens book heart feeling feel cry minute ago gosh need hug always say hagrid perfection precious character make heart melt adore much 2nd best book prisoner azkaban enjoyed every word specially voldemort history incredible amazing took breath away unlike everything ever read fantastic world especially liked change relationship ron hermione funny sweet moment favorite couple series way rtcs row drowning first book changing rating series read wish written review last time actually remember gave star lowest personal rating book series also always considered least favourite book puzzling guess really enjoyed time around order phoenix forgotten lot detail flew week assume big part somewhat lower rating whole harry ginny thing well let honest never going fan mostly gotten past ddly enough never shipped anyone first time around changed particularly strong feeling towards couple would preferred instance harry ron hermione stay best friend life without couple formed within little group absolutely choose wanting ron hermione harry hermione romantic pairing would choose latter even wholeheartedly prefer friend ostly opinion rowling strong suit romance swooned way writes know supposed believe ginny crush harry put back burner year result way wrote buy le issue ron hermione honestly harry seems notice ginny one day next goodye cho ginny suddenly reveals never really stopped hoping lol anyway said made peace tried bothered le time love book many reason first foremost character development really seem get better book ending fail turn blubbering mess death book dumbledore always hit hardest may cried le first time cry strong point harry follows mcgonagall dumbledore office new portrait wall old headmaster snoozing peacefully lost without doubt one favourite character good world yet rowling made flawed well love lot okay wanted say forgotten light ending read april 2011 june 2016 thought difference dragged arena face battle death walking arena head held high people perhaps would say little choose two way dumbledore knew thought harry rush fierce pride parent difference world great addition outstanding series harry gang growing learing harry history well pretty deep stuff concerning snape amazing series enjoyed lot background information given story loved much time harry able spend dumbledore ending though made tear first time book right okay old review wrote blog http douglascootey com november 2005 last summer waited line daughter eagerly anticipated book year harry potter half blood prince book well worth wait best written since harry potter prisoner azkaban pegged event correctly surprised others found book entertaining would even recommend non harry potter fan place start series going discussing plot spoiler review sort thing bother read review nutshell need read problem book four harry potter goblet fire although enjoyed much happened book ending nearly killed learned barty crouch posing moody treated full chapter exposition recounted entire story point view found dreadfully dull often skipped year learn rowling enjoys dorothy sayers goblet fire ending fit classic sayers style ending problem book five harry potter order phoenix well found overly long time need good edit interestingly rowling felt bit six book would back tighten feeling phoenix overlong challenge anyone find obvious place cut say enjoy book read many time lost count saying book flaw execution length said book six harry potter half blood prince tightest book written date narrative woven well character well fleshed personality change pulled hat like ginny character book five back story balanced well current event see end cap lock harry exposition much improved earlier book instead story explained mouth hermione dumbledore crouch pensieve episode worked much better opinion proving old writer adage show tell well written adventure story interestingly three prediction proven true good even first dumbledore died paving way harry finally stand harry pointed book five lucky always saved somebody else teacher rescue guardian angel waiting wing hero cannot hero fight insurmountable odds second discovered horcruxes predicted year ago based event book two voldemort obtained immortality imbuing inanimate object soul done dairy delighted right one third prediction would much expect horcruxes laying hogwarts harry would quest find still mystery revealed book seven importance harry green eye relates lilly mother significance scar yet play beyond iconic purpose book six tied enough loose end satisfy left enough untied keep reader looking forward next installment much made dark book compared others sure people head harry potter sorceror stone started murder abandonment child abuse garnished bullying hinted dark disembodied cloak fed fresh unicorn blood topped life threatening trial ordeal facing grand baddie changed harry grown gone angry teenage year ready man framework laid first book progression book always dark romance much made well jkr known great romance novelist romance book american would put high school stuff meeting locker making equipment room etc surprise still student yet see harry ginny greatest written love scene teen fiction yet come fact suspect quite plausible ginny die sacrificing protecting harry charm mother used holding breath romance secondary action adventure experienced hero harry potter story told eye unless harry suddenly becomes hopeless romantic story narrative focus element always could harry potter fan ask anything appreciation sixth book series grown since last time read much tighter story remembered lead tragic ending lot evident second reading think lot confused flashback scene told pensieve think quite grasped going first time really sure terribly difficult plot get right case found reading lot faster absorbing lot mythology behind voldemort rise power time bit deathly hallows actually clearer gone back read one also sense urgency novel fourth fifth book seemed lack book meander know going leading really appreciate book review audiobook version review read 2009 forgotten much fun book say fun despite last four five chapter interaction harry hermione ron interesting fun especially growing romantic dynamic hermione ron harry falling ginny twisting emotion regarding bros ho good read memory point blank best part book look voldemort past harry reaction lived seeing similarity two perfect way bring fact voldemort without getting boring final scene amazing first one loved draco dumbledore emotion coming malfoy heart wrenching dumbledore slowly losing strength slipping wall squeezed heart piece favorite scene honest scene looking forward movie bitter final scene snape harry harry freaking throwing crucio curse attempting snape spell snape overwhelming fury never seen snape lose point always cold quiet anger lose shit completely proclaim hbp amazing itching read book ahhh miss read anticipation seeing film one say saga continues best aspect characterization adolescence thought hit home run harry flawed hero willing take short cut help grade even mean possible corruption ron hermione play sexual tennis wanting neither able take direct approach harry interested ginny take peter parker role end rejecting safety identity half blood prince revealed end provides nifty twist also strung along question whether snape working dark side dumbledore really gone found way preserve portion soul arranging death talisman left unanalyzed doubt provide root final book enjoyable ride classic series time small pet peeve think poor ron deserves better ever present comic relief even though knew coming even though remembered book much better others still put relationship dumbledore harry probably favorite whole series say nothing character dumbledore find scene two drive much novel rowling best writing slughorn good fun horrible seems sound tom riddle aka lord voldemort one favorite character time baddy yes try kill case succeeded beloved character series yes however story history amazingly developed become impossibility love character guilty pleasure book might well consist entirely voldemort history great deal anyhow love well done rowling beaten order phoenix barely exact rating like much still brilliant mean time much hate book dumbledore snape malfoy literally never hated anybody much hated snape year living dare fucking son shit alf blood prince ore like prince garbage rowling kill dumbledore sob knew die expect effing malfoy think cry dumbledore died honestly fancy character much impact bigger expected heart break everybody hogwarts much express feeling unacceptable another solid book storytelling different plot line weave together smoothly compliment term relevancy interest watching movie book concluded actually like romance ginny harry much much better book sweeter much surprise longer together nice ginny reason cooler book movie popular one harry well known one slightly different popular continue like book much realize thing horcruxes make way sense sure maybe read book fast first time around always one faves series younger happy say still one faves also trying throughout whole series understand people like snape justify action everything honestly horrible person heart break thousand tiny piece chapter cave favorite chapter book far imagery awesome reminded lot hobbit bilbo meet gollum star rounded compared last two seems mundane prosaic still really enjoyed reading chapter time brief anecdote never read series son currently write received first book christmas 2012 reading aloud together christmas 2013 read first book received entire collection gift read book dad thought well got dark hurry figured maybe frightening least heavy insisted could take wanted advance book though necessarily darker surprise death cedric still pretty much pivotal moment series opinion reached end told scary part wanted read ahead make sure scary anyway glad little bit would tough digest dependency might unhealthy foundation relationship addiction complementary shuck problem spinning forever like irony time bag sold yesterday short cra wait right well sell slim bag baby bag phat bag gonna even phat focus got man guess sort drug picture reference end eventually captain crunch get everything course help repeat bfa bachelor fine art mean addiction equal ability really really spin 10000 character day indefinitely wherever go probably end breach maybe unfortunately since single applauding audience member declining provide direct feedback text provided left mere repetition certain tired trope textual healing safe text text marriage text morning whatever halfwit self crack halfjokes night long bfa burn baby burn seriousness though without direct commentary subject hand default subject continue nature art secret art inner world musician whatnot least spied reasonable competent outsider mean old undergraduate conversation 15000 year ago answer tukk fjik reek jjek preverbal nomadic people followed buffalo herd chased mammoth existing tribe 150 people hence current evolved human mental limit 150 personality first profession immediately known second arrives thought rot13 rfcvbantr third profession humanity answer available genetic evidence suggests human being born shaman inclined wear bird feather chant weirdly haunting song profession evolved ancient greece dramatic lyrical art historian bleh musician today musician still amongst today looking checking discussing within enclosed world completely stand claim kpp invader carry subliminal message indie pop viz yasutaka nakata deliberately trying get tokyo japanese city indie pop musician mostly early something art college side pretty tricky relationship western setting tends well adversarial fact believe currently open law suit regarding practice sampling supreme court le settled favour big name rather little guy despite fact little guy like 300 rapper hip hop artist dirty south nyc whose hook basically lifted record label rhyming mef kam intra artist battle kind 2013 battle carpet bomber goodreaders management enforcer whoever carry tinge interest object study mean exactly battling limited circle book devotee entire reviewer elite like 200 people result political scientist samuel huntington called super empowered individual internet released certain economy scale certain network effect hence actually organized reviewer actually probably shake thing fact unity actually pretty difficult achieve mass sentiment course end favour resistance force wall breach easily exist make le sense without coming legalistic reading john grisham right thought legal world banking sector recently good turn fedex replacement card across pacific always chaos always filipino csrs answering phone argue japanese teller girl right front face kpp case continues blast speaker center gai shinjuku setting well somebody opened lower drawer bookoff name typo brief corporate cousin hardoff cough aesthetic analysis forced issue well japanese commentary sandaled foot gave way rush traffic speeding kei truck observation might getting way far ahead reference referenced thought also pennsylvania reviewer footnote part diaz tradition another remove part whole thing whole problem right ever know could comment aesthetic guess forced sense overall people agree japanese aesthetic superior even many western cultural model late 15th century japanese logo look like modern 2014 variant costume preserved 11th century japanese naval fleet would look horrible worn today paris street contrast sino aesthetic considered overly cloying sweet colorful yet sino response claim deeper satori greater connection tianxia daishi concept leave another day flip side aesthetic course also superior aesthetic compensate lack morality viciously beat hapless year old head laugh receive shorter prison sentence giant pink alligator question even entire classroom discussion molded topic case 45am morning want brain sound sleep addled better jump around say leave suffice say etienne around lately nadine threw possibly passionate look small girl care two fig african boy toy possibly made ambiguously ambiguous remark relatively ineffectual french boy really participating heavily social affair lead course repetition larger unchallenged point global setting english boy favoured english girl french girl favoured french boy hmm accusation prejudice fly yet mind experimented idea fashionable dinner party french girl english girl absolutely absolutely sure desirable girl present would french girl aloud would disagree limb though point romance culture might argued feminine evocative instinctual germanic culture logical cold masculine reserved unfortunately german may conquered norman 1066 almost thousand year ago pig whistle elephant castle germanic nature realize oppressive existence everyone else complete sympathy government stance eastern europe anglo american seem bandwagoning together hmm probably topic whole another day hey russian odd right make polar bear bark bark bark random animal encounter cat mostly raven foot stomping ravenspot rvaenspot hidden double secret location yoyogi park find know maybe precise psychogeographic centre shinjuku shibuya axis maybe harajuku centre shimo kitazawa west shin okubo north aoyama east fantastic planned architecture meguro south word fashionable neighborhood fashionable series neighborhood surrounded turn fashionable mecca yes rambling rambling get mean psychogeography hot day science time french specialty believe doobie doobie doo feel free specify want general particularistic term miyashita railway park copycat high line represents great insider access point shibuya nhk location top yoyogi hill give view mount fuji bragging right central place medium fuji television asahi good competitor perhaps japan bbc equivalent one three major station torn controversy president recently denied wartime atrocity actually wonder foreign staff think grandpa slain bridge river kwai company ceo declared war whatsoever hmmm one bone toss right absolutely declare absolute certainty secret japanese doomsday device located can mount fuji know dozen people would involved thing fanatic completely sane behaviour speech whoa instead exploring little chain thought explore question creating artificial break point useful healthy progression relationship time absolutely declare cut relationship girl answer telephone message within week even crushingly submit lack response way behind obediently two week least mental roadblock set decline right think part way towards making time immortal force least totally enemy however speaking last young adulthood necessarily make broad judgment life even father mean thing always related instead immediate might riff little supposed femininity french culture versus supposed masculinity english germanic culture make english male french female relationship ever harmonious reverse going matching cultural inclination yes conversely culturally english female make goodreads friend list naturally feel averse hearing precise detail french female inherently female well treading choppy water image error displeased hear believe english female le feminine french counterpart expelliarmus impression easy mimicry fun hermione granger supposed cute hollywood lie interest general explanation adopt english spelling time time guess also pointed expat life full english australian commonwealthers general yes expat bubble finally understand america continent 300 million necessarily need international understanding storm drenched island north sea require england failed understand continent would overwhelmed england japan sense also another case far exceeded 10000 character jump point making deficit created last time girl interrupted mean french girl working park hyatt shinjuku mean kensington park revealing trade secret nothing tried send another letter fail might cause massive offensive speculate whether chinese japanese girl feminine examination whether china japan feminine hmmm spinning word balloon organising marriage time say good night point repeated enough four year trained bachelor fine art word smith 10000 character day two three year however every country world permit access goodreads website one country employ period also come end specify topic desire time may unlimited top favorite harry potter book along harry potter deathly hallows harry potter sorcerer stone everything really start come together book ending took breath away anxiously awaiting movie fall trailer seen look awesome harry potter order phoenix kicked fight order phoenix voldemort death eater wait read continuation book successfully build previous harry potter book fit series link first five book last one rowling includes creature magic drawn ancient culture magical legend dialog drama elevate book well beyond level traditional child book happy read book reminds favourite spoiler alert book really amazing even made cry even know lot spoiler friend told snape half blood prince snape killed dumbledore ginny harry together horcrux fake friend actually told summary book think even know lot going happen still find painful read especially part dumbledore killed hagrid talking harry hagrid know moment dumbledore already dead really painful cried point like suddenly person think greatest actually one wizard voldemort feared dead think snape killed horcrux fake feel really terrible ended way think ending depressing sirius black killed order phoenix many question really need answer would make reading book think nervous would possibly happen really felt good book hope movie would disappoint saw trailer wherein burrow burned book though wait buy harry potter deathly hollow really harry potter series made hooked truly recommended everyone read book much better last book le angst phew june 25th 2016 july 5th 2016 star rereading cursed child come really enjoyed reading reminded first time read kind frustrating reading know draco going bring death eater castle dumbledore die ever want happen october 5th 2014 october 11th 2014 star lot fancier version especially like little touch like different font hagrid tear stained letter picture nice though book lot bigger result quite portable kept edition bag reading kept edition bed reading home good fun spotting difference edition one thing like whiskey sorceror stone pant would like get edition rest series release seventh book nears thought would prudent refresh memory potter mythos reread book remembered one high point series made excellent fact followed lackluster fifth book harry overcome childish petulance marked marred character book rowling return perfect formula adventure made series popular reader world every one book feature authorial misstep penultimate installment still nothing quite putting hermione house elf activism romantic torment jealousy ill wrought portion book mild drag like harry attitude book truth seemed much longer first time read well chapter leading climax weakly conceived point felt book dragged first reading read case well done book one whets well appetite conclusion also ton typo seemed strange remember surprised learn harry would attending hogwarts final year school upon rereading clear book six hogwarts become little place harry bump character various romantic subplots perhaps strongest reminder youth main character quidditch match thrown mix occasional offhand reference class homework studying would relatively easy transfer story another setting altogether rowling almost completely abandoned formula surprisingly seems work still disappointed find snape promotion teaching defense dark art plot point much made possible harry continue potion class harry conflict snape proxy conflict legacy father much conflict draco voldemort become interesting motive force plot found waiting rowling take advantage snape intrusion harry territory rest book found dumbledore lesson unnecessarily drawn slughorn memory seemed somewhat le crucial since dumbledore certainly already knew horcrux voldemort might want one least however rowling relied much le prolonging plot one character unnecessarily withhold information would easily resolve everything favorite book harry potter series would hard pressed tell one know one regardless still wonderful book continue harry tale fighting evil along way series go book become little darker harry little moodier reader may enjoy however bother much seems true harry character thing going life harry friend teacher classmate true character ever quite treat immerse magical world romance introduced story well nothing get graphic anything reminder character growing far becoming adult book left quite emotional big event make reader aware end story getting closer time reading review tried harry potter series stop get book get started reading spoiler alert believe killed dumbledore annual reread love romance strong point think enjoyed book rowling sense humor never let reader touch teen emotion deft old plot veers slightly voldemort fails appear learn past last dumbledore talk harry answer question surprise end surprise adult reader certainly kid taught interesting see rowling set cushioning effect kid reader would see inevitable also interesting see set upsnape shadow prince harry prince obvious going interesting watching kid try guess harry shadow seemingly adversary meanwhile voldemort threat kept alive lot good world building touch book though magic still quite seem anything whatever besides provide mean magic war otherworldly touch fascinating phoenix centaur mer folk course various monster characterwise satisfying pair ups glad see far le emphasis good blood social status fleur tiresome past get one best line book intense book yet love harry become strong dark brave man yet anti hero pretty sure everyone know dumbledore dy spoiler alert surprised death death fact feel anything really care sort read passage emotionless spell everything hate snape malfoy feel hogwarts teacher felt felt happy feel anything hit rowling attempt create wise caring mentor harry failed dumbledore anything good mentor could hire lockhart quirrel fake moody umrbridge student best interest heart supposed skilled legilimens fought ministry attempt interfere hogwarts prepared harry better tell harry anything defeating hogwarts end every book give lame speech harry bravery love saved sixth book attempt show harry anything voldemort death dy put ring tempted power something selfishly kill harry need could kept hogwarts safe voldemort could kept dumbledore army safe carrows beating dumbledore dy harry left alone fight voldemort barely lead anything due dumbledore harry potter truly chosen one potter entering 6th year hogwarts year shy adulthood wizard world still shaken loss suffered end book safe dursley holiday break still dark lord force gathering strength considerable danger book give reader bit insight life boy became voldemort rowling us look past teach important lesson choice define become friendship loyalty remain central theme fast enjoyable read highly recommended potter fan audio book performed jim dale jim dale performance book wonderful pacing facility different voice lend drama excitement sonorous tone give life snape dumbledore hagrid voldemort still able give hint youth harry young wizard though really good young woman hermione ginny lavender even begin remember movie came even started reading series see thought another one series people ob make dumb fan club true potter geek anyway people school saying dumbledore dy great wizard forgot said time started reading till started reading book realizes dumbledore great wizard going die hoped going book wrong enjoyed draco growing character arrogant seeing going high trouble made much real since dumbledore teaching harry voldemort past sure half blood prince half blood learned heir since always wanted special called prince great surprise snape shocked even killing snape ron hermione irritated end clear like pretty sure harry see help usually stand bickering like entire book ignoring made day harry got ginny really great chemistry hope get lost screen understand ended end wish never good book harry potter series definitely series everyone read get fun magical read family friend freedom continuous battle good evil rowling fantastic job series really bringing life sending good message young reader even adult writing good detailed though child series though enjoyable age plot throughout series well thought part book get little long dull push back exciting thought fifth book harry potter order phoenix dragged point dull book keep sucked last page favorite series harry potter goblet fire harry potter deathly hallows swear word throughout series nothing bad many show rarely mostly beginning book series really connect character many relate one creature series also really cool dragon centaur mermaid giant series really let imagination wild http www infinitybookreview blogspo probably one favorite series far absolutely love series little slow moving beginning certainly depressing argue rowling incredible plot weaving heartbreaking star rowling connects every single detail efficiently quite nail pattern rowling writing surprise every single book firstly hope noticed riddle reaction mentioned another shared first name tom first two book relaxed third story heating voldemort rose fourth harry true first fight fifth preparation second battle sixth like familiar voldemort knowing weak point final second battle seventh revelation bible second coming final battle rowling planned well though understand limitedly thought fact ability speak serpent make nearly uneasy obvious instinct cruelty secrecy domination oblivious reason sometimes scarier obvious one unicorn hair hagrid yeah said hagrid indifferently get pulled tail catch branch stuff forest yeh know dear chap know much worth use fer bindin bandage stuff creature get jured said hagrid shrugging dead useful strong happened aragog burial love hagrid character laughing way aragog burial sang slughorn plaintively laid rest hat inside wand snapped two sad terrible hagrid grunted great shaggy head rolled sideways onto arm fell asleep snoring deeply favorite portion book dso funny cancel anything giving memory said harry would brave noble thing thing happen wait take slow undo misshapen strengthen good afraid went nag sorry centaur know nothing cartomancy asked one seer another sensed distant vibration coming catastrophe seemed find almost comical yes comical wish professor trelawny firenze conversation book loved much blood worth mine humble dumbledore wish could humble caring dumbledore selfless way yeah fit said harry play pureblood side could get lucius malfoy rest like voldemort pureblood mother muggie father ashamed parentage trying make feared using dark art gave impressive new name lard voldemort halfblood prince could dumbledore missed vital portion led heading book amazing phenomenal ending really broke heart wait read next one wish could rate five five saw somewhere moment finish book look around realize everyone carrying life though experience emotional trauma hand paperback make much sense right prepared admit read someone said jeffrey archer novel rather like packet stale chip keep taking eating hoping one bottom little better notice bag empty feel rather disgusted claim whole story planned beginning yeah right though fair good company proust said something similar recherche temp perdu come across credible either still believe link proust potter look convince give thing sceptical good wow worth growing appreciate book fully slughorn amazing harry aka roonil wazlib amazing dumbledore sob sob wonder lily evans great potion severus let cheat shared passion whyyyy using stress exam stressed could rowling unexpected hate snape much right even though pretty sure next book redeem sorry draco young awful shit boy harry james potter determined end book could hear bad as song accompanying walked really kill dumbledore kill every father figure harry ever boy happy thing ginny yikes girl ginny totally take care need break harry pottahhhh one best series behind order phoenix deathly hallows excellent unpredictable well done great character development interesting view voldemort loved book love reading marry book want marry one three stage reading harry potter half blood prince laugh hard breath read maniacally ugly cry feeling life current state afraid everyone future right spoiler alert really understand first couple time read cry dumbledore died first time shocked saddened strangely cry read 7th book know going die anyways bawling strange yes one actually happy mean besides annual big huge fight nice especially since 7th book dreary shall say part exactly scary like tense make shiver even though degree outside specifically chapter cave also harry ginny cute rowling really focused finish ing around woman job way glad sport championship tournament silly aside done hand story became singleminded scope reader longer inhabiting world harry potter quest much complained silly aside realized finishing book especially next one missed diversion done well nice relief add much depth story character something said story character harry potter boy growed book far cry big important step taken half blood prince rowling show afraid kill precious baby would say series end point killing bold many publishing movie executive would disagree cry kill cash cow well finally rowling kill brought whole satisfying series end beginning love christ almost done reading kid one actually much better crappy predecessor cool revelation big baddie sweet as wizard battle plus snape rowling afraid kill main character either though unavoidable kind predictable mostly kid keep ruining story negative side pacing interesting character completely left even ron hermione sort simper around whining lot crucio two oblivion gradually think book got worse worse felt like rowling lost track character edit upon actually reading book finishing way time say really mind although still care much way rowling character began act enjoy book feel betrayed doubt root trust issue spoiler alert one top harry potter book cried dumbledore died poor thing second read still fantastic obviously plot pretty long drawn nothing happening rowling pick exactly right spot begin get boring brilliance writing really show carry 500 page little excitement still make page turner ending really make book hint mystery come together perfect way many character change much happens felt like read last 100 page five minute stop first read another fantastic addition series unbridled intensity plot development galore brilliant character dialogue strange amazing environment standard brilliance book however suffer much shallow teen romance hashing stereotypical gendered bullshit boy dumb girl cry time never happens real life much dating early mid book seemed like filler understand fit development teenager could done lot better book great obviously great addition series favorite whole series draco amazing one heavy quite appreciated light heartedness hormone stuff like lovey dovey stuff kinda slowly building adore ron hermione together like ginny harry together loved scene end fleur hospital wing loved luna want hear neville find end one whole lot say liked course mostly anxious get last one read honestly kinda rushed first read aloud book remember end choked much definitely time hard time getting little little sad top astronomy tower aftermath seem bother much immediately started deathly hallows still loved dumbledore died character one favorite died might added another star rating really enjoy series though still carried reading anyway well written book nothing wrong respect book sorry star miserable right cry fifteen minute feel like little kid grown love book word express christmas break perfect time read sort thing especially since also read fifth book refresh memory terrible obsession possibly quenched somewhat put rest regular working day holiday time much else planned far favourite harry potter book love way much cried hard ombuldore dying broke heart lot happen book new amazing spell like sectunsempra enemy ive read book twenty year old feel pity draco think ever done make father proud lucious snake sun bitch desn give fuck son would hide son shadow dark one bout snape know end help hating book liked snape realization gosh long time really enjoyed book compared book five series think mainly fact harry jerk friend anymore dumbledore active part life ron hermoine started show feeling ginny harry finally hooked well tonks lupin lot love action book keep page turning also interesting see voldemort person memory snake like creature man kind humanized bit feel like harry chance remember cry eye first time read dumbledore died think many time seen movie knew coming get emotional probably favorite harry potter book far aside first one liked exiting others least favorite series read half blood prince favorite book first read high school shiny thirty something adult feel like appreciated time still love draco arc connection build moaning myrtle love information get tom riddle came villain loved seeing dumbledore harry loved grawp dumbledore funeral close approximation suit love finally got remus tonks pairing even know wanted happened even love silliness evolution teenage love relationship ron lavender disaster hermione cormac harry ginny inferi creepy terrifying fenrir greyback creepy terrifying dumbledore death still crush every time waaah six one maybe accomplish goal finishing end year like one lot nearly much ootp like allowed one last moment relative levity final fight however harry ginny romancin leaf little cold simply bit part half way book like lot get harry would however screen enough form actual attachment seems somewhat rushed huge complaint depressing great harry potter half blood prince amazing rowling talented author breathes new light onto voldemort snape learn voldemort snape love story book definately nice addition serious atmosphere ron always comical relief really enjoyed seeing fred george shop great detail series think every reader definately waiting everything voldemort get complicated read book though interesting complicated good complicated though still understand everything world harry potter definately well thought loved book bought soon came read one day night luckily work next day soo upset dumbledore died like people knew reason snape killed accept snape traitor snape snape severus snape master potion harry okay find book filled different direction new spell help become favorite new potion teacher course hermione jealous ron usual mad self another adventure hogwarts prepared tear spoiler alert dumbledore death obvious amount time rowling took book humanize though snape half blood prince surprise thought would voldemort even though thought odd would proudly call half blood unknown fear look upon death darkness nothing find difficult give critical review series book ingrained young life read book would honestly today read book time book back year life always love harry friend love harry potter book bad idea read last part book feeling like seriously bad idea even know gonna happen read thing non stop finished lot filler killer ending half blood prince perfectly okay instalment harry potter series wake villainous lord voldemort return power year old harry return wizard school study voldemort past suspect peer plotting evil engages usual amount magical shenanigan first book voldemort evil intention open wizarding community actively bracing war harry understands role one capable defeating voldemort though harry story still confined boarding school book finally get sense really stake battle voldemort half blood prince includes decent amount school magic fun plenty humorous teen romance though book exactly driving complex plot apart couple isolated ineffective attack much menace behind antagonist plot tension come character hearing growing stream death disappearance via newspaper even half blood prince plot ought vital importance considering title turn relevant overall story nonetheless enjoyable harry deviously succeeds potion class following half blood prince handwritten instruction old textbook disturbing prince entices harry using dark curse another favourite sequence harry us luck potion convince one professor divulge shameful memory however like longer harry potter book fair amount padding padding come needle repetition example harry notice arch rival draco malfoy acting suspiciously dark art shop theorises draco become initiated one voldemort follower relay suspicion everyone listen many separate scene though one belief repetitive discussion add nothing new harry theory plot progression redundant thing happens harry suspect teacher professor snape aiding draco harry repeat suspicion multiple people separate scene convinces one generally waste reader time harry prolonged investigation draco malfoy activity composed endless failed attempt make harry look incredibly incompetent earlier book harry quite clever capable seems get progressively inept book ineptitude successfully stretch weak central plot required length expense transforming main character total ignoramus another source padding involves usual assortment subplots vary immensely interesting personally found quidditch subplot tiresome honestly wish rowling retired sport couple book ago rowling best make fresh different never fully succeeds mileage vary equally underwhelmed subplots like tonk deflated mood professor snape transfer potion classroom padding come rowling surrounding interesting moment much extraneous filler example dumbledore first take harry memory study voldemort past spend several page following completely random character bob ogden getting point actually ever really get point although mildly interesting memory show voldemort family unexpected light exactly contain super crucial information dumbledore could easily convey theory voldemort much succinctly instead drawing year via lengthy trip memory lane written final chapter book work wonderfully fantasy spectacle action scene final confrontation also advance series overall conflict change everything going final instalment incredibly frustrating harry dumbledore effort revealed nothing end day think half blood prince moderately enjoyable unfortunately overlong repetitive ultimately futile great series one like everyone else fell love admit sort problem plot hole limited character development like world enchanting captivating suck find care detail slow start book went vacation take think far saddest book time incredibly revealing wait read last one sobbing mess end one stop looking review read series seriously still read unlike earlier book series read many time used read waiting later book come first time revisited harry potter half blood prince since finished series different experience reading book know whole epic conflict voldemort work relatively unspoiled first reading time rumor major character died theory scrupulously avoided medium spoiler might lurk read whole book two day day release got enjoy experience surprise second time knowing coming strike book six actually bittersweet half blood prince dark brooding preceding book order phoenix dolores umbridge gone hogwarts bright happy place standardized testing wizard student behind harry friend seem enjoy class le pressured leisurely find time romance quidditch weekend hogsmeade learning apparate harry furious ignored dumbledore order phoenix back good term headmaster even singled special one one lesson aimed help defeat voldemort time come book six calm storm outside hogwarts terrible thing happening voldemort back daily prophet always full story kidnapping murder tragedy show dark lord gaining ground harry others aware misery insulated dark time every hogwarts refuge bubble dumbledore wizard voldemort fear dumbledore school safest place nowing harry last year hogwarts rather anticipated 7th year think kind lovely generally nice one got quidditch team captain finally potion teacher could stand gryffindor quidditch cup harry ginny got enjoy week happiness course idyllic calm last conclusion meant set final book deathly hallows cliffhanger traditional sense end half blood prince leaf lot open question relatively self contained plot book series knowing coming changed perspective ending first time read stunned horrified dumbledore death also snape apparent betrayal time approached final chapter strong sense inevitability random spoilery thought making way litchick epic harry potter group read going since thanksgiving thinking along snape horrible horrible remembered horrible big reveal end deathly hallows fall flat enough redeem nasty character still kind feel way retrospect think part half blood prince snape give harry saturday detention harry malfoy duel bit give away etention really lenient punishment almost murdering someone much suspicious time read book even attempt read review honestly going regret two year since read first time yes two year separated tte moment finished book started book ask know book particularly like well duh like book mean one favourite book reason plenty mention one tom riddle knew beginning series lord voldemort moment knew harry enemy one murdered parent certain curiosity know done know past born yet fully understand till book finally given backstory backstory one would even afraid getting know bit past indeed intrigued character afraid death book know one talking know found shocking sad think thing happeing around many surprise revealed book got intense course dumbledore really gone still loyal people true sure miss word wisdom carry treasure like one took book unknown fear look upon death darkness nothing reason mean true reread last book know expects lot darkness death even surprised one revealed previously series prepared continue harry task horcruxes bought overall rating series rating note june 2011 mark gosh know many time read book annual read changing rating series come conclusion read many time worthy loved book think one harry finally start grow little though still way angry taste long time since maybe normal loss life loved kind split team bit could understand important also like blossoming young love happened book fighting love hope point loved weasley twin always right amount lightness needed dark time thought favorite book series never honest time think malfoy growing harry like malfoy journey kind flip side harry along ron hermoine best friend anyone put much harry last book think realizes lucky really gave reading book many time decided growing pain necessary lead last book series stuff like mostly harry anger especially last book really kind work also like constantly question dumbledors thought snape still really great book though read listened time around usually listen read combo sometimes 2009 2010 2011 audiobook 2012 audiobook 2013 ebook audiobook 2013 2014 ebook audiobook jun 2014 2015 ebook 2016 ebook hardcover audiobook 2017 ebook audibook love enjoyed reading book thrilled throughout book actual rating damn harry potter getting darker romance book progressively one kinda creepy though saaaaaaaaaaaaaaaad cause spoiler much care one way thought really slow start see definite precursor last one first book end cliffhanger last 250 page spectacular kept reading morning positively brilliant stuff stop cry give book one star broken heart far favorite harry potter book whole series phenomenal obviously book absolute favorite read looking forward rereading honestly heartbreaking thrilling time favorite book among harry potter series think surprised read first time never imagined harry ending ginny amazing book overall source multiple copy book cost unknown title harry potter half blood prince series harry potter author rowling overall rating star okay book genuinely broken heart tell saddest part copy page literally tear stained growing read read whole series multiple time literally tell every detail every book every single time break heart okay series especially slightly sleep deprived read book think book make feel kind okay despite sad world around undercurrent sadness grimness also humour glimmer hope kind make feel like everything okay wham thing shall named happens nice thank word count 168 923 rating far better remember read harry potter book several time last two well much darker squeamish especially come thing emotionally invested picked 6th book sure want read boy wrong good good rowling got quite excellent writing throughout year logical mistake find first book gradually fewer fewer end book first sight bother yes mean find something complain always possible mean much tone gradually changing fifth book get mix focus school voldemort big dark umph end tell bet half blood prince lesson school stuff grew love clearly secondary said good bye fred george left school least feel character still hogwarts lesson quidditch game feast barely mentioned passing point shift clear harry preparing grand finale good thing yes great whole story even le fun got understand read sense novelty thing harry find le stress also le excitement first time read nerve racking harry bit grown still prone teen behaviour far far le order phoenix character developing getting multidimensional dumbledore herione ron everyone even side evil like malfoys love growing complexity thing black white simple lotr orcs creature utterly dispensable gravitas killing brainer dealing people people much complex value life much difficult estimate people simply divided good bad much way choose act rowling brilliant showing actually rowling brilliant period effortless way conveys thing deserves highest respect much showing author freaking study writing notice first happens took conscious effort side see engrossed story love love ending love reaction member order phoenix news love luna neville rowling introduces many different type people varying quality worth respect love ron hermione relationship start changing love dangerous using spell really know danger magic presented love teacher student ministry magic cause politician speckled various stinky shitty thing love cold calm becomes harry reaction love lot thing unable name time including action scene would easy fuck fight yet dynamic exciting wow wow reading book helped admire rowling even okay also heck neville review entire series follow blog finish series enjoyed even read way break dark stuff still permeates book ending terribly sad think invention felix felicis really great love play series get better reread honestly loved cried laughed hugged feel pretty strong one imagine happen even know spoiler last book harry potter deathly hallows first read child whole series definite grew heck parent loved much used watch movie together get darker darker book beginning end mystery love queen rowling even begin review book except say matter much know always devastating read always tear awesome think shed tear end poor dumbledore third time still cried end enjoyed whole thing end except ron hermione arc work age group intended although pleased time dursleys cut drastically short later book seems replaced harry bad temper misunderstood insistence investigating problem one else agrees problem say might right persistence bad temper misunderstood attitude put distinctly sympathy sirus black ancestor portrait last book acidly pointed attitude common boring young aside enjoying book much others chapter always still amazed little remember plot whether small point large update seriously chapter trail horucrux harry dumbledore remember one thing hand testify suspenseful book well written one stop listening final spoiler included sniffle finished remember dumbledore died remember somehow book ended fan violently arguing whether snape good evil adamantly maintained dumbledore asking snape kill snape want think reason tended forget end book got battle confused bigger battle end deathly hallows well time tell requested audio version deathly hallows waiting line last movie must made many people revisit audio version wonderful satisfying book dark course would harry must left nothing voldemort final reckoning happen without losing loved one along way least classic story actual rating star seems seem love book much want good book well thought executed yet enough call exceptional think book personal problem love romance book get wrong one tested limit handle max relationship one time prefer one major plot point much sexual tension angst bill fleur beginning fine hermoine big arching romance going entire series loved lead previous book little moment jealousy protectiveness owever relationship book much tension drama pettiness enjoyable feel like harry ginny relationship enough lead towards least harry perspective basically harry asking ginny join ron hermoine couple time feeling disappointed rejected dean one moment contact butterfly like feeling would fine ginny random girl ginny friend someone harry known long time would nice transition friendship relationship fleshed little immediate ending harry like together dangerous eye roll could anymore cliche annoying see tell ron hermoine stop friend tonks lupin one randomly thrown relationship would fine thrown peaking book much one book opinion would better spread series fact talking horcruxes friend reading wondering half way book surprised explained already asked going book answer nothing relationship drama actual plot basically stand still first half book said second half book great idea horcruxes seriously cool pretty awesome seeing tom riddle story book got see dumbledore human light great untouchable wizard funny quirky simply delight adventure harry super fun fun mean creepy ending holy crap plot twist aving lived year without reading series thing bound get spoiled unfortunately already know snape turn good guy kind suck still excited see reasoning behind action definitely expect snape one kill dumbledore ahh ending action packed climatic awesome totally left pumped finale half blood prince arguably one best entry series best thing love insight tom riddle past dark stuff personified voldemort instead keeping generic evil guy lot little stuff remember reading made really glad chose reread book last one never gone long read review entire series even sadder read without knowledge dumbledore death planned whole time reader inevitably read barring inconvenient spoiler sad one great different feel whole book felt like one geared toward girl relationship one felt like page turner first rating star really liked book second favorite series rowling kept flipping page entire novel favourite series many many reason ginormous draco fan difficult write review book first three quarter book could renamed harry potter normal life inside hogwarts without something like opening chamber secret triwizard tournament give plot driving force spend lot time harry ron hermione class figuring love life worrying voldemort way immediate dangerous ending ending much jerk spoil ending book harry finally leaving boyhood behind becoming man uncomfortable sometimes uncomfortable reader friend following blindly intent equal merely sidekick everyone make ridiculously stupid decision act like jerk okay feel real people jerk friend fight people grow apart continue struggle onward really complete loss read book earlier one time favorite series even though book ending broke heart realize amazing book big sacrifice aka major important character piece heart go dy mean like come read final book immensely sad think last book wrote review read accidentally deleted whole bunch review reorganizing shelf guess read give accurate review read series determined least favorite harry potter book see still stand read deathly hallows long remember much unfortunately really figure like one much think maybe le humor le exciting little side story really sure quite spark previous novel book learn horcruxes harry lesson dumbledore harry made captain quidditch team teen romance play much larger role draco something harry think death eater ron hermione believe half blood prince harry potion book obviously play large role identity finally revealed end learn backstory voldemort well think darkest book although last book series come close second read series age therefore think forgot lot major plot point necessary final book series main character harry ron hermione first book seriously thinking relationship serious tension ron hermione clearly feeling reluctant say anything main thing affecting story voldemort rise dumbledore plan harry drive whole book secondary character include hogwarts teacher pupil order ginny come book fantastic character first time draco malfoy seems real threat storyline excellent pacing great full tension way leading almost shock ending read book already reading last book series still appreciate little bit book star way dis harry potter must say really disappointed length book read oon blog okay guy say anything let make one thing clear know whole world read book nobody would even want review something awesome see love series going away without least review started reading series three month ago yeah yeah stupid whatever never actually interested reading book seen first five movie half sixth one realised read book really grasp began end normal life beginning one much cooler read realised stupid even thinking reading book around whole class read beez annoyed reading everything book movie everything still read obsessed book great everything character building plot perfect wish rowling would come personally smack face read earlier someone still read read first book last trust never ever regret read fantasy imagination love finally find voldemort weakness ending fabulous sobbing half hour book also laughing hysterically remembered punch line book rate best thing ever happened officially potterhead lot love pasta raven spoiler alert harry potter half blood prince far favorite book outside outside harry potter series writing simply superb offer devoted reader depth voldemort past offering budding romance amongst character constantly reading could imagine putting book good part thought harry teenagerish attitude toned pleasant way due fact becoming insightful mind greatest enemy realizes must one kill voldemort harry potter always emotional read waterworks multiplied time cried harry trimuphs tribulation far saddest moment life far dumbledore death funeral cried sleep resulting squinty eye palid complexion next morning could cared le one favorite fictional friend died needle say never gotten shock horror see screen tear read painful utterly worth book much origin voldemort others far least favourite series next goblet fire harry top form though whiny angry brat previous book get quite bit snarkier nice however think could really get first three quarter rather boring mostly teenage wizard drama slightly interesting normal teenage drama say story really seems lose way ending though action packed lovely hope sign thing come deathly hallows beginning painful decline initial thought anger happened towards end book overshadowing feel whole review come rage dy review actual rating never ever felt much rage star spoiler even going attempt write full review book bazillion detailed review instead share reading feeling book reached poignant section towards end found yelling book side country time read gone harry potter world universal studio orlando fellow book nerd friend annette husband got itch read one borrowed hardback copy would taken rage book sent hateful rage filled message friend annette directed course needed vent hated rowling said even going finish book part walked away finished even completed series annette twisted arm convinced calmed finished book finished series written rowling list author read however agree annette tell necessary story mean like rest book sooooo good avoid giving le star rage almost put dnf shelf star though always wish could see harry ginny cuteness know wholly amazing rereading book pick teeny tiny little thing bring element whole story together exception two men little ahead standing outside three broomstick one tall thin squinting rain washed glass harry recognized barman worked hogsmeade pub hog head harry ron hermione drew closer barman drew cloak tightly around neck walked away leaving shorter man fumble something arm barely foot harry realized man mundungus scene mundugus selling sirius mirror aberforth hello appreciate truly wonderful sorry waste review long post general update felt like say keep getting better goblet fire blown comfort zone started dark path order phoenix added showing far enemy infiltrated world half blood prince finally see light end tunnel darkest day small glimmer light hope emotional roller coaster novel best thus far deserves full star scream ready part immediately rowling biggest plot twist ever book actually surprised miss rowling attempt romance loved bit 2nd read movie good number six long series liked getting see different side well known character draco fear family life doens really want hurt anyone harry ginny finally get together finally get know snapes history start real work finding horcruxes fond scene dumbledoor harry cave meant scary found ludicrous like scene snape save draco as kill dumbledoor snape favourite antihero ever listening book 6th time need story carry along without much effort yet capture interest challenge see saw last time confusing time life comfort read exactly need rowling jim dale narrator always deliver book harry find potion book former student follows instruction produce extraordinary result hermione deeply troubled book insists turn half blood prince hard review book without giving plot away stick generality learn lot tom riddle came lord voldemort reader begin little sympathy reveals cold bloodedness young age go way beyond mind schoolboy get see lot pensive begin reveal prequel stage set harry come hogwarts think pensive absolutely brilliant device would love one suddenly harry seeing people past without interpreted flawed memory think memory also reveal depth rowling talent constructed book knew beginning going every step way tiny bit information book come back book importance revealed fact think keep coming back book make connection completely eluded point awe depth organization ostensibly juvenile fiction jeez forgot long book dumbledore dy ruined muahahahahaha time read best series getting towards end audiobook reread think might read book originally came opposed multiple read others got release great revisiting jim dale fantastic always faster richer productive previous installment finally getting somewhere one drone teenager problem much past two book yes dating trouble come nowhere usually quite funny temporary instead dramatic mock character easily halfwitted fumblings move quickly real plot also many thing recalled past place name past event actually acknowledged used plot finally rowling expanding wizarding world much focused using develop character ron still annoying ever one thing never change least something bad happens could laugh malfoy snape left background book know going month time simply tiresome mysterious situation continuously brought harry questioning mind resolution end although suppose put climax somewhere lot dialogue toward end felt contrived rowling suddenly get lot information stuck anyone mouth least dumbledore death made large amount annoyance made tragic meaningful death main character good book complete without killing least one person important liked one best far voldemort actually becomes realistic villain past motive get plot speak longer scary mysterious force shadowy background finally dumbledore actually talk harry specifically going voldemort finally question answered get six book reach harry still obnoxious ever one hindsight really going snape dumbledore show much dunce even dumbledore seems foolish ignorant harry trusted communicated much throughout year ask tell happening could save lot tear time effort also think whole situation ginny really bother developed book leading book forgotten one day harry realizes like really lazy rowling come main character suck much make romantic interest sit stale useless background protagonist finally notice bit dumping even going set spoiler minor part much deeper story insignificant harry ginny character sits take harry brave moment subtextual poignant relationship stuff foundation ginny another person harry reject go try ultimately screw bailed lame excuse romance deep meaningful foundation actually set book even beginning book alright harry potter deathly hallows man one much much better realised first time read killer great story wait read next one learn lot lord voldmort background overall storyline move forward pretty well regard harry dumbledore draco malfoy snape another fabulous addition harry potter world book like rest delf life harry potter boy lived character series well developed fall love many world building dynamic many people read book waiting letter inviting hogwarts even age requirement reread series every year assume point grow old year still love fiery passion book finally usurped prisoner azkaban favorite intense fantastic character relationship development great background voldemort powerful idea love family unknown fear look upon death darkness nothing holy crap thought order phoenix heartbreaking ending well one left lying still unable speak hour absolutely devastated frightened going happen next person look dead thing dumbledore seem hold everything place though everything right world around seeing vulnerable weak painful distressing really enjoyed reading one showed voldemort came evil vibe making reader curl seat like belong wizarding world noticed story grows harry grows older love really wish seen movie reading experience much different still recommend reading even seen movie thousand time definitely one favourite favourite series harry potter half blood prince omg say always knock park whole series masterpiece somehow even sixth book feel bored story yet think bored follow pattern harry home eager adventure get call adventure train ride hogwarts first class typically new dada teacher one new potion teacher problem draco quidditch stuff christmas break harry get suspicious try figure going big plot twist bad guy expected school year finished head home somehow though book enjoyable add top seen movie still pretty vividly remembered half blood prince event transpire sadly mean course knew plot twist turn still enjoyable though reason maybe reading book consecutively since december january chomping bit read deathly hallows maybe also dread last main harry potter novel still really curious see exactly snape presented final book know plot twist still need see explained book instance think movie explain origin name half blood prince hoping book explains lingering question snape also curious see final book presented compared movie since make two movie one book curious moved scene around sort give movie beginning middle end question one five star also beginning regret given chamber secret lone four star rating series think looking back although chamber secret seemed kind hum really add many important thing series ginny interest harry ministry magic hinting horcruxes tom riddle diary name tom riddle harry speaking language snake know book appeared really live predecessor lot happens short amount time anyway half blood prince five star course whole series truly masterpiece deserves every bit acclaim given really hate age live full stupid evil people great leader nowadays martin luther king thomas jefferson george washington lot literature think rated author appealing teenage girl crazy fad despite feel measure pride know live time rowling think time gone lived day austen dickens twain poe say lived day rowling make feel bit better life least one great person world know walked earth time least one significant addition literature happened lifetime sadly took couple decade caught onto least finally got around giving series genuine chance real glad somehow read harry potter book yet whatever reason quit idiot really missing masterpiece walking right freaking mona lisa even stopping give glance argh cried favorite series something noticed rowling fondness phrase bored first ended really enjoying book book definition sexual tension killing frustrated character reason say ending completely shattered cry school imagine look got would enjoyed much known would die half blood prince spoiled majorly really hindered entire enjoyment still fabulous installment series looking forward reading final book harry potter deathly hallows plot character writing world building total quickie review another fantastic book harry potter series whining harry friend frequent could tell still teenager irritating complex relationship formed plot took darker turn addition horcruxed made plot interesting exclusion quidditch triwizarding tournament climax beautifully done chaotic controlled well executed knew going also turning point draco role series really took strong position antagonist well twist snape end unexpected awesome set stage last book spoiler alert would think emotion comment everythings engaged fiance would glued together lip obviously much love rest people world simply dating maybe overwhelming emotion caused simply say want read together know wanting finish sixth yet another reason caused realize yes need minor panic attack whether man right accepts fact twenty one year old still reading harry potter remember exact place sitting read dumbledore death scene first time remember second first time sitting edge bed broke tear partially late night partially course dumbledore freaking died second time sitting bed next reading novel monk kidnapping reading malfoy internal conflict good versus evil first time read dumbledore death scene overwhelmed skimmed rest novel quite frankly much second time read dumbledore death scene overwhelmed skimmed rest novel quite frankly still much put head shoulder sighed looked dumbledore whined smiled said falsely sympathetic tone growing series never fully understand appreciate fact try maaaaaaaaaaake out know lot awesome stuff happened book really get past harry snark fact everyone constantly trying make book god love rowling hilarious thought book hard put previous book series glad able start friday night could spend lot time reading weekend next week probably going frustrating though anxious read last book nearly much reading time would like work week giving book star reason gave previous book star much gripped took life causing spend every spare moment possible reading mean like everything happened book really write anything else risk spoiling fun case torture anybody still read series rest spoiler tag know said last review wanted see dumbledore really happy book much really great moment harry hated died character rowling could killed one least wanted see die might odd death emotional impact think either ron hermione would one got killed hand dumbledore death take completely surprise niggling worry since early book doomed die end even really explain aybe character type kindly wise elderly mentor often seem fare well fictional story kept hoping wrong thought would happen last book happened though kind see point book sake harry character growth since main character force one making big decision arry dumbledore wisdom fall back even ignore way often safety rescue often provided thing add though always waffling snape loyalty hard consider somebody one good guy hold onto anger steadfastly treat people prejudice laming harry father behavior unfair irrational really working voldemort seemed like often put petty interest ahead good cause never 100 sure evil acted misguided hateful person still genuinely working voldemort behavior big act make certain voldemort would believe still working even usually swung toward one last two explanation dumbledore trusted imagine dumbledore wrong know infallible figured really really good reason trusting snape arry believed dumbledore bamboozled snape apparent regret leading death harry parent snape hated begin hat make sense dumbledore definitely fool wise enough cautious tom riddle would le cautious snape undeniably serving voldemort seems like dumbledore belief snape could trusted also thought weird dumbledore said please snape right end asking kill hat harry interpreted anyway dumbledore really realized point snape really side still think would done anything remotely like beg life seemed wrong completely character help hope sort trick going sort elaborate ruse thing really appear know really unlikely though know harry apparently became unfrozen paralysis moment dumbledore died phoenix fawkes began mourning shortly death also character saw dead body saw snape agree unbreakable promise would help malfoy accomplish objective malfoy made pretty clear kill dumbledore hand snape really voldemort side surely would told dumbledore plot would time come something probably overthinking want dumbledore die moving quite bit teenage romance angst book ore wanted although least harry cho thing seems well like cho inny least likeable hermione ron thing got little annoying though mind relationship developing two obvious coming early immature way handled got tiresome know teenager behavior abnormal still really want read wanted throw kindle across room every time read ech response review book booklikes bit discussion time turner thought worth pointing referred book arry ron hermione talking hagrid sign course year hagrid suggests could applied time turner hermione tell hagrid smashed entire stock ministry time turner seems imply application process people request use time turner several book seemed like hermione given bizarrely unique experience allowed use one seems indicate unprecedented also tiniest hint previous book clear time turner actually referred mention last review loved first chapter book get see muggle prime minister learn magic interact minister hat funny chapter enjoyed even though anxious get back main character umbledore interaction harry family couple chapter later hilarious one book love book much else say love really want series end star loss word fortunately need even say anything everyone know wonderful rereading think favorite series hogwarts hogwarts older kid interesting le harry charging around angry plus omg romance mention really suspenseful well constructed problem ridiculous spider man style cannot together dangerous bullshit believe second omg omg omg ending believe haha kidding book shelf around year release july know new kid coming reading adult younger reading put spoiler right beginning like harry review spoiler may pop continue read anyway yes summery review curse finished need type penultimate chapter harry potter saga half blood prince seeing harry even upset start order phoenix lost godfather end adventure depressed sad missing sirius desperately also feel completely touch going one saying anything fear getting caught wrong hand understandably really know side really even think know really luckily harry soon sent burrow helping convince horace slughorn join staff hogwarts harry think going new defense dark art teacher since position new face every year burrow learns bill fleur goblet fire engage wed following year happy news otherwise dark time harry suspect malfoy good well malfoy young wizard run knockturn alley dark magic shop harry found back year two malfoy usual acting suspicious setting half harry motivation much book school learn slughorn potion teacher snape finally earned role desperately wanted defense dark art teacher much heroic trio dismay whatever dumbledore member order may feel trust harry least since slughorn potion master harry ron able join newt class earn proper grade begs question student failed owl back hogwarts passed repeat maybe come back crabbe goyle back guess repeat anyway newt level potion class harry manages get hand copy text owned someone called half blood prince roll credit learned nothing previous adventure harry keep book us advantage gaining high praise favor slughorn earning vial liquid luck touch movie minute liquid luck scene easily one favorite series harry also secret private lesson dumbledore knowing tell anyway dumbledore say harry free say happens meeting ron hermione dumbledore dumb pensieve aka memory pool silver goo harry taken key point voldemort life seeing parent life orphanage time school left hogwarts memory provides insight dark wizard harry feel fight prophecy even dumbledore explains prophecy irrelevant voldemort made come true even harry heard still would wanted end voldemort life due pain caused young harry dumbledore dumb one memory learn horcruxes well almost memory tampered dumbledore put harry get real memory slughorn reluctant witness harry otherwise distracted school quidditch following malfoy katie bell teammate ron cursed dark magic survive harry sure malfoy behind intent kill since slughorn provide memory willingly harry focus attention malfoy sure using room requirement whatever pressured heavily dumbledore harry finally manage get memory slughorn using vial liquid luck love scene movie essentially got slughorn drunk aragog big spider chamber secret funeral convinced needed give memory memory provide bit insight horcruxes kill someone put bit soul object thing say diary father ring mean completely killed part soul trapped object voldemort wanted live forever found way evil dark way also kind sad imagine part soul trapped spoon eternity lesson also show harry dada position cursed voldemort wanted dumbledore dumb said could imagine voldemort teaching would ready made army hundred soon since saying dumbledore unable find anyone hold position year almost brought bit continuity error book one way hagrid introduces quirrell seems though held role quirrell school year harry first year hogwarts first year teaching dada directly said book later cleared rowling goddess thing harry potter word gold dumbledore find location one horcruxes take harry journey get one difficult part book least harry force potion dumbledore throat request order claim horcrux nearly get killed zombie like creature manage escape back village outside school see dark mark sky fly back school shit hit fan draco order voldemort supposed kill dumbledore harry even end feeling bad say anything happens snape snape kill dumbledore world shattered read word got finished book yet still remember clearly everyone cursing snape name name guy drove people line midnight shouted snape kill dumbledore car window least first theory cropped later side snape actually one leading quite want see harry kill next book except guy car fuck guy harry kill first night day everyone hated snape like harry good side always side voldemort thing happened tonks want lupin eventually give ron made lavender brown piss hermione hermione pretended like guy name bothered look right harry kissed ginny right common room gryffindor quidditch cup front ron harry going back hogwarts want find last horcruxes defeat voldemort want kill snape obvious reason overall great read much happens needed happen bring final showdown next book sad say read know horrible harry learns lot voldemort probably wanted know needed know sometimes knowing motivation behind someone behavior helpful knowing defeat voldemort wanted powerful wanted hurt people young age course would hide soul object belong course would arrogant enough believe putting soul place would give power beyond measure still human sort well point giant dickhead lot power like president defeated harry know learn trust friend favorite book harry potter franchise new mystery added suspense really kicked notch saw new insight familiar character writing flowed smoothly story progressed reasonable pace harry potter dumbledore never straightforward anything ever also harry potter think harry part least favorite far still great end accounting think favorite book le whiny book tighter long enough detail savored actually like fifth ooof heavy end good set end though lot okay book fantastic lot relational development naturally development arching plot book fast paced eventful really believe done already quite compare order phoenix top others believe come far series emotionally involved book ending left bitter taste mouth felt betrayed horrified event occurred ugh emotionally damaged drained say anymore book feel tear heart plot turned even intriguing book hogwarts safe used deeply felt emotion character propel action harry help notice mysteriously something dumbledore malfoy especially loved reading every bit book twist turn plot matter heart wrenching lot get every time part beginning arthur molly weasley exchanged question precaution make sure death eater beyond adorable also book realized draco malfoy boy made bad choice never choice harry however never le interested quidditch rapidly becoming obsessed draco malfoy whoop drarry real even sectumsempra encounter still ship draco harry tension palpable okay fix said hermione pulling essay toward taking wand love hermione said ron sinking back chair rubbing eye wearily hermione turned faintly pink merely said let lavender hear saying waaaaaaahhh fangirl moment first time ron finally said love hermione ship hard romione half blood prince severus snape professor snape finally got teach defense dark art book absolutely one favorite character like draco malfoy also fix choice follow narcissa malfoy professor dumbledore asked unknown fear look upon death darkness nothing albus dumbledore professor albus percival wulfric brian dumbledore character revered great number people certainly one personal favorite heartbroken first watched died movie even though knew going happen still help sad reading reading book made feel kind feel book movie dreary vibe term color background atmosphere another excellent read heart feeling excellent finally get good look voldemort backstory although rowling start introduce many new idea element pretty mind boggling think wrap book may person world upset death end affected let face still death book rereading book age still equally awesome day finish harry potter series challenge accpeted one keep wondering half blood prince cried cried end one even though knew ending inevitable end book seems like joined next one probably depressing end book series got tear ear reading end lying back bed one moved soooo much faster loved recent read november 2015 love book much horrible feel give book amazing absolutely brilliant plot intricate thought perfection every little detail worked ending sad full darkness death ahead lit ray hope love book love whole series competely amazing waking nightmare comforting whisper dark safe really imagination last greatest protector died alone ever one warned series would break heart dramatic end story continues course great moment one ron hermione getting together harry ginny escalated way fast strange say romance part book entertaining part end drama course entire time story dull stuck malfoy missed adventure part fantasy world hardly new character new place yeah push book ending good saved book spoiler woah snape killing dumbledore thought abt certainly unexpected dumbledore trust snape much hope answer next book last book think best one also still approve fleur bill wedding spoiler alert brilliant story knowing know read series way time reread provided much depth example never caught fact voldemort truly curse defense dark art position mean assumed never truly known understood snape action time well made book interesting tried work everything also decided hagrid act bridge understood feared friend creature deadly carry dumbledore tomb also carry harry back castle voldemort belief dead loved watching friendship ron hermione blossom romance mention relationship harry ginny really get anywhere end book good book part brilliant series believe enjoy every stage life update time read book enjoyed far better reading let spend book furious dumbledore done past make book chore get still bugged dumbledore secret bothered one ever listens harry despite fact guess proved right nearly every time throughout series far reserved corner mind severus snape betrayal fun read attitude well care everyone wrong sake book traitor abuse thrown student throughout rest series quite content send hate return yes know fictional earth mean feeling impact book entirely real grew reading always loved every bit half blood prince best novel really think showed bigger part pre story never knew also showed made snape exactly way going spoil anyone lived rock read strongly reccomend favorite book entire series harry ron hermione longer little kid still hogwarts love finally moving relationship falling love usually favorite part book book dumbledore finally big role appears several time help harry better understand voldemort task hand finally book spelled plain hermione ron thing favorite part first read book remember first read part ron taking love potion realize happening telling harry love someone absolutely ecstatic thinking meant hermione wrong course still love chapter top ron hermione get love interest harry however like relationship much slightly better cho harry reading series found feel chemistry harry love interest think feel interested invested love interest first like cho moment state pretty playing quidditch even mentioned every time encounter harry thought tell much like fine dandy feel connection fancying pretty much decides like cho pretty really know going pine next year actually one date realize complete pain point pretty much forget together work need interaction little hint chemistry reading book feel lack back relationship ginny harry head love sure book introduced fully ginny weasley character outside little platform introduction count book ron little sister sort celebrity crush harry harry save life good stuff like twelve epic romance development harry living hero role ginny pop book casually always seen pretty much ron little sister really get see development teen year way harry fifth book even good part fifth book mind still little eleven year old trapped chamber secret fifth book ginny frequent character starting beginning chapter big battle ministry still feel kind inkling either harry like boyfriend year guess hint little girl anymore really harry notice pang jealousy still talking book yes know love cho forever imaginary land still want little development chemistry let face ron jumping hermione throat every time mention krum harry show emotion even harry completely wrote cho move sixth book going get ginny really hint almost halfway book feel like would felt satisfying bigger hint towards relationship happening could least cheering harry ginny read book first time right cheering harry snape draco time see foolish harry act becoming obsessed repeatedly told everyone let end listen think hate character always cause harry twice many obstacle would read time paid close attention snape everything dumbledore could two meaning harry would trust dumbledore instead insisting could make mistake would save ton time energy ever since finished entire series year ago snape one favorite character seriously cry every single time read watch snape last memory time read book kind thought something never put much thought everyone saying dumbledore much trust snape give dada job guess pretty clear dumbledore knew position cursed give job need stick around give sixth year know time snape leave join voldemort way guess snape given job beginning book obvious snape would leaving hogwarts end book returning dark art teacher book get ever time also late last night finished last chapter book cry like baby whole time book make feel much make favorite book enjoy book make cry one last thing want mention top five list artwork book started reading series picture kind silly looking honest around book art get much better book art probably favorite far thought change development art book interesting top favorite part harry ginny kiss arogog funeral tonk remus entire last three chapter ron taking love potion cried much book think book start forseeing end saga much make predictible like rowling book whole saga never get ending book cry every time think book word describe book feel god ugh feel hit probably going fly seventh next much reading slowly spoiler alert behind like whole world right imagine shock everybody received year ago going hide review spoiler think love snape love character misunderstood could get series without care end dead wrong planned dumbledore asked snape kill know snape traitor dumbledore idiot trusted snape know dumbledore thought small part think dumbledore might rise dead still believe dumbledore greatest character know going dumbledore really dead ginny harry girl first movie really played get relationship hardly ever spend time together sudden harry mean never shipped hermione harry way ginny really better plus think really creepy look like mom mean like anyways freaking right best friend got crazy series first place answering phone need talk feel regard book head spinning right get hand next book harry potter half blood prince rowling 6th series harry potter continues enthrall book although age getting darker lost cedric lost sirius lose another start visit ministry magic visiting prime minister muggle world narcissa malfoy visiting severus snape dumbledore visting harry dursleys new potion teacher horace slughorn join school snape teaching defence dark art much harry disappointment slughorn secret dumbledore desperately need instructs harry discover dumbledore harry work closely together try put end voldemort harry discovers excellent potion long us instruction book found someone called half blood prince book may good idea harry suspicious saw malfoy store called borgin berkes think malfoy death eater like father strange thing happen school seem confirm suspicion lighter note sort romance air putting strain relationship harry ron hermione ron discovers hermione kissed viktor krum impressed suddenly dating lavender brown hermione impressed harry finding interested ginny know tell ron ending happy lose someone else someone loved since book know reason everything hard deep breath okay rowling another superb job leading one dark event next much suspense thrown ending take surprise could want continue first book bought release date let say came little late party however ashamed say took almost full year release date get around reading time release working book store thousand call made let customer know copy would available event planned day weekend little harry pottered awhile finally get around reading pleasantly surprised find much likable le whiny harry favorite harry potter book one absolutely amazing time favorite mine book read three time recently premiere movie read 2007 getting close end series excited time little bit sad think harry potter book different part feel like huge book everytime read new chapter really liked watched character grow face uncountable danger created sort bond every new part feel like meeting old friend part little bit different interesting touching liked life lord voldermort retraced longuer shadow greatly enjoyed book wait read next last one definitely best potter book read binge catch one biggest cultural phenomenon last decade skim read earlier book branched coming age teenage stuff really appeal man forty one skim stuck largely moving story setting conclusion liked previous book little better one story dragged little wanted get end first read release night second third fourth 2013 one love never really leave dumbledore missed read thing liked noticed particular installment really like professor slughorn good natured one love throw party everything oddly hilarious luna luna lovegood favorite character actually probably top favorite character time know went hogwarts would get along well disappearing cabinet malfoy play big part movie weird thing say since harry obsessing malfoy whole book really know something end quidditch love one ron prof good keeper without help think took lucky potion always killed bit inside diadem right always one favorite installment harry potter series many boring part probably read future well got one best book series amazes rowling manages always come new plot new twist come story harry potter never get boring cyclical always expect one surprise next harry potter half blooded prince rowling break lot background information book take past delf history life many character begin realize thing always seem much say review without giving away much book say emotional six installment definitely get sense finality far away course death final chapter extremely tough accept find harder believe way went occurrence also fan wondering world rowling continue next phase harry potter series spoiler alert first thing came mind bakit bakit dumbledore dumbledore guess book harry story continues life always rosy good yet great book much anticipation build last series deserve blinded tear review seen much life underestimate power obsessive love rowling getting used longer book one trimmed hundred page honestly story contain much way previous two longer page length fit semi awkward stage book going lead last big bang fight wrap introduce new stuff story play old without wrapping yet harry lost mope harry potter order phoenix feeling accepted amongst peer left dark longer retains natural anger fear circumstance mini development female character romantically wise fit series well hermione ron also leaning toward even made officially official yet fan dumbledore book please infuriate scene ever give harry private lesson showing people memory leading fascinating backstory focusing voldemort actually get see monstrous villain book hear typical earlier installment death eater popping though including fenrir new big bad noticed demented werewolf thing say guy actually creepy especially focus hurting turning child always book impossible put since rowling writing technique rock give unique character individual standing working toward standing together unified rowling always introduces new stand character book new potion master enjoys fame getting know student determined going place dumbledore something else sleeve teacher pacing wise okay book filler anything give one big revelation concerning voldemort book pointed toward obvious coming together harry see larger picture stepping stone next book half blood prince way boring get see harry friend relationship little class especially wondering earth half blood prince mystery intrigued since figure awhile forgotten since watching movie year back new potion teacher introduced snape finally get turn defense dark art slightly bummed get see time spent class however always enjoyed classroom teaching experience book chance see freaking snape people talking dark art unfortunately one classroom moment although see much teaching side snape still brilliantly constructed page stealer come scene previous book heartbreaking ending one tissue handy keep handy next last book know depressing stuff happen course need tissue knowing last book time get ride book keep getting better great twist turn fun story iggppc march 2015 got feel book tear sad ending favorite harry potter book far loved flashback pensive gave insight tom riddle evilness happy harry ginny got together heard people say harry hermione ended together disagree think ron hermione perfect keep check drake malfoy gotten evil become death eater surprise love rowlings way writing extremely creative gosh need deathly hallows pretend next book happen continue feeling vindicated dislike snape book also make happy dumbledore give harry much information better prepares lie ahead instead quite cryptic also like slughorn make feel bit better pottermore sorting incorrectly slytherin practicality like gather venom aragog example one favorite reread enjoy remembering shocked many thing introduction horcruxes obsessed trying figure rab reread 2016 tear lot lot tear book actually kind terrifying finish made laugh made cry maybe favorite harry potter series would give book star could still favorite book ginny still favorite character starting series eleventh time part personal challenge must read book release harry potter deathly hallows part november 19th started finished started finished started finished started finished started finished started finished barely scrapped finished sixth book lunch break 19th touch struggled finding enough time get fourth book got done end seen movie theater twice planning taking leisurely stroll seventh book series forever nearest dearest heart loved dumbledore take harry wing share glimpse lord voldemort past harry learns need last show lord voldemort arrives first read 2006 second read may 2012 perfect perfect perfect perfect perfect perfect perfect perfect cannot review image big size perfect perfect perfect perfect perfect perfect perfect perfect perfect perfect perfect reading book like throwing thousand needle heart wish writing review already read book number able remember feeling book made snape saying anything case among lucky still harry potter left read first time however general mood book changed year feel book number long introduction epilogue saga book number tension neither book best part beginning end part take place hogwarts related school general sense term said still harry potter even one favorite still world class book glad experience pang disappointment end feel needed lucky book already wait whole year two back glad reading book finally terrified ending series though really everyone else long feel like started enough time savor story reread thing much used loving series everything happening really glad kissing take long kissing okay baby good reason geez like little romance almost dying time anyway love heartbroken know certain thing going happen watched movie one time year ago never remember happen constantly surprised gutted big reveals betrayal whatnot great rollercoaster already starting hp7 really time give review got get listening knew going happen still cried dont understand anyone die harry potter half blood prince least favorite movie pleasantly surprised book lot better even though kinda missed whole deatheaters scene burrow christmas still way better throughly enjoyed obviously read time english looooooooved even possible goodness gracious rowling trying want write long review spoil anything good book dumbledore harry got closer dumbledore became another father figure harry father figure die going miss dumbledore much one favorite character rowling added romance previous novel ship start come love unlike book romance action basically plot romance prominent noticeable without drawing away action really good liked wait finish series far favorite series glad harry got little le whiny one another solid potter novel tom riddle material dark excellent though wish even almost gave book four star quite bring least favorite book series still gripped cover cover main reason relative dislike much happens book last third half though ending incredible like ginny movie come flat uninteresting book especially one however witty work well harry much prankster fred george though reputation overshadows confident whatever want movie slughorn perfectly depicted narcissa malfoy ruthless wish voldemort eye red previous rating late 2009 early 2010 least favorite book series although rowling writing wizarding world enjoyable always hbp long much plot basically place holder series forced finally admit voldemort back rise power ministry magic magical world uproar magical community finally starting side harry dumbledore last believing thing disarray acting accordingly school must harry looming class still demanding ever add harry private lesson dumbledore learns much possibly arch nemesis preparation epic prophesied showdown altogether new potion situation chosen one keep together never realizing dreadful horrific event await end year seven year since last book came decided finally time 6th though 7th ala read first time way start finish think start writing remember initial thought review properly year ago book release exciting eagerly anticipated event sister bookstore midnight party artwork featured increased excitement time book affected even ootp happened happened loved kid growing hard find fault story certain point felt put book physically take moment process wizarding world happened year year look book objectively say among favorite lot great thing going plenty drama thrill humor something feel kind like story like marking time dropping information final chapter guess though think feel way usual storytelling compelling vivid description new character setting character top form though evolving people stop child start growing toward adulthood far steamiest book series much emphasis romance read hormone dating ever natural really seem distract overall plot fact rather enhances sure kid break character think happens real life young people start notice attract attracted opposite sex one great thing book ginny finally start come started show spirit fifth book really emerges force reckoned feel like tent pole scene harry dumbledore pensieve placed right given right amount attention revealing plenty intriguing clue information voldemort past without dragging really like much start tie many thing previous book especially co add lot little touch make whole thing seem really cohesive whether touch planned writing earlier book start give series real feeling cohesion bookend element well placed twist new dada teacher though mystery engaging previous book eurgh much snape keep story moving along add nice drama part drive little crazy like continued complete ineptitude ministry lead finale basically end meaning nothing also course dumbledore incredibly presumptuous still unnecessarily secretive course snape continues mood established fifth book build nicely could guessed would glorious satisfying finale history literature stay tuned find end book lot snape really like snape also lot voldemort also love guess pretty important find stuff one feel sort like rest stop series good job bridging fifth book finale favorite magical definitely teenager continue weave way winding walkway life learning yes love march 2014 reread one best thing book harry annoying moody boy book also like learn lot lot character outside main trio urprises book reminded ginny much awesome book movie sure understand bat bogey hex booger bat wing fly possibility voldemort actually cursed defense dark art position denied love arthur weasley dearest ambition figure airplane stay first book ever read twice read right got last book relative book book contain lot action rather wealth conversation human connection disconnection uncertainty importantly revelation certainly mean negative way halfway book knew gobbling exquisite plotting story many layer subterfuge distrust confusion sown throughout many coming head others beginning see light day saving final chapter series harry reader together learn many fascinating mysterious thing course book dearth action seem great burden lulled realm discovery understanding everything ultimately implodes one gripping astonishing unbelievable burst end wrote review book harry finally experienced consequence action entry progress even path adulthood learning always something surface protected right terribly wrong however still learned give credence hermione theory would saved trouble also discovers somewhat surprise despite lost still friend childhood decisively harry face uncertain future boldness bravery gryffindor love hate heart usually take little break harry potter book contemplate thing bit think able one goodness feel wait whole year ending overall liked lot previous installment enjoyed mostly slower pace seeing interaction dumbledore think title reveal prince identity ultimately bit anti climactic sure supposed red herring supposed think someone else well know book seemed rowling enjoy writing plot feel forced heavy also harry dad bully perfect sure discribed like anymore goodness definitely never read one first read book released 100 remember anything happened book feel intense one series far wait read last one feel like harry potter book know least well sure read many time read others feel like know story character involved way book maybe seen film many time fact think seen twice maybe book feel different book like onion much hurt quote shrek many layer peel back investigate like depth analysis make voldemort tick like finding past shaped situation well known character find like changing pace feel character really feel like coming age like old enough understand going might actually tool life experience battle everything going face thus begin disheartening beginning end hate admit never read book series released loss book outstanding intricacy plot admirable book also set seventh book perfectly continuing critical character story development much backstory missed sixth movie glad get book particularly voldemort history speaking book certainly keep line pattern series becoming progressively darker half blood prince reader thrust increasingly dismal tragic territory cry end think book may competing top slot ranking fully recognize point virtually everyone read series opinion review book intended add anything new discussion largely reference remember aspect book enjoyed reread dec 31st 2016 bumped star harry potter last harry potter book read half blood prince already seen movie skipped one tried reading deathly hallows remember whole lot movie aside final scene reading interesting experience see really interesting reading order phoenix noticed long book dragged plot lot filler often dodge main storyline tends dedicate entire chapter seemingly minor detail harry new annoying house elf examination new minister muggles ginny new love interest half blood prince seemingly minor role book even though book named seem main focus story focus main thing professor slughorn long forgotten memory voldemort malfoy secretive shenanigan identity mysterious half blood prince like said half blood prince feel rather unimportant particular two dilemma first one professor slughorn memory involves harry making several feeble attempt appeal latter dilemma seem ordinary throughout entire series malfoy always rather suspicious character casting villain bound happen sooner later however seeing malfoy actual villain make uncomfortable especially comparison voldemort malfoy come across obnoxious school bully minimal character development past six book rather big bad evil feared annoying sidekick get kicked around suppose overall main question main gripe book seemed entire book built twist ending two important point book voldemort secret dramatic ending building inevitable seems 600 page worth build largely uneeded side note snape character one interesting endeavor book tend get vague clue whether good evil book explores idea lot though tends gravitate towards evil much course already going last couple book anyways nothing terribly new though many disagree harry come mary sue case gary stu inherits sirius old possession gracefully want one building owned credited saving half ron family get attention plenty girl trying get slug club also happens dumbledore favorite student adept person potion class side note somebody reveal naming character first book seemed come cheap trick example malfoy mom named narcissa sound lot like narcissus fenrir greyback werewolf name allusion wolf god norse mythology another wolf lupin name sound strikingly similar lupus one scientific name dog seem bit cheap mean cool allude mythology real term many fenrir destined grow werewolf put better term reminds cruella deville 101 dalmatian whose name clearly meant resemble cruel devil account evil anyways much like order phoenix book tends drag bit really last ending chapter rewarding help set dramatic stage final book deathly hallows give interesting insight voldemort history feature one dramatic moment harry potter history spite everythingb spite dark twisting path saw stretching ahead spite final meeting voldemort knew must come whether month ear ten felt heart lift thought still one last golden day peace left enjoy ron hermione end sad one great book great series funny filled adventure shocking ending escapist literature get better omg could put freaking snape omg dumbledore feel ughhh harry ginny ron hermoine real ship sail saying harry still annoyed hell though loved want next one immediately prepared tear sorry review mess heart dead forever entire wizarding world know voldemort return harry potter return sixth year hogwarts school witchcraft wizardry know thing different year dumbledore special plan require harry secrecy together plumb depth voldemort past hope finding way defeat book le angsting previous book easy get drawn tale voldemort past aside harry stalking draco half book pretty enjoyable read really remember movie took lot made book interesting enjoyed thought would even knowing ending still blast rereading penultimate book well crafted series reading challenge 2016 book first name title first imagine someone driving dull rusted dagger chest skin torn possibly irreparably damaged deformed pain unlike anything ever felt imagine someone love dearly taking dagger twisting slowly ripping chest heart imagine crushing eye imagine hurt betrayal heartache feel feel right completely torn apart heartbroken knew book could affect emotion drastically well besides point umbledore death though expected spoiler stumbled across online still came shock arry witnessed much loss grief firsthand think snape one semi spoiler saw turning hero whatever learning done crippling suspect feel heartache continue deathly hallows ready pain harry let step night pursue flighty temptress adventure spoiler alert harry potter book review yet sole reason end marvelous amazing wait write review started deathly hallows instantly however loved deathly hallows wait write book review express whole ocean feeling somehow review never written damage done one harry potter perk even tiny detail ever forgettable story start always dursleys time dumbledore trip harry settle burrow back hogwarts event progress harry lent potion book professor slughorn old friend dumbledore convince step side eventually teach potion hogwarts book harry find number note previous owner allows harry excel subject never average book marked property half blood prince half blood prince potion brilliant hermione slightly suspicious many thing mind bother much harry little affronted dumbledore disinterest doubt fear anyways soon introduced called horcruxes dive mystery love book fast paced nothing seems safe anymore everything risk even hogwarts always safe quite dark place flashback tell voldemort tom riddle past absorbing always like read story villain like know led whatever also book notice rowling seems trying complicated prose sophisticated storytelling previous book plenty question left unanswered end also learn lot character even see whole side maybe change model thinking draco malfoy one final plot twist dumbledore killer identity absolutely unforeseen even shocking spoiled course dumbledore death overall devastating one always solve problem background hero savior strongest wizard world death put everything stake death one emotional two death made cry dumbledore dobby though admit choice bring one character life definitely would fred say emotional mean time cry mourn loss fred sirius lupin tonks death happened middle battle middle sentence time feel fully time later hurt reading book thinking whole image reading feel dumbledore dobby least happened yes course dobby still alive also character generally speaking harry potter book enough compliment loved much loved book maybe slightly others peace upon heart going read deathly hallows get ready need self control tissue yes paper tissue need read recensione http p3x6aw review http p3x6aw mind episode saga show harry complex romance ginny everyone hoped coming finally get kick pant given new leadership role quidditch captain also engaging dubious behavior experience moment empathy toward voldemort draco malfoy clinging tightly distaste severus snape final page launched final quest take place seventh book best bit back dumbledore often happens even best friend belief say much important anything might contribute dumbledore 359 voldemort created worst enemy tyrant everywhere idea much tyrant fear people oppress realize one day amongst many victim sure one rise strike back dumbledore 510 unknown fear look upon death darkness nothing dumbledore 566 wow since read first time learn much voldemort still clinging tenaciously trust snape though difficult hoping dumbledore right anyway probably 2nd favorite series far story follows harry exploit spiral closer closer seems murky dark future writing ever superb witty drawn darkness depth harry world angrier moodier harry suspicion grow ever wilder try piece together action behavior school enemy frustration come listened taken seriously book really brings light harry compassion let see realizes always seems brillant plotting fun scary rowling genius read jan 2010 feb 2010 read jan 2011 feb read jan 2012 feb read jan jan read feb read jan jan say smthg want spoil shqiponja need moment maybe day knowing give start reading deathly hallows minute story plot interesting actually really liked stopped reading though book making frustrated annoyed harry friend attitude thing went inconclusive resolve issue faced grated generally affected feeling others even feeling fictional character wanted finish series making frustrated upset seem wise continue finished book say thing disliked book promotion disobedience harry really get punished almost ever almost every single thing gotten expelled school well guess get detention book always seemed portray occurrence unwarranted unfair understand harry might seen way mean whole attitude book reflect harry immature focus thing like absence ginny wallowing depressing feeling first disliked well want see main character person eventually marry plus whole including ginny least gave impression hated harry simply liked ginny really liked cared saw something wallowing feeling simply like affect emotionally frustrated like plot great remind anything already read like reading something seemed entirely new something exactly guess every new turn stayed interesting never really seemed drag powerful rowling first kill sirius black read chapter correctly snape made vow kill freakin dumbledore best worst far loved thought far best well know happened think worst still kind best gah sad finished audio book good though like way jim dale ginny voice fantastic audio book deathly hallows much better thing really took end liked added romance one ready last book book nice favorite series still nice thought difference dragged arena face battle death walking arena head held high people perhaps would say little choose two way dumbledore knew thought harry rush fierce pride parent difference world reading need time emotionally recuperate need read last one book made feel many feel beautifully sorrowful yet exciting love love love dumbledore dy everybody cry many tear read version somehow half size say longer one better plot fairly good character fairly annoying altogether way much kissing disgusting another excellent read favourite read october 2017 hbp always least favorite harry potter novel maybe added darkness slowness novel harry trying figure draco malfoy able let though even least favorite still contains magic novel ike continuous hinting snape half blood prince friendship magic hogwarts one best sassy harry moment need call sir professor gave sheer fun enjoying reading harry potter stopped fun last book good get back however stop think listen husband talking book really lot plot enjoyed adventure progress overall story far want spoil anyone one major event spoiled annoyed mean really thought detail forcing particularly short review guess mostly enjoyed story wait see quibble going resolved last book complaining loud copied across library thing october 2012 great book continuation harry potter series nice everyone belief drove bonkers fifth even though ending sad went right seventh novel clark gable cannot even right one talk reading book first time since initial launch absolute joy somewhere year last three potter book merged mind angst filled bloated ending series still excellent definite drop early book order phoenix confirmed feeling half blood prince tore apart seemingly learning misstep phoenix rowling reign thing bit creating focused narrative still enough space develop relationship come define series prince absolutely retains magical feeling mystery filled storytelling early book telling darker tale lack social commentary phoenix feel worthwhile trade really want give 1star end finished even write proper review right book deserves sit corner think done going cry maybe couple day harry idiot ginny perfect hopefully lupin got together came sens tonks together yeah silly foolish harry thinking tonks sirius never believed finally dada teacher stayed seriously going cry probably least read harry potter book really good time going reading think perfect transion book get need book without overwhelming many new plot detail fact much simpler story gof ootp think thats needed really loved going dumbledors memory course part cave always make shiver might actually top deathly hallows simply character development sure got answer question deathly hallows one got learn voldemort compare harry love learning origin story villain totally loved favorite volume series book movie love simultaneously favorite least favorite series seemed split two entirely different book one side split finally getting answer origin voldemort fleshing central action plot side like reading fanfic sixteen year old one thing liked best rowling style earlier book able stay fan need romantic focus sixth book whenever harry gallivanting memory dumbledore character entirely wrapped degrassi style teenage soap opera frankly cheapened character grown love feeling book half half loved harry dumbledore scene could done without hormone star previous installment relies heavily rousing emotion propel forward one relies rousing curiosity result nicely calm albeit lengthy bridge intense emotion accompany large chunk order phoenix intense emotion end half blood prince beyond cannot say much already said review previous book series rowling continues constrict heart wring eye emotional shocker ingenious development character honestly put loss word together eager anxious enthusiastic terrified read final book wow good still like one much others honestly seemed like number different plotlines going okay guess really related bouncing around quite lot good climax held though thsi book could easily called harry potter friend sister harry potter malfoy something harry potter history voldemort harry potter dumbledore actually telling harry something change harry potter ron crush harry potter quidditch cup harry potter hermione right usual thing musch teh half blood prince possibly admit harry got many flaw one stopped yelling everyone teh time told people stuff needed know stopped crushing cho chang issue former book seem bit like matured happen glad got ginny though ron reaction perfect would liked little showing actually happened lot week great thinking nice hour spent happy etc would liked little actually happening little le telling retrospect dissapointed climax dissapointing matter well written dissapointed futileness horcrux thing also thought climax odly detached form rest book kind llike let climax even try ease plus bug everyone wrong becasue like someone right teh story harry hermione professor mcgonagall wrong something going one note sound naive portrait dumbledore count anything portrait memory knowledge ability talk dumbledore portrait keep headmaster giveing harr lesson difference issue one rant never snape entire cast get thick skull least one person still sure good would ahve better wish hermione ron stupid argument didnt last entire book realistic stay mad eachother long making like month amplified boarding school time work like stupid selfish need harry causing one source anxiety sure heck need right need buck harry whether besties jsut fall love already would good difference hex curse jinx thought sort slightly different distinct thing seem used interchangebly apparently read pretty quickly well reason great totally redeemed last book novel far exciting le aggravating character depressing predecessor ending actually made sad admit though knew coming even read series one aspect novel made scoff quite time teenage drama say way high school know shy ask someone obsessing one tiny smile cute guy gave like want tell year old ask love zeus seriously big deal hell age tell someone want pant catching eye raising eyebrow big deal tell someone fancy rowling great job making little drama entirely realistic therefore endearing think enough drama make harry friend typical teenager stoic interested making would laughably unrealistic enough shook book like enough already totally called tonks love lupin probably wee crush anyway drama aside book moved great pace clearly put likewise last hundred page great climax mystery solved another mystery introduced battle took place really good precursor last book hell going start deathly hallows soon done work couple thing little obvious identity half blood prince igured get mean come else would time due friend annotate entire book else grew become potion professor despite particular character still tug heartstrings wish read series year ago may favorite harry potter book love section voldemort backstory really help understand learning horcruxes really shocking reader much harry nice see harry dumbledore trust grow sob also like everyone finally pair book even angst ron lavender scene always make laugh mystery identity half blood prince reveal end also elevate book tension filled climax cave course end sad still break heart even reread many time book good job setting everything grand finale cryingrealtears still easy read even know coming read multiple time reading cursed child release spoiler alert heartbreaking fabulous best book worst movie half blood prince favorite book darkest book series though masterpiece full great moment story felt learning quicker rate order phoenix must rowling grand scheme saving much last book one thing seems certain though rowling never lose special touch supreme genuine interest story character make writing engrossing completing book state total shock moment wish read seventh book half blood prince dark mean far darker last several chapter particularly well written great suspense imagery relationship blossom book last haha tell engrossed harry love life time disappointed haha lol bit short harry love story character well much book devoted harry witnessing important memory pensieve dumbledore gain greater understanding enemy dark lord revealing snape story hmmm bit fan severus snape though hate something really really bad unexpected t_t resulting shocking part book one main character died sad teary eyed point read part believing really happened expecting surprising reason dumbledore trust snape simple apology must still meet eye end book unbelievably sad depressing grow harry potter definitely blast guessed opinion harry potter half blood prince yet say highly recommend run get copy already one share magic lastly harry potter half blood prince amazing mature moving far best book series far lot open ended question leading book seven harry friend return hogwarts final year even hogwarts back earth harry manage impossible task lie ahead one thing certain wait find blimey let read last part book shall spoiler alert might favorite series jury since read last one flew fast barely remember part book snogging stuff get little annoying overall story great book also favorite scene series snape hand harry as duel snape probably favorite character series overall featured rather prominently one reread ending kill every time 7th book 2017 star finished february 2017 still great update february 2017 honestly still understand people love book loooooooved also goodreads rereading function thanks update march 2016 reading series wrong order make happy read 2015 one faves series still brings tear probably best potter book cried end maybe harry potter book biggest revelation maddest turn event personally always think book account harry last year hogwarts book feel like series started take majorly dark turn intense depressing point know exactly part book still keep enthralled wanting great adored book like others harry potter always series never get tired rereading second time read first time french native language english speaking hesitate correct need reread sept harry go tome malfoy ginny prince malfoy quiddich prince malfoy ginny quidditch voldemort origin story teen angst quiddich ginny malfoy usual jkr style last chapter thing happen end sept 2017 finished audio one went fast also helped along road trip jim dale got many character younger form flashback whole last couple hour harrowing without thinking without planning without worrying fact fifty people watching harry kissed several long moment might half hour possibly several sunlit day broke apart harry think talked fighting losing battle important fight fight keep fighting keep evil bay though never quite eradicated voldemort created worst enemy tyrant everywhere idea much tyrant fear people oppress realize one day amongst many victim sure one rise strike back nothing feared body harry anything fear darkness lord voldemort course secretly fear disagrees reveals lack wisdom unknown fear look upon death darkness nothing july 2007 ish okay point everyone else wait midnight july although already heard dy end 6th book managed hear happens shocked shocked story getting really scary wimp like certain scene wished reading alone night lucky get open book right wait two year closure go know good favorite quote luna demonstrating usual knack speaking uncomfortable truth age foolish forgetful underestimate youth course damon shoulder cry still far favourite book good fast read made laugh cringe cry sad journey almost hey book soon believe onto book already full review come poor hagrid fang hope work fine hopefully sad dumbledore death sad nape hate hocked harry ginny emu tank read dislike harry ginny getting together one second think name suddenly like get besides everything else wonderful buddy read continues read last almost day originally came amazed big reveals guess dy guess prince pretty blah enthused learned riddle harry kept sticking head water hate love relationship wanted know big bad really also wanted get cleverly installed flashback get freaking story movie movie came like backstory voldemort hardly anything brief little taste supposed feel deep revulsion pity man get screen time fell back bandwagon pretty flashback trial tribulation fanboy like knowing frank herbert dune inside watching lynch mindf spending movie filling detail left unsaid film make story deeper amazing acid trip watching okay maybe hp6 film quite bad lot brilliant moment visual direct link ups main plot hp7 movie continuity preserved well still lack time snape younger cursecrafting self lack mystery subplot dumbledore made end event kind rushed confusing within movie within book book real page turner love depth reason lot still great book reread january 2017 quite long time since reread book much faint remembrance got felt like breath fresh air reading last time read remember one favorite reason revisiting time absolutely loved one granted love every harry potter book first time read one thoroughly enjoyed actual rating yeesh book really really close getting star sound fine book harry potter talking supposed close getting star ending enough satisfy though well know book managed sneak past retain record going let easy last book though generally high expectation conclusion remember first read series thought two final book unsatisfying compared first five apparently still think two major issue book one bit rinse repeat schedule everybody know harry potter go supposed unexpected supposed know going come next two character starting grate nerve like seriously ron hermione keep shifting back forth first fine hate much make purposeful move even look suddenly fine get teenage relationship back forth lot seriously ron annoying sorry seriously want punch face hand dumbledore favorite character book well aware rowling probably building angst happens later still well developed character book character rarely ever irritated thank also book boring previously stated rinse repeat schedule ron hermione either get fight make amends thing mentioned half blood prince class another lesson dumbledore brief thing voldemort sometimes get occasional quidditch speaking played quidditch monday hyped ron hermione another intense confrontation conversation thing mentioned half blood prince either something slughorn brief mention hard class another lesson dumbledore sends harry brief state euphoria say brief mean brief people discus voldemort something major centering either voldemort ministry magic announced yes consider stan shunpike arrest major go reason rated star first really show well time war going show even wartime life continues really experienced tell book romance fred george popular wizard joke shop getting many customer even though powerful dark wizard time back ala still wish discussed order phoenix mean come last book named guess everything bad favorite character order phoenix also found ending incredible powered right ending wonderfully written way tugged heartstrings pretty decent book suppose however bit sour taste mouth really gave star due reverie previous book become better upon reread still think much teen drama romance bogged novel narcissa snape reason rate book highly definitely appreciate narcissa hindsight well draco cover pensieve sad yet brilliant pacing perfect plot great character amazing way aside obviously umbridge even though appeared two sentence book rowling genius really say right little scared start final book knowing come time wait little torn knowing starting next book tonight anyway tomorrow earliest merlin beard book definitely know many people say rowling living legend really know stuff warning spoiler present review easier immediately get central story one mainly harry stopped moody order phoenix made like sixth installment series think half blood prince might favorite one far behind prisoner azkaban really say something kept immersed stay late finish say others posse quality even felt could fact enjoyed subplots normally like lot memory flashback book rowling unfolds everything skillfully always learning voldemort past quite interesting suppose bad childhood could contributed evilness overall think crazy also answered something puzzling since beginning goblet fire get three riddle murdered big house explanation midway novel made sense learned flo come harry potter book knowing eventually question ask always felt like harry right keep close eye draco throughout sixth year hogwarts especially everything heard train found little odd ron hermione dismissed harry serious suspicion draco easily evidence steadily kept piling surprised turn character took honestly always pest yes definitely worthy enemy harry ever since first book still sad started working death eater end number six felt really bad probably felt like choice whole family voldemort side excuse action though curious see become last one honestly say book best secondary character series ever read quite statement coming like think read lot almost made kind impression whether good bad example kind love luna even though around whole lot introduced last book may little odd open way stating thing really hoping kind happy ending weasleys always special place heart however kind surprised harry feeling ginny seemed spring suddenly mean known five year realizes pretty awesome got used kind wish relationship little development really disappointed first ginny really quiet close flat character get book actually showed personality much fiery annoyed harry broke end obvious voldemort would use whoever harry cared could easily use ron hermione see ditching book movie seen tiny hint feeling ron hermione think came lot one obvious hermione temper tantrum bird ron got together lavender extremely annoying one hand felt kind bad gotten point really frustrated dance around feeling thing think pretty cute together though wonder sometimes made rowling decide put two main character together heart stopping punch gut definitely end dumbledore died suspicion happening based comment read review hoping hope wrong happen come care much character series simply devastated upon reading demise actually put book aside minute could cry wise friendly yet powerful expect draco one kill tower based way already acting cry earlier bathroom also think snape would one obviously always disliked behavior towards harry hoping really changed though maybe part thought even though five year gone without murdering harry fact snape half blood prince probably seen coming advice gave coming potion book really still feel like completely understand snape character hate killing dumbledore book excellent set final chapter though want put reading last one know see end immediately really annoyed dumbledore one gosh many damn emotion book learn voldemort capable living going much horcruxs contain small fragment voldemorts soul must destroy horcruxs order destroy voldemort battle hogwarts many feel first dumbledore brutally murdered freaking snape ever trusted many nly hagrids hut catch fire fang nearly die intense scene fleur bill love accident way weasleys finally realized fleur appearance love bill run deep longer teenager dealing mundane thing voldemort growing stronger well following death eater book taking darker turn end nearing student growing older taking serious aspect life sob uncontrollably yes great book first time read book really like much ironically watched movie one favorite think knowing enjoyed movie actually ended enjoying book lot eading dumbledore death still made super sad easier get time around remember really shocked first time eing prepared really helped soften blow death glad finally got around reading give appreciation actually deserves omg ending always make cry could put great improvement length 5th novel series much le going much point still favourite book would close second dark witty fairly fast paced left thrill hanger resolved within reasonable amount time dash romance humour add gritty addition series cant wait finish final book ready reread sure get 7th book dammit book fantastic year later duh current favorite order feeling fall towards middle remember bored walking middle end gah great thing rereading visit time life thought differently long time thought half blood prince favorite harry potter book year later read one loved really really loved star read sure still call favorite harry potter book almost love order phoenix hilarious especially since long time ootp least favorite book show change forgotten happens book decided need read harry potter book every year still laugh joke everything felt fresh modern book aged incredibly well also commend rowling growing harry book book harry face minister magic plenty sas around also forgotten awesome ginny ginny came forefront book met lot backlash sharp contrast beloved hermione felt incredibly unfair since rowling year flesh hermione since book told harry pov notice ginny book notice harry notice mary sue term stamped something fierce term find insulting sexist rowling uncanny ability write female character even get line tonks luna fleur mr malfoy come mind little sad coming end book enjoyed reread much crazy political time happy place incredibly grateful knew coming knew would happen still cried insanely cried bus travelling home care brb still cry get sad serious sob book awesome believe happening still see harry hermione ron year old dying read next book like series gone feeling like simple story involved darker know become dark premise story really love telling classic good evil reread spoiler alert okay okay okay let get thought together first never cried much book able prevent cry funeral knew dumbledore died book denying would happen people still like snape know deathly hallows snape probably say convince death eater side dumbledore would proudly died cause still half denial lighter note many question first foremost spoiled harry horcrux know answer deathly hallows destroy plus heck person locket anxious throughout scene felt dumbledore would die enough page left book otherwise side note volunteer throw draco malfoy sun would like redeeming thing happen deathly hallows care fight voldemort battle hogwarts realizing spoiled series know outcome relationship whole series character life aware snape week ago etc spite still somehow loving series deathly hallows hope know whether favorite series ever first harry potter book read normal amount time previously taken day week two week finish feel like completing day contributes much loved book even though obviously would loved much reference point future savannah sat read book hour hour segment last day reading really anything else say wow ugh book still make cry year later cannot believe book end know happen future read completed 1st read via audiobook well interesting see much opinion either stayed changed read many year half blood prince one favorite since last time read least year ago clearly good keeping track think safe say still favorite entire series love everything happens harry knowledge seeking information lord voldemort well fact book still largely take place school still love book seven fact hogwarts mostly missing something really miss book may part since realized actually seen movie forever book really forefront mind instead movie version event also huge fan movie ginny still feel much like secondary character book still starting really presence tried put movie ginny mind helped bit poor bonnie relationship harry ginny book soooooo much natural movie anyway love information get book still solidly one favorite wait actual favorite series full review posted book addict guide spoiler book final book read yet beware gonna get spoiled felt bit pressure starting harry potter half blood prince long time since read book always claimed one favorite series realizing much opinion order phoenix changed totally unsure hbp would right bat though still love love book really brings everything next level plot adventure quidditch romance everything get bigger better half blood prince think one favorite thing introduction horcruxes really love layer add plot add another sense adventure character also really really love get know villain past love reader get know villain backstory think add much book even make villain bit human whether little lot know amazing rowling world building book guess never surprised really one favorite thing entire series really big many romance series harry potter always action adventure friendship learning well magic movie ginny kind ruined book ginny really trying give book ginny another shot since know story go felt like actually hugely present half blood prince still feel like opportunity bothered charmed make many appearance slug club party quidditch match etc reason still felt like big character really interested see feel book seven far reading book still feel lot course love ron hermione romance know love best friendship turning something long time coming really interesting see tension slowly built come breaking point end half blood prince always love layer upon layer world building getting know voldemort different class student take different place visit love getting lost world something writing make feel like real place reach always love learning magic rule limitation felix felicis chapter still one favorite cave scene end still creep lot course dumbledore death sure maybe know book movie well never really feel shaken death book except probably fred god read really get worked death think dumbledore really feel like gone know portrait headmaster office know sort appears harry final book dumbledore greatest wizard time may dead kind great news harry potter half blood prince still stand favorite series far never able place love final book interesting see come read ranking read book ranking read book ranking read book ranking read book ranking read book ranking read book good book liked much fifth book think harry start come scene finally set finale seventh book come harry occlumency lesson professor snape resounding failure begin lesson dumbledore instead together explore memory collected dumbledore attempt better understand lord voldemort meanwhile harry found old textbook filled note previous owner known half blood prince note help harry excel potion class encounter evil book chamber secret hermione reservation using powerful book interesting play morality volume give much away three people left earth read series yet harry cause harm someone love greater good extremely powerful scene mark tone rest series seriously bawling book empire strike back series book broken think ever dumbledore need gone noooo snape little piece shit malfoy pay life even though know would want dumbledore holy big sobbing mess batman sniffle liked harry potter harry nice one great story like first three book review come one made sad hello harry freaking potter spoiler alert harry continues mature understanding world continues grow sophistication battle good evil force grows ever perilous plot move forward toward ultimate confrontation harry nemesis voldemort character grows ever darker harry loos valuable ally learns magic show hermione develops romantic entanglement writing crisp move along quickly minute began read book heart stop beating eye stop reading hand put book unfortunately saw movie reading book yes know never judge book movie well might say true read book watching movie book detail movie make cry understand whole point fought somebody dy everybody cry book tell much read read yet reading reminds badly screwed movie first read jan 2015 second read 2017 2017 watch movie reading book yes may wonder horrible thing thing used like reading especially big book series like harry potter read finished harry potter last year decided read bucket list must finish harry potter going college loved everything magical first fantasy series trilogy though literally inhaled book first time enjoyed much better second time past summer swear read ending first time time like reading first time finished reading book half day still favourite harry potter book far perfect balance action information time true masterpiece literature another great harry potter book felt really really awful dumbledore died someone knew real life really pas gotten attached old coot also felt little bit hopelessness thought lost dumbledore passed away thank goodness harry although little helpless first book gave strength believe harry belief really could defeat dark lord one hard get started really slow ending like bam last hundred page curled ball holding breath read worth slow start going review series since awhile since read know deathly hollow far favorite series start slow relatively innocent really pick pace around book prisoner azkaban writing spot never lulling reader detail ridden coma instead begging read late night book well written enjoyable perfect read really good loved love book though lol eally neat finally learn professor snape though liked find awesome potion love story took turn one played story well full information dying finish book favorite book whole series book roller coaster ride emotion drama mystery tragedy potterhead best book rowling date hey ginny weasley actual personality spoiler alert loved book one favorite book really hate part dumbledore dy though sad fact horxrux even real though dumbledore died even sad cried hard book letdown order phoenix happy realize really enjoying writing mystery edition detailing year hogwarts harry spell class run new recipe book old book lying around closet book previously owned somebody named prince prince added many note brewing spell whenever harry followed additional instruction concoction always succeeded half blood prince many theory including harry mother wrong fooled one good choice make sense world revealed good liked book way end thing really started fall apart dumbledore drinking lagoon water made dipsy made sense seemed completely character find key destroying voldermort clue another person voldermort initial little late series introducing new mystery character like yet another major character killed felt shock value anything else seemed meaningless disturbing harry quits school kind message child frustrating last couple chapter stephen king say miracle harry potter series keep getting better genius rowling decision probably never even seriously considered time follow harry schooling result harry fan never left behind question whether rowling bound life arthur conan doyle bound sherlock holmes recommended audiobook loved read twice even begin describe thought installment book hogwarts charm earlier book absolutely amazing character grown much become wonderful people genuinely care harry especially really tell grew book le arrogant control temper somewhat decide character favorite though awesome fun hate ending killed though okay awe rowling created magical world never get boring seen movie yet still shocked hurt happy every chapter movie ending book justice except wand scene movie rowling really know write every book get fascinating turn page favorite part scene harry learned voldemort past interesting cannot believe almost know harry potter fan dealt sure get last book cannot believe one book left harry potter fan deal longer though get get fuss pick favorite book series wow reread fueled watching movie reading quality fic heard book read yet want anything spoiled read beyond cut say read first five book course going get around reading eventually finish half blood prince eagerly await publication seventh book series grad school kept finishing sure probably one read yet anyway since gotten writing review general reason really anywhere near biggest buff going get debate whether dumbledore really dead world snape never known anyone acurately predict thing mind little idle speculation going devote serious energy figuring something rowling inevitably explain much creatively entertainingly could two thing loved series think half blood prince continued rowling continued fulfill promise making sure style book mature harry ayear older wiser moody teenager order phoenix harry realizes important thing getting pissed world still year old boy though surprising get frustrated dumbledore telling everything right away glad see calmed little bit even dealing intricate plot detail maybe rowling still manages craft great mystery leading one way end showing really something completely different example talk werewolf draco mysterious disappearance sickly appearance convinced draco become werewolf made feel pretty stupid truth revealed love still able trick five book getting used writing style two thing liked half blood prince specifically love whole horcrux thing satisfying finally know voldemort defeated reader little satisfied ultimate mystery series kill voldemort time read seventh book find harry actually able defeat information harry potter finally get girlfriend ginny way cooler cho good see chosen one hooking someone talented clearly side starting feel like rowling forgetting raging teenage hormone also nice focus ron hermione seemingly never ending dance around getting romantically involved plus snogging among coolest british slang ever approve many excuse use book two thing le excited half blood prince harry breaking ginny end book tough take besides already target ron little sister already seen besides exactly hiding relationship even took harry forever get around snogging someone draco malfoy could easily inform voldemort ginny even dearer place harry heart even broken harry returning hogwarts way book structured importance hogwarts voldemort make clear hogwarts still figure seventh book harry planning student anymore trouble getting head around concept snape killing dumbledore touching foot pole since behind time know everyone else talked book death feel unmotivated get detail part uber popular series also make book hard review sorry lesser quality review full review personal website post excerpt though star worst thing book dumbledore died love draco kill snape heart wrenching best thing book draco malfoy say sucker blond bad boy able kill dumbledore think scared whole scene actually pretty intense snape poor severus kill real friend cry review book pretty pointless regardless everyone know phenomenal series harry potter book beyond expectation still doubt reading series continuing surprised find dumbledore dy another great book harry potter half blood prince favorite book series star thanks beloved worker spoiled dumbledore death still super sad read one came remember really except big huge thing happened book even fiction like dementors surrounding something like never feel happiness rowling amazing talent evoke reader immersed story cry like 5th book feel never happy like one also feel like book book feel like whole book meeting voldemort end book fighting like rest book book spent many plot question ended pretty swiftly last chapter gave star instead think harry potter series escaped vision big control first time got half blood prince interest waned quite bit returning summer could recall broad stroke slughorn dumbledore betrayal people behind fact learned lot tom riddle backstory thus went mostly open mind though mistrust lot rowling attitude towards world really liked layer corruption ministry revealed horrifying entire governmental system world giant miscarriage justice add depth story order phoenix lot narrative arc fact magic implicitly support prejudice condescending attitude towards people creature different level kind magic even good guy pro muggle know draco ordered kill dumbledore see fingerprint sinister element book see honestly terrified darkness enacting even keep coming plan always love learning tom riddle backstory really book drama romance present day filler support infodumping finding went hogwarts killed really really cool harry dumbledore talked merope gaunt awful defending use love potion coerce tom marry certainly agree abandoned released magic talking conversation go merope refused raise wand even save life even stay alive son choice like mother greatly weakened long suffering never mother courage excuse first witch die world like selfish plot become homeless die childbirth deal baby ugh moving love idea prophecy impact voldemort believed deeply acted harry responded kind love idea worked harry pure heart would want bloody vicious revenge even heard prophecy first logic fail second literal next chapter almost kill draco malfoy bathroom lol guess purehearted actually idea love magic wizarding bond work inconsistent pretty disgusting related note harry monster chest ginny terrible writing little annoyed three major plot point happen night namely umbledore locates cave locket horcrux alfoy fix vanishing cabinet relawney reveals snape spy passed half prophecy understand storytelling perspective force harry choose one revelation pursue tangentially related seems like lazy writing end genuinely good thing book anything come mcgonagall mouth need call sir professor aragog funeral always counted book one least favorite series least favorite surprised find really really enjoyed rereading time awful lot going book memory backstory voldemort obviously important thing harry obsession draco get little old whole lavender catastrophe really love memory section felix felicis scene among favorite series end done really well cave end always make cry love love love harry potter tied favorite book ending wonderful kind series closing knew know peaceful defeating voldemort opening task conquer chamber secret stone etc beginning end start horcrux hunt everything put test see like love harry potter absolutely love harry potter another outstanding novel rowling book first harry potter book read like movie never really understood everyone liked read back started reading half blood prince pretty amazed thrown book much loved way wrote halfblood prince one best book ever read everything great book kept trying guess halfblood prince nice get know voldemorts childhood also loved much quidditch book course give book ultimate star rating opinion weakest book series brilliantly written also heartbreaking right word though feeling harry return hogwarts hope still kinda upset though snape friggin heck mean weird would someone favorite thought play pretense promised loyal nose hmm put feeling word since many people read book tried stay away reading review goodreads least book herefore believe dumbledore actually died friend also listening book admitted really truly dead already read book confused whether snape good guy bad guy umbledore sure good want believe snape good reason killing dumbledore cry dumbledore died partly think actually dead partly felt kind meh dumbledore along tear little phoenix sang lament love harry ginny got together afterall ron hermione sigh tension action reaction like want admit make want shake ostly ron though lavender brown note listened audiobook swearing kissing death torture injury one least entertaining profound harry potter book begin come together first maybe even book felt stand alone 7th bring everything together make one overarching story instead several stand alone book probably one incredible mind generation snape narcissus make unbreakable vow protect draco assist mission find end exactly change pace dumbledore pick harry take burrow classic dumbledore well meaning manipulation us harry persuade slughorn former teacher tom riddle harry parent company return hogwarts teach potion snape finally moved defense dark art dada hermione burrow already next day receive result school supply list diagone ally see draco entering dark art supplier borgin burke follow invisibility cloak harry becomes sure droco death eater harry going take potion receive outstanding needed carry snape however return school discovers snapes promotion slughorn teaching potion grab second hand book discovers belonged half blood prince later learn half blood prince snapes mother snape used book recorded kind interesting helpful spell potion first time revealing snape true brilliance magic harry us half blood prince note potion book help excel potion making hermione mad slughorn dote meanwhile dumbledore regularly meeting harry look pensive see memory people direct contact voldemort one memory slughorn tampered dumbledore asks harry retrieve real memory several false start memory show explaining horcrux riddle riddle deep interest umbledore explains harry order voldemort killed horcrux voldemort split soul must destroyed horcrux riddle diary marvel ring already destroyed harry learns voldemort family path towards murder obsession gaining eternal life blah blah teenage relationship drama happens near end year harry dumbledore journey cave retrieve suspected horcrux slytherin locket locket bottom basin reached drinking potion dumbledore harry help drink dumbledore becomes thirsty harry get water lake voldemort inferi surface try kill dumbledore fight despite weakened hen return hogwarts find dark mark placed astronomy tower umbledore tell harry get snape hear noise dumbledore freeze harry invisibility cloak draco disarms dumbledore threatens kill hat follows vaguely amusing conversation two redemption becomes evident possible eath eater draco helped get arrive encourage draco kill dumbledore nape come dumbledore pleads snape kill dumbledore ollowing another minor battle arry find locket real horcrux contains note someone named harry announces spend next year hogwarts hunting voldemort love theme redemption draco snobby little brat still goodness love dumbledore response draco arrogance harry start grow left question answer half blood prince best book ever oooooh honestly ended watching movie reading book ashamed absolutly dying read half blood prince favorite movie ergo favorite book bit odd one guess liking 6th book 7th help draco book seems struggle well harry love show thing going well think hard even little rich slytherin earlier book little draco sorry shit ruder meaner thr movie figure love draco tom favoriteist character actor rowling fabulous read harry potter book shame one book series always think like least reread discover love much others also always find remarkable three teenager immediately prepared take immense responsibility ron hermione readily agree drop everything harry think throughout series see snippet ron hermione strength hermione specifically point realize way strong harry one thing always bother book anticlimactic cavern scene always seemed suppose could explained due dumbledore death fighting hogwarts death well fact horcrux actually fake always wanted little scene ven fighting sort seemed anticlimactic told second hand reader well think book final chapter taste sadness come final original series series whole star read first came year ago luckily forgot happened almost like reading first time reason remembered killed dumbledore sideshow bob mentioned episode simpson worried harry hand best line whole series might one favorite septology voldemort past exciting terrifying time also leading towards end series great suspense going read half blood prince actually expected get bumped star staying whatever reason book series built one head way better remembered thought reveal prince impact actually really much impact movie stand fact book version half blood prince much fleshed movie version sense much better forgotten hell bent harry finding malfoy proving something interested book compared others fact actually completely right mostly completely yet everyone think hate malfoy going little overboard book series harry sort right belief going even closest friend believe indulge listening clearly buying harry theory anyway get away bit one bright point book harry ginny coming together forgot part storyline probably pretty much absent book came together sweet nice respite harry reader midst bad thing clearly brewing world around going say hated reading one say one bigger disappointment read mind recollected happening actually think part knowing crucial role snape play book also knowing reveal book mind combined event book thought actually happened book basically fault one disappointment one book another great harry potter book still going strong six book book little bit darker first five book like ending sad good made feel lot emotion book would recommend series book anybody previous installment remember book felt bit underwhelming first read prologue real action deathly hallows however think actually improvement previous entry series lack solvable central mystery order phoenix happy see half blood prince meticulously plotted three le separate mystery converging throughout novel nature malfoy plan mystery half blood prince spellbook flashback voldemort past begin understand key immortality possible defeat also get spend lot time dumbledore great especially third chapter arrives dursley house also really liked character horace slughorn somewhat morally grey dude still decent person seen come slytherin honest still think goblet fire onwards novel could done trimming cutting repetition meant make sure reader forget anything would helpful book still remember complete denial dumbledore death end book religiously followed dumbledoreisnotdead com convinced day rowling planning dumbledore still alive saw website said teehee going really dead actually fair reading reading book think actually intended dying year old heart take fact dumbledore could really dead enjoyed book feel like stand well set book learned much dumbledore one get taken away worst way possible loved half blooded prince paper absolutely cannot believe turned since like character 2015 reading challenge book magic matter many time read series always love every single time book greatest potential greatest let get wrong harry potter series first four least enchanting engaging truly worthy read worth hype could name hundred book score series would better use time sadly receive hype series last two somewhat three book read somewhat potter nut gave fourth book five star reason starting fifth book story begin fall track sixth book downright disappointing fact fan girl get hero annoyed seventh book moment admit rowling shot pathetic epilogue seen better writing ten year old exaggerating would tell try series great gate way book worthy fantasy book many many people convinced many kid reading fun one series believe historical value fact looking astoundingly great read however look elsewhere read 2016 great book amazing see set much previous book brings light book author rowling return back form sixth installment harry potter series although darkness later novel ever present magic charm first book series return bring nice balance novel like lot people sure last night midnight picking copy eagerly anticipated harry potter half blood prince went grocery anticipating line also could purchase thing needed get home faster begin reading read harry potter novel rowling le day today finished sixth installment feeling somehow different beyond order blurb inside book jacket give reader clue harry potter half blood prince going somewhat different focusing everyday wizarding school hogwarts rather event happening outside school story begin professor albus dumbledore headmaster hogwarts harry staunchest protector evil wizard lord voldemort come fetch harry aunt uncle home summer holiday harry family muggles non wizard display usual fright confronted anyone wizarding community dumbledore escort harry burrow home harry best friend ron family rest summer let harry know giving private lesson course school year also task harry luring new professor hogwarts professor slughorn reader assumes take defense dark art position somehow end vacant every year course rowling thing never initially seem dumbledore private lesson harry actually consist delving lord voldemort history slughorn seems want cultivate small cult student move bigger thing important connection actually become defense dark art teacher harry ongoing battle voldemort take several unexpected turn new harry rowling twist harry potter half blood prince live usual gift surprise including source assistance harry get half blood prince title many plot device sub plot character left hanging fred george weasley usually entertaining appear beginning book get little mention rest book engagement bill weasley former beauxbatons student fleur delacour seems almost pointless intrigue regarding depressed condition auror nymphadora tonks similarly introduced wrapped bit tidily even professor slughorn seems little one plot point fit bit neatly dumbledore charge harry even noticeable irritable teen order phoenix replaced almost unbelievably mature harry seems accepted loss godfather much stoicly year old boy new harry one nearly adult feel time rowling lost touch character listing audio book includes harry potter half blood prince part romance genre expect year old raging hormone time everything else take back seat snogging game probably biggest surprise much le dark violent harry potter half blood prince compared previous two book five year old daughter fallen love harry potter let read first three book violence goblet fire order phoenix much opinion probably would let one rowling dedication harry potter half blood prince baby daughter reader left wonder perhaps feeling pregnancy lightened mood bit series point gotten progressively darker yet harry potter half blood prince even darkest wizard ever known back full power seems almost pollyanna ish time still harry potter fan long wait nearly 700 page still worth read many plotlines tied bit neatly least bit refreshing many question answered left previous six book harry potter fan left unaffected ending rowling leave fan clamoring waiting last installment promise different previous six book review previously published epinions http www epinions com review book_h one might actually able challenenge prisoner azkaban favorite series love love love still remember sister screaming teh room got certain pivotal part book well written say truth till day view book really long prologue deathly hallows book set action whole year half set head swirling trying identify rest horcruxes identifying never much proud discerning locket yup brilliant naguini harry believe happened thought might hoax thought realized book voldemort horrifying get know came life sad story pity mom get know life orphanage uneasy child creepy one wonder dislike muggles averted disliked back came get know attractive teenager powerful wizard wasted voldemort background excuse horrible way let understand became dark lord emphasizes mind choice set course like voldy harry parent picture even picture like voldy harry lived orphan even worse family made feel orphaned orphanage make child feel like voldy harry peculiar child friend unlike voldy harry decided let erase faith good justify may act bad better message writer send world never okay used rank book reread completely ruined hope book good neither live survives prophecy haunt harry throughout sixth year hogwarts know choice face voldemort must find weak spot dumbledore asistance harry venture voldemort past find secret destruction going inside hogwarts take center stage novel student battling way class quidditch tryout love dramatic battle draco serious dilema lead breath taking screaming gasp inducing moment cannot forgive rowling warn tear hilarious part yet serious others harry potter disapointment despite heartbreak loved every moment initial memory one somewhat tarnished desperately waited new installment waiting bookstore friend finally received copy one flipped back shrieked snape kill dumbledore kind let still love book though see happened point make sense also desperately defended snape much disbelief friend believed something pleading argument hagrid overheard still sinking heart read hoped heart proven right sure final book reread periodically harry potter much alive every day waiting book movie 1600 facebook page updating news every day severus please book broke soul many piece would put voldemort shame waking nightmare comforting whisper dark safe really imagination last greatest protector died alone ever never read harry potter realized amazing dumbledore much harry relied dumbledore one ever feared honestly believe year old self idiot loving man draco malfoy character building seeing self confident narcissistic draco cry shocking kill dumbledore even voldemort threatened life brilliant character progress book come break heart please gotta say book surprised first time read harry potter standout book sorcerer stone goblet fire deathly hallows book seemed filling way get one point next first reread fell love order phoenix developed grudging admiration prisoner azkaban grudging admiration mean rated five star instead reread half blood prince book wowed everything teenage angst character driven plot revelation end seemed perfect perfectly plotted perfectly placed loved learning voldemort past shaped future think mentioned chamber secret review parallel voldemort harry kind astounding tragedy life truly made also liked idea prophecy power voldemort gave power pretty cool loved harry time spent dumbledore though admit dumbledore constant secret keeping mysteriousness get little irksome time understand harry benefit really possibly qualm book also loved harry ginny margaret ginny weasley wonderful character full fire life told romilda vane harry hungarian horntail tattoo first kiss front adoring crowd ginny house cup harry landed detention ginny awesome amazing turn abysmal shadow movie tying harry shoe trust feel personally victimized taming ginny weasley ahem another aspect novel hit right feel draco malfoy character transcends petty father hear nemesis harry serf earlier book rowling illustrates way treading water pool grows deeper kick boy way head saddest part boy sixteen already threatened voldemort already serving dark lord harry character matures towards schoolboy rival begin pity draco end begin see different read book pretty quickly typing review going say finished two day even though third time completely absorbed reading many english nerdy bright analysis comment whatever happened defense dark art teacher voldemort applied job presumably 30ish year harry went hogwarts teacher quit year die quirrel forget marauder want dada teacher series oooooooh idea cormac mclaggan name say read grating becomes low key spent entire novel wanting punch face ron say nee squeal speaking teenage angst kind wonder whatever happened lavender despised within context narrative course getting way otp think would decent character affiliated ron die next book rowling released information future honestly remember man hope die fred george really awesome glad mr weasley finally see refusing think happens next novel nope slughorn referred ron rupert see rowling sly dog see always favorite quote yes said harry stiffly yes sir need call sir professor word escaped knew saying sassy harry favorite harry let step night pursue flighty temptress adventure utter perfection within single quote thing growing fred george said ginny thoughtfully sort start thinking anything possible got enough nerve love ginny love fred george love quote ooooookay time margaret alyse harry potter reread cry tally harry potter sorcerer stone harry potter chamber secret harry potter prisoner azkaban harry potter goblet fire harry potter order phoenix harry potter half blood prince yes read correctly cried six freaking time book possibly read two day harry smelled flowery smell burrow amortentia potion mentioned much love harry ginny quote lucky day weasleys ron decided sit compartment hogwarts express harry touched many level harry dang awkward response adorable ashamed admit cried dumbledore insisting drinking potion harry panicking maybe knew coming maybe hidden gem scene often overlooked felt scene really helped solidify relationship dumbledore harry afraid many parallel beautiful moment draco struggle faced dumbledore kid younger granted year young forced kill someone possible cost family twisted demented wrong harry grief shock dude lost much many people every time pick strong character frankly astounding though interesting harry never funeral dumbledore wow seven spoken one sure surprised total cry tally half blood prince onto deathly hallows probably rip heart little tiny shred probably pretty much definitely know rate entry series everyone else think read prep book okay bad butttttttt harry stereotypical boy come ginny disappointed reading almost full hpness hand think new favorite last book depth whole harry right malfoy something plot piece quite remember previous reading entire funeral scene stuck hard visually head always startled thing happen book happen movie half blood prince best book fight favor rewrote page 596 read september 2015 first 300 page slow boring much recap get end awesome good empire strike back esque cliff hanger needed scene harry girlfriend ginny interacting fell love hey worked prediction reading next book harry discover horocrux locket taken regulus black left grimmald place taken mundungus sold bellatrix another horocrux spoiler alert forgot much love book sassy harry dark theme love final harry childhood feel end book realizes ever important mission matter cannot wait start final book read july 2012 read july aug 2013 one probably favorite series character become cardboard cutout especially dumbledore ron annoying useless ever part dumbledore know still effecting first time read heart pounding hoping miracle reading understanding hatred revulsion snape face moving understand people like malfoy much yeah desire gut kill dumbledore extraordinary good luck would killed two people parent necessarily like consequence evil befriending soulless murderer well gee cry river like malfoys annoyed people find awesome jerk read aug 2014 reread time year old read first time struck rowlings ability show thing bit time book would expect anything happens 7th amazing much story think know go subtle thing first book notice read lot fun see love book read aug 2015 told josh would buy butterscotch beer read harry potter series summer break beat finish done finishing one great read usual understand dumbledore tell harry dying asked snape kill surely realized might happen came back hogwarts even moment sometime near future dumbledore knew snape would tell harry completely irrelevant task harry given seems like tell plot anything plot struck annoying read jul 2017 fun read still sad possibly make book magic boring called massive plot dump dumbledore instead probably favorite wait hard decide love book though one number favorite reread probably teenage romance climax pacing little relaxed love end one make daring move always pleasure read bawled like baby last page emotionally touching book series huge dumbledore fan death mark end era also snape poor poor snape malfoys find anyone victim dark side irrespective blood status feeling good dear sexist jerk ron ginny property hermione whatever like life please stop acting like entitled prick clear yes thank dear tonks get already many fish sea well wish given book star definitely merit higher rating second least favorite still good ending refuse write review book much epic awesomeness justification read damnit salve wound book far favorite sci person surprised invested become book year year old brings drama romance usually look book love whoa snark impression impression called time cho ginny wait come horcruxes reminding link collect pendent get master sword get taken dark world get seven crystal get lot le fun link past next book le fun probably never trust book handwritten instruction shoulda learned diary malfoy allowed back hogwarts year really gotten bored quidditch point huh food candy want pensieve snape bunghole wrong doubt original assessment feeling story far missing piece worked mentally well one shed detail long craze book four five got point one expect last installment spellbound rowling writing style love follows great writing tradition english great love fantasy enrapt another world love series rowling wicked sense humor vivid narrative hogwarts occupant come alive found unable put thinking love getting lost story rowling make easy cried long finished book even moving captivating last one definitely favourite book series far put three star end book started something action book dragging along usual think slowest read potter ending one made freaking mad ugggh one many rereads yet still pick new bit piece missed glossed book ginny best last chapter still hurt year later still hurt dark side series full force even terrifying story voldemort came terrible thing bit teenage angst relationship drama one would expect sixteen year old also first time something set following book end others assumed school resume normal whatever happens happen time around going back school wedding attend harry vague plan defeating voldemort need find setup rather nice end book fleur announces bill scar prove brave beautiful enough tonks begs lupin understand love regardless ginny say never gave harry still prof everything dumbledore always said true love overpowers evil reviewed series whole desperately trying remember happened book nothing really jump average series star middle summer unseasonal mist pressing windowpane harry potter waiting nervously bedroom dursleys house privet drive visit professor dumbledore one last time saw headmaster fierce one one duel lord voldemort harry quite believe professor dumbledore actually appear dursleys place professor coming visit cannot wait harry return hogwarts week time harry sixth year hogwarts already got unusual start world muggle magic start intertwine amazon novel coming together suspense hooked see end feel like heart soul ripped body many tear book rip heart loved well written character well done story well told harry freaking potter leave tear prepare get ready final book series sob half star put close enough minor issue book still thoroughly loved first time ever loved ginny written well others like quite much 6th book started reveal solve mystery suspense rather increase course appropriate found quite exciting also sad series drawing close yoooo feel back man forgot addictive series finally say ron hermione harry squadgoals book ginny new crush favorite book seamlessly combined world magic war teenager also first book ever make cry forever favorite harry potter book loved reading book second time around cry dumbledore died get really emotional mr weasley talking bill young men healthy always stay way serious heart string tugging going liked voldemort total sociopath collect trophy like show serial killer made imagine map line going everywhere picture harry potter bedroom find slughorn annoying originally found second read still obnoxious also really smart calculating wait read last book want book club end wrong half blooded prince even darker predecessor everyone finally growing falling love seems one character purpose book couple love triangle one namely ron lavender hermione harry ginny dean jealousy strike love inevitable harry love ginny weasley ron sister hermione love ron even though lavender brown snogging partner meanwhile dumbledore plan harry revisit tom riddle voldemort memory find riddle darkest intention childhood reason became man cause new discovery horcruxes piece soul inanimate object ensure person immortality understood anyway voldemort seven horcruxes destroyed also harry find book name tag half blooded prince hence title book help harry pas potion develops obsession book talking obsession draco malfoy something harry want figure say voldemort helper someone seems regret book lot twist unfortunately spoiled repeatedly much think matter say snape kill dumbledore said end review almost final book read somewhere last book potter series lagged comparison rest lie anything enjoying series kill dumbledore cried hard first black dumbledore hose next hagrid owling invent series break fan heart arry potter without dumbledore like night without moon star enough cry yes officially hooked joined bandwagon count book instantly remind winter one much fact started reading one next wood burning stove covered blanket book cold tinge bitterness melancholy since beginning really feel reading part even make feel sad happened end order phoenix brought promise global change almost palpable safe place anymore harry trust people even trusted friend still refuse believe say voldemort even though could clearer evidence return nonetheless absolutely enjoyed book start finish love rowling changed whole pattern book summer time hogwarts problem adventure real quest defeat voldemort differently previous book one nothing particular impact happens harry new semester hogwarts begin significant event recall dumbledore using human magnet attract new supposedly defense dark art teacher introduced slughorn liked minute one opinion one believable character rowling ever created wizard considering harry friend majority weasleys display certain stoic behavior like professor mcgonagall instance even express much emotion entire series slughorn hand russian roulette conflicting emotion since introduction feel proud acquaintance ashamed afraid others feel attracted opportunity teacher would allow meet even talented people afraid impact exposure teacher would make life world wizard set upside well event harry sent weasleys nothing really meaningful happens customary travel hogwarts enmity reinforced might say must say atmosphere school utterly different book student even return school afraid quite remember happening even chamber secret reopened book two soon semester start dumbledore start inviting harry private conversation office start realize book really send normal school affair dump let investigate voldemort past might come way defeat found great rowling added rebellious teenager behavior back harry caring much school anymore focusing new found mission added much believable sense character whole story anyway whole book get know collected memory people interacted voldemort point existence lot unimaginable priceless information help understand drove become monster setting harry mission apart instant would like mention fun part book due tinge sex drug rock roll rowling displayed constant love conflict hormone exploding everywhere even hermione could never guess cared much people found cry corner feeling alone betrayed giving young wizard little bit muggle adolescence hell well done sense make story much believable story go dumbledore harry get closer closer uncovering voldemort deepest secret lead outside hogwarts search evidence unfortunately result little adventure disastrous getting advantage dumbledore momentary absence hogwarts dark force find way castle thing get really bad rowling afraid anymore sign advanced george martin syndrome firmly displayed make take star book ending bitter sad setting clear path expect final book interesting quote include review unknown fear look upon death darkness nothing dumbledore say people find far easier forgive others wrong right read number thirty something july 13th 2014 second favorite potter book read one dozen time always nice curl favorite book even malfoy plot one drive nut definitely one darkest book truly heartbreaker adored finding malfoy involvement voldemort snape snape awesommmmmenesssssss awesommmmeneeeees old friend dumbledore left meeee favorite book series mostly make little bit clearer going end hermione betting right one think happy got right whole time lie book set forth thousand adult tear great prominence emerged dinner subdued family joined mourning told finished half blood prince god snap broomstick across knee stab heart sure much le painful read june 2014 gosh get enough must seventh book full review come book broke heart dumbledore died wtf caution spoiler actually believe last book already always intimidated size series size book flown fast fact want end awe much series gotten skin tried read thing instead binge reading found trouble getting anything else think continuing series know going book hangover series definitely special going hard read something compare say kind underwhelmed reveal snape prince mean made sense hermione explained really big revelation kind like half blood prince barely mentioned even though book named prince book major part whole story also dumbledore omg trouble believing first ridiculous remember death clearly movie knew dead even still seem real still get eventually start cry talking funeral cannot deal sob finally harry ginny get together realize late series happened kept waiting also kinda wanted bash ron hermione head together clearly hots something absolutely love series never love triangle ron hermione harry harry hermione never best friend rare see platonic love story wish boy girl friend people love harry hermione prove absolutely beautiful close brother sister love much think friendship one favorite fiction want platonic friendship deep favorite quote harry let step night pursue flighty temptress adventure review originally posted novel heartbeat see breakdown assessment please visit full review whether adult child great fun read 1st read 2005 2nd read 2007 3rd read 2014 yes yes yes finished get back lol know took long mental problem omg think new favorite harry potter book loved learning everything voldemort background thought one good mean amazing know problem anyway listened audiobook one jim dale freaking amaaaazing narrator much fun listening love love loved book magical glad finally experienced one also movie seems shitty comparison lol changed much mean thought really liked movie think much failed spoiler alert case weirdo finished series biggest problem movie dumbledor petrificus totalus harry movie hanging underneath harry harry would never stand intervene dumbledor petrify make much sense still could gone snape way second dumbledor died curse broken understand changed movie character also mad changed harry ginny first kiss get together stuff good movie changed silly thing get although admit loved portion movie harry taken felix felices funny lol enjoyed part movie lot mind change made guess still book much better course always lol thankfully book much better predecessor probably best series far nice hogwarts constantly covering ground previous book pace steady moved along well looking forward next one prepared book book darkest far series harry begin secret lesson dumbledore order find way defeat voldemort highlight include awkward teen romance slug club suspicious draco malfoy best moment need call sir professor highly recommend goodness great book depth character development amazing although book substantially long feel read quickly end book always feeling roller coaster ride always tear rowling amazes ability choose exact right word every situation writing exemplary last reading probably around tenth time read get better every time favorite book series see deathly hallows top enjoyed every second know cried much reading book one book know want read yet really like world want end saddest ending among book far even though knew going happen watched movie book ten time impact certain wizard death devastating really half blood prince absolutely knocked goblet fire top favorite harry potter book certainly brilliant really something since every one magnificent romance gosh harry ginny adorable keep goofy grin face kiss gryffindor house cup ron hermoine tonks lupin even bill fleur fleur ceratinly mr weasley good looking enough bit course important part book harry learning voldemort past horcruxes deep bond dumbledore harry developed throughout series dumbledore saw harry equal much trusted harry worried quite moving draco malfoy hmm still want believe still hope boy still like much victim anything else snape hand never liked really know really villain think working dumbledore side much harry seen movie dunno half blood prince last movie seen yet make excited reading last book last whaaa clue going happen norwegian audiobook like one previous still felt quite hole first problem book dumbledore one like actually like movie book annoying feel like absent movie hard dislike book actively avoiding people secretive feel like book thus far ended saying something effect underestimated harry lead grave danger must make mistake must upfront trust strong enough deal truth next book run around secretive book exception even start giving harry lesson make seem like sharing information though end take almost entire school year tell one thing also necessary harry get memory professor dumbledore already know voldemort done already started destroying horcruxes memory actually confirm anything another thing dumbledore knew malfoys whole year something earlier wait actual confrontation say protect family likely help intervention earlier le involved death eater seems like never really concern malfoy disagree come around last second pretend cared along lastly point beginning scene think beginning dumbledore go harry house supposed funny really rude reminded lot article explain rape offering someone tea force tea people perfectly fine drink tea even offered also fine offer tea people want drink okay pour throat anyway onwards thought book pretty good thought book much like previous much action one work development character think overall character got bit depth ginny possibly snape worse story part little unclear cave largest one bit unclear dumbledore able guess exactly everything supposed accomplished say magic leaf trace sure lead realization drinking way another part entire thing surrounding snape question beatrix asks beginning super valid question offer good answer also way getting people mind watching memory truth serum neither voldemort dumbledore utilize snape see good side reservation using tactic feel like voldemort would unbreakable oath thing would voldemort every death eater also dumbledore secretive snape switched side everyone trust snape word voldemort wrath seems much deadly even people openly questioned decision overall okay story read series continues plot hole stretched larger still remember day bff spoiled ending book class bff month matter many time read year particular always make cry suspenseful keep edge seat finally harry get angst 5th year annoyance fade relationship adore book plot thickens character develop rowling writes beautifully ever still great book even third fourth time remains favorite many reason one much calm storm sort book much rich backstory given add layer villain dumbledore god enjoy seeing much deeply wise emotionally intelligent kind mentor merciful enemy love apparent secondary even minor character rich complex life outside going harry remus tonks give feel every time ginny clearly brash passionate force never get quite enough page time liking also found read special appreciation molly weasley super mom favorite book series contains mystery tragedy sacrifice pulled emotion much book series still love anyway spoiler warning seriously read book case say warn aaargh book want love much step ootp man friggin ending hate love bad vibe kind overrule loved dumbledore funeral nice farewell great character hate died hate stupid noble break harry ginny seriously waiting two get together since forever give measly couple chapter near end book hardly anything happening page end stupid shit let protect bull shit seriously telling someone like lord voldemort able figure much ginny mean break reason whatsoever funeral ron hermione come along grand adventure care happens right poor writing stick like sore thumb series otherwise part well written deal right grieving dumbledore damn become lenient year upped three star four cannot expect stuff like get full mark going happen rowling lot thing right series romance however one chick lit list loved say easy understand character wow read book like five time still sobbing reading harry potter book part group exercise friend chose book series write margin sharing thought etc throughout chose hbp favorite book series book took series completely different direction introduced idea horcruxes made snape one debated character history rocketed along lot humor fun touch romance well perfection reading reminded love book much fell back love character description great humor spot characterization make series shine well rowlings incredible world building hbp everything could want book definitely delivers love first time read half blood prince nooooooooooooo dumbleeedooooreeeeeee die snape mother third time read nooooooooooooo dumbleeedooooreeeeeee snape still finished reading angie today forever treasure memory angie bolting upright going rescue one character one reading session wait see think last book well like remembered book sure inevitable march toward doom rowling still make lot apparently disparate detail suddenly come together excellent plot huge sucker tom riddle backstory noticed lot detail time reading end bit bedtime pretty miserable making aaaand ready hp7 think read three cup tea making cry much thinking make cry dammit significant read one discussing part book read course discussion renamed book harry potter year nothing much happens end get wrong latest installment harry potter series still well written engaging novel story move along energy earlier novel character still well developed history presented volume interesting well feel could done lot le snogging lot actual event going ruin twist book going much detail suffice say feel decent book left feeling bit cheated wanting bit well everything home run yayyy took week read book short enough carry around purse got read billion time faster last couple emotional work great suck lavender brown flashback structure pretty decent draco dilemma good could thrilling finale kind come surprise book one knowing plot arc sort ruined kept wondering thing going happen finally record liked tonks like lupin love weasley like young whole men always stay young whole forever sniffle favorite series read deathly hallows knew coming knew perfectly well prepared still stung hurt lot brb still cry good last book hey nobody perfect think issue rowling make sure set everything needed grand finale book threw flow book stand alone work reserve final judgment read harry potter deathly hallows picked comfort read trying resist rereading last book movie come know make annoyed movie would mark definitely weakest harry potter book harry much le likeable friend others throat whole time disappointed end smashing climax make worthwhile like rest rowling lot thing well high school romance one opinion book focus much spoiler alert really know think beginning since first two clearly important scene done outside harry frame reference whole point book limited 3rd person pov find thing harry clearly established rule book understand changing 6th obviously point author make rule made rule supposed abide also created exception done easily substantive rule vampire wander around direct sunlight eating garlic care say style rule clearly established supposed broken unless need information conveyed way see conveyed information scene later book usual way okay yes clearly important know unbreakable vow harry found anyway sure know point could introduce narcissa use bellatrix sure care guess could suspect snape would definitely fun game suspicious clearly planted suspicion best guess need know snape made unbreakable vow vowed must convenient way also would like veto love triangle know know bunch year old two gender constant close quarter would shocking triangle woeful read million billion page ron really spectacular mcasshat want lavender really nothing really although worry going ron hermione fight lot think would change much matter happens bickering unspoken passion time think ron started snarking move around year hermione thoroughly hermione year also kind like viktor krum funny although surprisingly supporter harry ginny heart ginny think would work well mean go bad bad harry pointed maybe bad maybe one thing entire series end going bad could one dy end book wah veto one disadvantage johnny jill come lately knew dumbledore died like knew sirius died managed block supreme conviction someone belief bad ending worked time get unfortunately deprived dumbledore deprived sirius yea verily cried cried harder sirius dumbledore though sure probably dumbledore death shock happened busy screaming book really emotionally wracked back read twice make sure really understood happened seemed like way end eeeeeeffffffff mean imperious curse consequence unbreakable vow ron harry right time utterly bizarre earlier book thinking even though snape always like end usually seem right like made lupin serum tried teach harry occlumency whatever even though like convinced dumbledore right trusting thought maybe harry sucked apologized snape actually tried polite might help like sorry accidental disemboweling malfoy mean yes malfoy trying use cruciatus thinking harry manned said snape professor sorry without making excuse might make different turn holy mother jesus howard christ pogo stick snape betrayed potter seriously rethought idea really still working voldemort entire time mean wondered everyone circling year going dumbledore trust want make clear could eventually crack wha wha dumbledore died fake horcrux fudge brain waved tiny white flag crawled corner cry dear rowling please cease desist phunking heart book prologue book unfortunately book stand read directly book order phoenix dove deeply scene description superfluous dialogue harry interiority book step far back harry feeling could story character perspective plot still better cohesive published novel simple harry potter book would equate half blood prince complexity sorcerer stone little boring utter lack new interesting idea really mentioning inferi million time significantly increase worldbuilding book sorcerer stone older reader looking forward reading next book stuff actually happens spoiler alert totally got deserved well written like character reread full review please visit thought pen finally second last installment boy wizard amazing story read book age ago stop reading especially fast month terribly missing harry gang must probably know read past book review intend finish reviewing harry potter series owe big time anyway second last going review definitely moving read another series watch one start half blood prince currently hold number spot favorite harry potter sequel prisoner azkaban holding top spot mixed emotion negative way though know whether happy heartbroken finished one favorite character spoiler know necessary able convey review book going specific lot thing like hbp number one rowling fail give another jaw dropping twist mystery book end breathless like trout water second answered question hanging book leaving slight cliffhanger end enough make everyone happy thrilled read last book third oozing teenage romance young hero made heart flutter stomach queasy anticipation totally admire portrayed funny wholesome way unlike book take advantage whole romantic angle attempt save book fourth love rowling chose hbp tracing tom riddle life history well timed feel like whole riddle story inserted make page longer fifth rowling consistency character interaction dialogue always reason look forward reading reading book never time smile every time sarcastic remark punch line delivered emphasize love new character introduced book professor slughorn outrageous overenthusiastic glutton dot harry every opportunity got maybe older version colin creevey sixth love everything hbp serious tone harry obsession draco slughorn harry unashamed credit taking new potion brilliance least authentic ron newly found hobby snogging public harry moment finally finding right girl spoiler lesson dumbledore riddle life dissected one thing made mad book need sadistic taking something learned love enough completely pain harry past harry past loss painful enough feel need strike another blow sigh cry wrap review hbp excellent spectacle set stage final book tidied loose end previous book without spoiling hunger next book must read even reluctant reader favorite quote harry let step night pursue flighty temptress adventure really enjoyed book series top prisoner azkaban especially loved background information voldemort movie skipped really fast read highly enjoyable series sporadic quality astounds real middle ground either love hate book say half blood prince former book amazing suspense romance humor heart break even everything going bored moment waving hand huffing two character taking billion year figure obvious spot growling character idiot also without spoiling anything gonna hint real quick know much love love story budding growing year year people year see make happy really enjoyed installment series much hoping next one final book disappoint like end bang best book series amazing first confession relatively sure first read remember night book came went midnight event friend even though book reserved remember came bursting room whee hour morning sobbing dumbledore dead honestly know yet problem relatively sure watched movie okay yes still fighting last sniffle watched read anything seventh year heard thing thing like snape good along crazy fan girl vindicated looked ben one point tonight said never like snape like brutal soldier movie hate everything enjoys fighting might fighting good guy hatred still boil inside rowling manages number well already earned fame another confession even though knew story book totally forgot half blood prince snape imagine next book honestly cut short disappear sixth book harry potter series spoiled lot series happens end one mean took surprise cried like baby talked boyfriend started cry like baby need break read final book also harry dumbledore make review previous reading dec 2008 book get sticky place harry kind busy stalking draco think anything else really got nerve bleh actually one engaging series saying something love part dumbledore even moreso book dumbledore hilarious truly best faced death also like get short harry one finally act like expect le patient time seriously anyone read immediately go deathly hallows see dislike dumbledore long break maybe love characterization brought lump throat every time someone mentioned sirius harry review month due conflicting schedule note already read two year ago remembered check go thing like book dumbledore death yes finally breaking read two day possibly even one day sure acquired ariel former bookseller new paltz release party lovely reread first time since watching rewatching movie two thing better movie rest better book although movie make nice condensed version wish shown dumbledore funeral dialogue harry dumbledore drinking potion cave much better book dunno please movie thought people knew dialogue anyway lot reveal end could perhaps shown point good story wonderful character rowling inventive much much one best book ever read revealing much first person movie one treat written story understand bit better single minded harry rowling characterisation amazing many character revel following adventure half blood prince especially loved budding romance harry ginny magnificent character seen movie like long time suggest sitting night charming modern classic work fantasy harry almost lost everything ever loved still grieving sirius remains mostly like harry mostly deal problem shoulder age sense normalcy book depended upon harry potter always favorite book series half blood prince especially loved snape favorite character book loved learning bit past read book fast get way could finish series honest least favourite installment read young appreciate conversation telling historical story history certain character even looking back series though favourite possible skip understand final book would probably second favorite series love development ginny weasley central character part wish spin last year hogwarts reader thought get darker quite thing like book book poorly written many bad thing happen character plotting still good riter thought dumbledore die course mentor character stay throughout entire hero journey arry become hero dumbledore always suppose dumbledore could incapacitated another way next book would saving dumbledore rather stopping voldemort aybe voldemort could kidnapped dumbledore kept coma stasis way aybe gloat ind like han solo carbonite freezing happier problem amazing long take read book half size book blow matter hour swear first two time read book like much third time couple scene harry dumbledore choked time thoroughly embarrassed systematically losing shit every chapter still lot problem book sometimes harry little snotty palatable plot get weak point harry potter book inherent insatiable charm always hit right feel feel like soul got trampled cried much since augustus water happened romance subplots still hate sorry might favorite book series love backstory tom riddle learning horcruxes pretty much say know emotionally prepared read deathly hallows aaah harry potter amazing rowling wrong spoiler alert tend think volume interesting almost quirky point harry potter series continues dark tone set order phoenix punctuated near death macabre happening brutal loss beloved character also effectively serf first part series conclusion pivotal much foreshadowed war force good evil well underway however unlike book directly much half blood prince hearkens back first book focusing largely daily happening school rowling continues much action impact story climax happen drawing room take issue found interesting effective way ensuring story told primarily harry point view surprise also reader surprise handled better fashion favorite volume goblet fire end book made behind scene action noticeable half blood prince unfolds gradually periodic acknowledgment side shadowy action conclusive final gambit book also echo exposition heavy feeling order phoenix le kind reviewer pointed large portion book dedicated dumbledore showing harry bit piece voldemort past first reading standalone book make somewhat slow meandering plot feel make sense context entire series fourth book introduced grim direction story second half fifth book gave insight good guy one give insight bad guy reader ready conclusion much enjoyed peek voldemort backstory helped make sense character rather dismissing evil evil sake also note reflection harry predicament previous book whereas determined knew proven unfortunately incorrect time instinct correct beginning nobody listen instance prove dire consequence least harry irritating teenaged sulking yelling admit authentic character standpoint even bug hell refreshing part half blood prince however return charm levity hogwarts even sinister undercurrent action book take place class serious business main story broken quidditch classwork young romance feel like final acknowledgement relatively benign setting introduced first harry potter book instills mixture nostalgia wonder book furthermore make event book main story jarring emotional occur around light hearted magic everyday teenaged conundrum hogwarts culminate direct assault within school course discussion book would incomplete without covering spoiler death dumbledore fall neatly within confines version monomyth rowling heretofore created dumbledore gone harry loses mentor last confidant therefore prepared going get venture forth defeat villain immediately set last chapter dumbledore given rowling usual abrupt death scene also given touching remembrance character reaction elaborate funeral serf setting harry next decision impact death immediately profoundly felt character reader especially considering much time spent book endearing reader dumbledore always whimsical comforting character even aura power authority half blood prince establishes benevolence point laying little thick nevertheless death leaf palpable feeling uncertainty harry prepares face voldemort kill killed setting right epic tone end book beginning final volume found liked book much second time read like order phoenix character fully realized point react situation realistic way half blood prince strike interesting balance fantastic macabre perfect story standpoint fine job maintaining overall story arc rhythm book also connects loose end throwaway moment previous book brilliant character story setpieces revealing rowling penchant grand design planning ahead unapologetic harry potter fan like half blood prince serf examination series interesting character severus snape first foremost among reread finale spoiler alert always felt book shit get real keep rowling habit upping ante older character reader growing character get fantastically well written enjoyable remember get full detail deathly hallows snape betrayal going pissed revisit one watching movie first time movie based book damn old fool give harry great instinct fighting belief best friend putting hero complexion mean want take world got prepare waterworks next book rereading book wonderful still tied favourite book despite end last book take place normality like yet harry friend older stake higher thus far also great mystery winding way storyline keep interesting entire time really need harry potter world orlando dare youuuuuu killl dumbledoreeeeee cannot dieeeeeeeeeee aefaopihdf asdha ldjn sand alsnd powerful good wizard goddemittttttttqrnao hraojsdajsd god believe rowling killed dumbledore believe hat absurd thing ever wonder much dumbledore book thought weird around ever heir meetups also show patient dumbledore good wizard kill mad severus snape pleading umbledore pleading please severus avadakadavra dare dare need find snape kill please rgh mad hen read refused believe thought dumbledore trick sleeve like maybe clone anything finally hit character died harry said end right alone without adult parent figure stand voldemort face alone nitially thought book kinda fallback order pheonix ending take mean book kinda slow focus mundane thing much even harry hat suspicion towards malfoy seems childish sometimes love story half blood prince book private lesson dumbledore etc like said ending take really like harry got together ginny like sort happen right way totally break ending though think get together soon final book final book already ready leave world edit almost hour still mad snape right believe dumbledore died like hand person trusted nonetheless uch treason nape ever forgiven matter remorseful even dumbledore died still believing good people still trust snape even last straw must know watch movie think watched first final one never really pay attention spoiler co always try avoid one much dumbledore death came real shock year late lol movie god dull justice book book full feeling time movie lack ntil end book harry still full anger fury movie harry go like wow believe beautiful like dumbledore funeral ginny made first move movie really like harry kiss ginny first heat moment well still good listening audio book double speed get tome like much faster liked one lot great finally know background shall named furious dumbledore trusting snape retarded hard tell still working voldemort ever since first book still hoping harry get hot hermione care think book damn good spoiler alert horribly disappointed harry potter order phoenix took year read book book back form harry moody whiny teenager plot fast engaging really enjoyed back story voldemort little disappointed snape malfoy behaved exactly set behave series hoped might redeeming moment may yet kind like reading murder mystery find red herring really spoiler believe character die series still convinced sirius gone guess believe dumbledore really die lack emotional punch think wizard able wave wand mutter curse save anyway wait get hand book see end bad got wait read mockingjay vote class second last harry potter saga great great loss word describe unbelievable amazing book reading series ten year last reading finding wonderful wait begin move forward final one adore character beautiful writing style story twist definitely child book simply put great book like said point best thing series really think one best book ever read certainly worth reading recommending one time best book know snape reason everything find 7th book betrayal hit hard every time owever make happy allow draco kill dumbledore entire book dark feel like darkest book remember reading first time grasping however got older read also movie came helped understood subject matter better enjoyed story better lead grand finale harry potter series rowling ratchet tension another strong installment harry potter half blood prince deviate little formula beginning ending come expect series rowling also keep reader guessing snape true loyalty hile dumbledore death along harry decision return hogwarts instead pursue voldemort raise stake considerably bottom line rowling continues deliver new character intricate web subplots continued development core character surprise along way spoiler alert enjoyed 6th entry series much book particularly like rowling give reader taste lord voldemort backstory found fascinating see went angry orphan penchant stealing hurting others sinister adult hidden agenda book easily serf bridge harry timeline tom riddle became voldemort issue story even though snape suspect harry half blood prince potion book never pursues prof harry hide within room requirement considering idea half blood prince title figured resolve really see happened book coming beginning end loved amazing finally learn snape left doubting everything thought story general glad read seventh already otherwise may died anticipation best book series one favorite movie well expected think book added lot depth story movie maybe lacking bit even though movie entertaining especially concerning dumbledore death need marked spoiler anymore come know voldemort past everything made sense book therefore tension palpable loved develop romantic relationship book make feel lot young adulty like ron hermione also book ginny much awesome movie ginny true five star read greg nov 2005 reread june 2016 still star make review short harry potter half blood prince started conversation minsiter magic prime minister muggle world really loved part hilarious haha ended breathless moment history harry potter series although book kind focused teenager feeling love angst care whatsoever ruin book lightened sinister mood previous series leave review utmost appreciation albus dumbledore admire usual calm expression guide harry world much darker harry clear dedication still fight idea could use magic good absolutely evil half blood prince best ending series far however harry potter goblet fire order phoenix still remain favorite series ever must try sink beneath anguish harry battle albus dumbledore harry potter half blood prince'"
      ]
     },
     "execution_count": 91,
     "metadata": {},
     "output_type": "execute_result"
    }
   ],
   "source": [
    "# Locing into the joined reviews for book_id 1\n",
    "reviews_per_book['string_tokens'][0]"
   ]
  },
  {
   "cell_type": "code",
   "execution_count": 92,
   "id": "d642fff3",
   "metadata": {},
   "outputs": [
    {
     "data": {
      "text/html": [
       "<div>\n",
       "<style scoped>\n",
       "    .dataframe tbody tr th:only-of-type {\n",
       "        vertical-align: middle;\n",
       "    }\n",
       "\n",
       "    .dataframe tbody tr th {\n",
       "        vertical-align: top;\n",
       "    }\n",
       "\n",
       "    .dataframe thead th {\n",
       "        text-align: right;\n",
       "    }\n",
       "</style>\n",
       "<table border=\"1\" class=\"dataframe\">\n",
       "  <thead>\n",
       "    <tr style=\"text-align: right;\">\n",
       "      <th></th>\n",
       "      <th>user_id</th>\n",
       "      <th>rating</th>\n",
       "      <th>book_id</th>\n",
       "      <th>review_sentences</th>\n",
       "      <th>list_tokens</th>\n",
       "      <th>string_tokens_</th>\n",
       "      <th>string_tokens</th>\n",
       "    </tr>\n",
       "  </thead>\n",
       "  <tbody>\n",
       "    <tr>\n",
       "      <th>901</th>\n",
       "      <td>4672eb229c808b792b8ea95f01f19784</td>\n",
       "      <td>5</td>\n",
       "      <td>1</td>\n",
       "      <td>one of the best books in the series i think.</td>\n",
       "      <td>[one, best, book, series, think]</td>\n",
       "      <td>one best book series think</td>\n",
       "      <td>one best book series think</td>\n",
       "    </tr>\n",
       "    <tr>\n",
       "      <th>1166</th>\n",
       "      <td>5f550cc8d90df1759eda1496621187d8</td>\n",
       "      <td>5</td>\n",
       "      <td>1</td>\n",
       "      <td>it only gets better as the suspense builds in ...</td>\n",
       "      <td>[get, better, suspense, build, terrific, myste...</td>\n",
       "      <td>get better suspense build terrific mysterious ...</td>\n",
       "      <td>get better suspense build terrific mysterious ...</td>\n",
       "    </tr>\n",
       "    <tr>\n",
       "      <th>3027</th>\n",
       "      <td>d8c86e725d683042e9eec675f294d7d4</td>\n",
       "      <td>4</td>\n",
       "      <td>1</td>\n",
       "      <td>first of all, im in love with these books sinc...</td>\n",
       "      <td>[first, love, book, since, year, old, got, fir...</td>\n",
       "      <td>first love book since year old got first book ...</td>\n",
       "      <td>first love book since year old got first book ...</td>\n",
       "    </tr>\n",
       "    <tr>\n",
       "      <th>4408</th>\n",
       "      <td>90c53a2210f33ada709caa5aed0993c2</td>\n",
       "      <td>5</td>\n",
       "      <td>1</td>\n",
       "      <td>this book didn't disappoint me at all. i absol...</td>\n",
       "      <td>[book, disappoint, absolutely, love, charming,...</td>\n",
       "      <td>book disappoint absolutely love charming aspec...</td>\n",
       "      <td>book disappoint absolutely love charming aspec...</td>\n",
       "    </tr>\n",
       "    <tr>\n",
       "      <th>8315</th>\n",
       "      <td>c4f655f2ed79599a9259d7762313f3f3</td>\n",
       "      <td>2</td>\n",
       "      <td>1</td>\n",
       "      <td>urgh.</td>\n",
       "      <td>[urgh]</td>\n",
       "      <td>urgh</td>\n",
       "      <td>urgh</td>\n",
       "    </tr>\n",
       "    <tr>\n",
       "      <th>...</th>\n",
       "      <td>...</td>\n",
       "      <td>...</td>\n",
       "      <td>...</td>\n",
       "      <td>...</td>\n",
       "      <td>...</td>\n",
       "      <td>...</td>\n",
       "      <td>...</td>\n",
       "    </tr>\n",
       "    <tr>\n",
       "      <th>1371766</th>\n",
       "      <td>9de1dd255bb10211df3dfe5152a16f1e</td>\n",
       "      <td>5</td>\n",
       "      <td>1</td>\n",
       "      <td>i really did not see any of what happened in t...</td>\n",
       "      <td>[really, see, happened, book, coming, beginnin...</td>\n",
       "      <td>really see happened book coming beginning end ...</td>\n",
       "      <td>really see happened book coming beginning end ...</td>\n",
       "    </tr>\n",
       "    <tr>\n",
       "      <th>1372411</th>\n",
       "      <td>c979f17afc966aec05933fbcd65c941e</td>\n",
       "      <td>5</td>\n",
       "      <td>1</td>\n",
       "      <td>best book out of the series! it was (one of) m...</td>\n",
       "      <td>[best, book, series, one, favorite, movie, wel...</td>\n",
       "      <td>best book series one favorite movie well expec...</td>\n",
       "      <td>best book series one favorite movie well expec...</td>\n",
       "    </tr>\n",
       "    <tr>\n",
       "      <th>1372854</th>\n",
       "      <td>0f52329fbd7afa66717148ba9dd4ac38</td>\n",
       "      <td>5</td>\n",
       "      <td>1</td>\n",
       "      <td>read (to greg) nov 2005</td>\n",
       "      <td>[read, greg, nov, 2005]</td>\n",
       "      <td>read greg nov 2005</td>\n",
       "      <td>read greg nov 2005</td>\n",
       "    </tr>\n",
       "    <tr>\n",
       "      <th>1377083</th>\n",
       "      <td>a8f8dd7892906b084a27dac976f773f8</td>\n",
       "      <td>5</td>\n",
       "      <td>1</td>\n",
       "      <td>(reread june 2016) still 5 stars!</td>\n",
       "      <td>[reread, june, 2016, still, star]</td>\n",
       "      <td>reread june 2016 still star</td>\n",
       "      <td>reread june 2016 still star</td>\n",
       "    </tr>\n",
       "    <tr>\n",
       "      <th>1377308</th>\n",
       "      <td>5ff0927d425ab1a70d2b2d41fe6b96b5</td>\n",
       "      <td>5</td>\n",
       "      <td>1</td>\n",
       "      <td>i'll make this review short. harry potter and ...</td>\n",
       "      <td>[make, review, short, harry, potter, half, blo...</td>\n",
       "      <td>make review short harry potter half blood prin...</td>\n",
       "      <td>make review short harry potter half blood prin...</td>\n",
       "    </tr>\n",
       "  </tbody>\n",
       "</table>\n",
       "<p>566 rows × 7 columns</p>\n",
       "</div>"
      ],
      "text/plain": [
       "                                  user_id  rating  book_id  \\\n",
       "901      4672eb229c808b792b8ea95f01f19784       5        1   \n",
       "1166     5f550cc8d90df1759eda1496621187d8       5        1   \n",
       "3027     d8c86e725d683042e9eec675f294d7d4       4        1   \n",
       "4408     90c53a2210f33ada709caa5aed0993c2       5        1   \n",
       "8315     c4f655f2ed79599a9259d7762313f3f3       2        1   \n",
       "...                                   ...     ...      ...   \n",
       "1371766  9de1dd255bb10211df3dfe5152a16f1e       5        1   \n",
       "1372411  c979f17afc966aec05933fbcd65c941e       5        1   \n",
       "1372854  0f52329fbd7afa66717148ba9dd4ac38       5        1   \n",
       "1377083  a8f8dd7892906b084a27dac976f773f8       5        1   \n",
       "1377308  5ff0927d425ab1a70d2b2d41fe6b96b5       5        1   \n",
       "\n",
       "                                          review_sentences  \\\n",
       "901           one of the best books in the series i think.   \n",
       "1166     it only gets better as the suspense builds in ...   \n",
       "3027     first of all, im in love with these books sinc...   \n",
       "4408     this book didn't disappoint me at all. i absol...   \n",
       "8315                                                 urgh.   \n",
       "...                                                    ...   \n",
       "1371766  i really did not see any of what happened in t...   \n",
       "1372411  best book out of the series! it was (one of) m...   \n",
       "1372854                            read (to greg) nov 2005   \n",
       "1377083                  (reread june 2016) still 5 stars!   \n",
       "1377308  i'll make this review short. harry potter and ...   \n",
       "\n",
       "                                               list_tokens  \\\n",
       "901                       [one, best, book, series, think]   \n",
       "1166     [get, better, suspense, build, terrific, myste...   \n",
       "3027     [first, love, book, since, year, old, got, fir...   \n",
       "4408     [book, disappoint, absolutely, love, charming,...   \n",
       "8315                                                [urgh]   \n",
       "...                                                    ...   \n",
       "1371766  [really, see, happened, book, coming, beginnin...   \n",
       "1372411  [best, book, series, one, favorite, movie, wel...   \n",
       "1372854                            [read, greg, nov, 2005]   \n",
       "1377083                  [reread, june, 2016, still, star]   \n",
       "1377308  [make, review, short, harry, potter, half, blo...   \n",
       "\n",
       "                                            string_tokens_  \\\n",
       "901                             one best book series think   \n",
       "1166     get better suspense build terrific mysterious ...   \n",
       "3027     first love book since year old got first book ...   \n",
       "4408     book disappoint absolutely love charming aspec...   \n",
       "8315                                                  urgh   \n",
       "...                                                    ...   \n",
       "1371766  really see happened book coming beginning end ...   \n",
       "1372411  best book series one favorite movie well expec...   \n",
       "1372854                                 read greg nov 2005   \n",
       "1377083                        reread june 2016 still star   \n",
       "1377308  make review short harry potter half blood prin...   \n",
       "\n",
       "                                             string_tokens  \n",
       "901                             one best book series think  \n",
       "1166     get better suspense build terrific mysterious ...  \n",
       "3027     first love book since year old got first book ...  \n",
       "4408     book disappoint absolutely love charming aspec...  \n",
       "8315                                                  urgh  \n",
       "...                                                    ...  \n",
       "1371766  really see happened book coming beginning end ...  \n",
       "1372411  best book series one favorite movie well expec...  \n",
       "1372854                                 read greg nov 2005  \n",
       "1377083                        reread june 2016 still star  \n",
       "1377308  make review short harry potter half blood prin...  \n",
       "\n",
       "[566 rows x 7 columns]"
      ]
     },
     "execution_count": 92,
     "metadata": {},
     "output_type": "execute_result"
    }
   ],
   "source": [
    "# Checkingto see that the per-book reviews for book_id 1 match\n",
    "# all the reviews for book_id 1 in the per-user per book gr_reviews_subset2 dataframe\n",
    "reviews_subset_nlp[reviews_subset_nlp['book_id']==1]"
   ]
  },
  {
   "cell_type": "code",
   "execution_count": 93,
   "id": "3aa2b092",
   "metadata": {},
   "outputs": [],
   "source": [
    "# Saving off the per-book reviews\n",
    "reviews_per_book.to_csv('data/gr_reviews_per_book.csv')\n"
   ]
  },
  {
   "cell_type": "code",
   "execution_count": null,
   "id": "b196c128",
   "metadata": {},
   "outputs": [],
   "source": []
  },
  {
   "cell_type": "code",
   "execution_count": null,
   "id": "66eaae4f",
   "metadata": {},
   "outputs": [],
   "source": []
  },
  {
   "cell_type": "markdown",
   "id": "37266830-3dbe-4be0-a3cf-5c67bef93877",
   "metadata": {},
   "source": []
  }
 ],
 "metadata": {
  "kernelspec": {
   "display_name": "capstone",
   "language": "python",
   "name": "python3"
  },
  "language_info": {
   "codemirror_mode": {
    "name": "ipython",
    "version": 3
   },
   "file_extension": ".py",
   "mimetype": "text/x-python",
   "name": "python",
   "nbconvert_exporter": "python",
   "pygments_lexer": "ipython3",
   "version": "3.11.7"
  }
 },
 "nbformat": 4,
 "nbformat_minor": 5
}
