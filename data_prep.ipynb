{
 "cells": [
  {
   "cell_type": "markdown",
   "id": "85fdafd0-2d6e-4862-aaad-127535a163a6",
   "metadata": {},
   "source": [
    "# GoodReads Recommendations Data Preparation"
   ]
  },
  {
   "cell_type": "markdown",
   "id": "8b7e2870-c688-4189-9991-532202db1063",
   "metadata": {},
   "source": [
    "## Table of Contents\n",
    "\n",
    "1. Background\n",
    "2. Business Understanding\n",
    "3. Data Understanding\n",
    "4. Data Preparation"
   ]
  },
  {
   "cell_type": "code",
   "execution_count": 1,
   "id": "ca988e8b-a386-4df4-897c-f895c531ad80",
   "metadata": {},
   "outputs": [],
   "source": [
    "# Imports\n",
    "import numpy as np\n",
    "import pandas as pd\n",
    "import matplotlib as plt\n",
    "%matplotlib inline"
   ]
  },
  {
   "cell_type": "markdown",
   "id": "b36380bf-1222-4811-bdd6-b123908eb68c",
   "metadata": {},
   "source": [
    "## 1. Background"
   ]
  },
  {
   "cell_type": "code",
   "execution_count": null,
   "id": "c8259963-41ae-4d31-b3a6-0f3c1b4b3077",
   "metadata": {},
   "outputs": [],
   "source": []
  },
  {
   "cell_type": "markdown",
   "id": "b7af8b00-2e2d-4c4e-995a-67d0fd8d388c",
   "metadata": {},
   "source": [
    "## 2. Business Understanding"
   ]
  },
  {
   "cell_type": "code",
   "execution_count": null,
   "id": "7f517c03-d194-46aa-8599-ca3ec4a5fa4e",
   "metadata": {},
   "outputs": [],
   "source": []
  },
  {
   "cell_type": "markdown",
   "id": "689f5d6a-c73f-4c46-b02e-d06016057cc4",
   "metadata": {},
   "source": [
    "## 3. Data Understanding"
   ]
  },
  {
   "cell_type": "code",
   "execution_count": null,
   "id": "12dd6fb5-86ae-41a0-acdd-ebe1cecb2472",
   "metadata": {},
   "outputs": [],
   "source": []
  },
  {
   "cell_type": "markdown",
   "id": "3fc084e7-4d51-4ef8-ba9a-758f80c443cf",
   "metadata": {},
   "source": [
    "## 4. Data Preparation"
   ]
  },
  {
   "cell_type": "markdown",
   "id": "28c46e7c-0770-4f1b-883e-bf04ab14b8cf",
   "metadata": {},
   "source": [
    "Note that the three datasets are quite large, so they'll take some time to run."
   ]
  },
  {
   "cell_type": "markdown",
   "id": "f7eafe5a-3f9c-4ca5-b6fa-71a1eab4ced7",
   "metadata": {},
   "source": [
    "### Users' Review Data"
   ]
  },
  {
   "cell_type": "markdown",
   "id": "d929aa29-9b60-45af-862e-e9d550a6817e",
   "metadata": {},
   "source": [
    "Here we want to end up with: rating, user id, book id, the review text for each user per book"
   ]
  },
  {
   "cell_type": "markdown",
   "id": "1ba9c502-ccf2-465d-ad7d-3cf665e7fd8e",
   "metadata": {},
   "source": [
    "### Genre Data"
   ]
  },
  {
   "cell_type": "markdown",
   "id": "e18f7ef0-c622-425c-be6b-bdad631c8c51",
   "metadata": {},
   "source": [
    "We want to add this genre data to the books metadata"
   ]
  },
  {
   "cell_type": "code",
   "execution_count": null,
   "id": "3d0dc4b8-51bb-406e-9dbe-36e67ddaf6ce",
   "metadata": {},
   "outputs": [],
   "source": [
    "genres.info()"
   ]
  },
  {
   "cell_type": "code",
   "execution_count": null,
   "id": "184ab4f9-e1cd-469f-bdc7-6dcaa74682dc",
   "metadata": {},
   "outputs": [],
   "source": [
    "genres.head()"
   ]
  },
  {
   "cell_type": "markdown",
   "id": "34144a3e-f241-4eee-9501-37b0bef6360e",
   "metadata": {},
   "source": [
    "### Books Meta Data"
   ]
  },
  {
   "cell_type": "markdown",
   "id": "f90379a0-9656-4ec2-b3e5-1da720083b31",
   "metadata": {},
   "source": [
    "We want one row per book"
   ]
  },
  {
   "cell_type": "code",
   "execution_count": null,
   "id": "d97781d5-cfd6-43c2-bcf1-bf6a1efb519c",
   "metadata": {},
   "outputs": [],
   "source": [
    "books.info()"
   ]
  },
  {
   "cell_type": "code",
   "execution_count": null,
   "id": "3b2bbc70-f518-48ee-8eb4-2563bded3c5b",
   "metadata": {},
   "outputs": [],
   "source": [
    "books.head()"
   ]
  },
  {
   "cell_type": "markdown",
   "id": "37266830-3dbe-4be0-a3cf-5c67bef93877",
   "metadata": {},
   "source": []
  }
 ],
 "metadata": {
  "kernelspec": {
   "display_name": "capstone",
   "language": "python",
   "name": "capstone"
  },
  "language_info": {
   "codemirror_mode": {
    "name": "ipython",
    "version": 3
   },
   "file_extension": ".py",
   "mimetype": "text/x-python",
   "name": "python",
   "nbconvert_exporter": "python",
   "pygments_lexer": "ipython3",
   "version": "3.11.7"
  }
 },
 "nbformat": 4,
 "nbformat_minor": 5
}
