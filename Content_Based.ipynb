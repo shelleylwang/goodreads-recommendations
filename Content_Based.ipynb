{
 "cells": [
  {
   "cell_type": "markdown",
   "id": "6b4adbff",
   "metadata": {},
   "source": [
    "# Content-Based Filtering Recommender System\n",
    "\n",
    "## Table of Contents\n",
    "1. Loading in Data\n",
    "2. Scaling Columns\n",
    "3. One-Hot Encoding Genres\n",
    "4. NLP Pre-Processing\n",
    "5. TF-IDF Vectorization\n",
    "6. Recommendation Function\n",
    "\n",
    "*Please note that essential project background regarding the business question and data sources are in the introduction of the data preparation notebook\n"
   ]
  },
  {
   "cell_type": "code",
   "execution_count": 2,
   "id": "3cbee158-7416-4fca-9d83-8caac8d6aa63",
   "metadata": {},
   "outputs": [],
   "source": [
    "# Imports\n",
    "import pandas as pd\n",
    "import numpy as np\n",
    "import matplotlib.pyplot as plt\n",
    "from nltk.probability import FreqDist\n",
    "from nltk.corpus import stopwords\n",
    "from nltk.tokenize import regexp_tokenize, RegexpTokenizer\n",
    "from nltk.stem import WordNetLemmatizer\n",
    "\n",
    "# from scipy.sparse import csr_matrix\n",
    "from sklearn.feature_extraction.text import TfidfVectorizer, CountVectorizer\n",
    "from sklearn.metrics.pairwise import cosine_similarity\n",
    "from sklearn.preprocessing import MinMaxScaler\n",
    "from sklearn.neighbors import NearestNeighbors"
   ]
  },
  {
   "cell_type": "markdown",
   "id": "d8a62da6-0e69-4f2d-8842-083c9a0fb22e",
   "metadata": {},
   "source": [
    "## 1. Loading in Data"
   ]
  },
  {
   "cell_type": "markdown",
   "id": "98e52f1d",
   "metadata": {},
   "source": [
    "I'll be using two datasets: the reviews dataset created in **section 4.c. of my Data_Preparation Notebook** and the metadata dataset created in **section 4.a.** of said notebook. The former will be for creating the recommender system, and the latter is for receiving user input and returning recommendations."
   ]
  },
  {
   "cell_type": "code",
   "execution_count": 3,
   "id": "2df42fce-ce9a-4440-ac03-b60c752ce1e6",
   "metadata": {},
   "outputs": [
    {
     "ename": "TimeoutError",
     "evalue": "[Errno 60] Operation timed out",
     "output_type": "error",
     "traceback": [
      "\u001b[0;31m---------------------------------------------------------------------------\u001b[0m",
      "\u001b[0;31mTimeoutError\u001b[0m                              Traceback (most recent call last)",
      "Cell \u001b[0;32mIn[3], line 4\u001b[0m\n\u001b[1;32m      1\u001b[0m \u001b[38;5;66;03m# Loading in data\u001b[39;00m\n\u001b[1;32m      2\u001b[0m \u001b[38;5;66;03m# This took about 4 mins\u001b[39;00m\n\u001b[1;32m      3\u001b[0m \u001b[38;5;66;03m# reviews = pd.read_csv('data/gr_reviews_per_book.csv', index_col='book_id')\u001b[39;00m\n\u001b[0;32m----> 4\u001b[0m metadata \u001b[38;5;241m=\u001b[39m pd\u001b[38;5;241m.\u001b[39mread_csv(\u001b[38;5;124m'\u001b[39m\u001b[38;5;124mdata/metadata.csv\u001b[39m\u001b[38;5;124m'\u001b[39m, index_col\u001b[38;5;241m=\u001b[39m\u001b[38;5;124m'\u001b[39m\u001b[38;5;124mbook_id\u001b[39m\u001b[38;5;124m'\u001b[39m)\n",
      "File \u001b[0;32m~/miniconda3/envs/capstone/lib/python3.11/site-packages/pandas/io/parsers/readers.py:948\u001b[0m, in \u001b[0;36mread_csv\u001b[0;34m(filepath_or_buffer, sep, delimiter, header, names, index_col, usecols, dtype, engine, converters, true_values, false_values, skipinitialspace, skiprows, skipfooter, nrows, na_values, keep_default_na, na_filter, verbose, skip_blank_lines, parse_dates, infer_datetime_format, keep_date_col, date_parser, date_format, dayfirst, cache_dates, iterator, chunksize, compression, thousands, decimal, lineterminator, quotechar, quoting, doublequote, escapechar, comment, encoding, encoding_errors, dialect, on_bad_lines, delim_whitespace, low_memory, memory_map, float_precision, storage_options, dtype_backend)\u001b[0m\n\u001b[1;32m    935\u001b[0m kwds_defaults \u001b[38;5;241m=\u001b[39m _refine_defaults_read(\n\u001b[1;32m    936\u001b[0m     dialect,\n\u001b[1;32m    937\u001b[0m     delimiter,\n\u001b[0;32m   (...)\u001b[0m\n\u001b[1;32m    944\u001b[0m     dtype_backend\u001b[38;5;241m=\u001b[39mdtype_backend,\n\u001b[1;32m    945\u001b[0m )\n\u001b[1;32m    946\u001b[0m kwds\u001b[38;5;241m.\u001b[39mupdate(kwds_defaults)\n\u001b[0;32m--> 948\u001b[0m \u001b[38;5;28;01mreturn\u001b[39;00m _read(filepath_or_buffer, kwds)\n",
      "File \u001b[0;32m~/miniconda3/envs/capstone/lib/python3.11/site-packages/pandas/io/parsers/readers.py:611\u001b[0m, in \u001b[0;36m_read\u001b[0;34m(filepath_or_buffer, kwds)\u001b[0m\n\u001b[1;32m    608\u001b[0m _validate_names(kwds\u001b[38;5;241m.\u001b[39mget(\u001b[38;5;124m\"\u001b[39m\u001b[38;5;124mnames\u001b[39m\u001b[38;5;124m\"\u001b[39m, \u001b[38;5;28;01mNone\u001b[39;00m))\n\u001b[1;32m    610\u001b[0m \u001b[38;5;66;03m# Create the parser.\u001b[39;00m\n\u001b[0;32m--> 611\u001b[0m parser \u001b[38;5;241m=\u001b[39m TextFileReader(filepath_or_buffer, \u001b[38;5;241m*\u001b[39m\u001b[38;5;241m*\u001b[39mkwds)\n\u001b[1;32m    613\u001b[0m \u001b[38;5;28;01mif\u001b[39;00m chunksize \u001b[38;5;129;01mor\u001b[39;00m iterator:\n\u001b[1;32m    614\u001b[0m     \u001b[38;5;28;01mreturn\u001b[39;00m parser\n",
      "File \u001b[0;32m~/miniconda3/envs/capstone/lib/python3.11/site-packages/pandas/io/parsers/readers.py:1448\u001b[0m, in \u001b[0;36mTextFileReader.__init__\u001b[0;34m(self, f, engine, **kwds)\u001b[0m\n\u001b[1;32m   1445\u001b[0m     \u001b[38;5;28mself\u001b[39m\u001b[38;5;241m.\u001b[39moptions[\u001b[38;5;124m\"\u001b[39m\u001b[38;5;124mhas_index_names\u001b[39m\u001b[38;5;124m\"\u001b[39m] \u001b[38;5;241m=\u001b[39m kwds[\u001b[38;5;124m\"\u001b[39m\u001b[38;5;124mhas_index_names\u001b[39m\u001b[38;5;124m\"\u001b[39m]\n\u001b[1;32m   1447\u001b[0m \u001b[38;5;28mself\u001b[39m\u001b[38;5;241m.\u001b[39mhandles: IOHandles \u001b[38;5;241m|\u001b[39m \u001b[38;5;28;01mNone\u001b[39;00m \u001b[38;5;241m=\u001b[39m \u001b[38;5;28;01mNone\u001b[39;00m\n\u001b[0;32m-> 1448\u001b[0m \u001b[38;5;28mself\u001b[39m\u001b[38;5;241m.\u001b[39m_engine \u001b[38;5;241m=\u001b[39m \u001b[38;5;28mself\u001b[39m\u001b[38;5;241m.\u001b[39m_make_engine(f, \u001b[38;5;28mself\u001b[39m\u001b[38;5;241m.\u001b[39mengine)\n",
      "File \u001b[0;32m~/miniconda3/envs/capstone/lib/python3.11/site-packages/pandas/io/parsers/readers.py:1723\u001b[0m, in \u001b[0;36mTextFileReader._make_engine\u001b[0;34m(self, f, engine)\u001b[0m\n\u001b[1;32m   1720\u001b[0m     \u001b[38;5;28;01mraise\u001b[39;00m \u001b[38;5;167;01mValueError\u001b[39;00m(msg)\n\u001b[1;32m   1722\u001b[0m \u001b[38;5;28;01mtry\u001b[39;00m:\n\u001b[0;32m-> 1723\u001b[0m     \u001b[38;5;28;01mreturn\u001b[39;00m mapping[engine](f, \u001b[38;5;241m*\u001b[39m\u001b[38;5;241m*\u001b[39m\u001b[38;5;28mself\u001b[39m\u001b[38;5;241m.\u001b[39moptions)\n\u001b[1;32m   1724\u001b[0m \u001b[38;5;28;01mexcept\u001b[39;00m \u001b[38;5;167;01mException\u001b[39;00m:\n\u001b[1;32m   1725\u001b[0m     \u001b[38;5;28;01mif\u001b[39;00m \u001b[38;5;28mself\u001b[39m\u001b[38;5;241m.\u001b[39mhandles \u001b[38;5;129;01mis\u001b[39;00m \u001b[38;5;129;01mnot\u001b[39;00m \u001b[38;5;28;01mNone\u001b[39;00m:\n",
      "File \u001b[0;32m~/miniconda3/envs/capstone/lib/python3.11/site-packages/pandas/io/parsers/c_parser_wrapper.py:93\u001b[0m, in \u001b[0;36mCParserWrapper.__init__\u001b[0;34m(self, src, **kwds)\u001b[0m\n\u001b[1;32m     90\u001b[0m \u001b[38;5;28;01mif\u001b[39;00m kwds[\u001b[38;5;124m\"\u001b[39m\u001b[38;5;124mdtype_backend\u001b[39m\u001b[38;5;124m\"\u001b[39m] \u001b[38;5;241m==\u001b[39m \u001b[38;5;124m\"\u001b[39m\u001b[38;5;124mpyarrow\u001b[39m\u001b[38;5;124m\"\u001b[39m:\n\u001b[1;32m     91\u001b[0m     \u001b[38;5;66;03m# Fail here loudly instead of in cython after reading\u001b[39;00m\n\u001b[1;32m     92\u001b[0m     import_optional_dependency(\u001b[38;5;124m\"\u001b[39m\u001b[38;5;124mpyarrow\u001b[39m\u001b[38;5;124m\"\u001b[39m)\n\u001b[0;32m---> 93\u001b[0m \u001b[38;5;28mself\u001b[39m\u001b[38;5;241m.\u001b[39m_reader \u001b[38;5;241m=\u001b[39m parsers\u001b[38;5;241m.\u001b[39mTextReader(src, \u001b[38;5;241m*\u001b[39m\u001b[38;5;241m*\u001b[39mkwds)\n\u001b[1;32m     95\u001b[0m \u001b[38;5;28mself\u001b[39m\u001b[38;5;241m.\u001b[39munnamed_cols \u001b[38;5;241m=\u001b[39m \u001b[38;5;28mself\u001b[39m\u001b[38;5;241m.\u001b[39m_reader\u001b[38;5;241m.\u001b[39munnamed_cols\n\u001b[1;32m     97\u001b[0m \u001b[38;5;66;03m# error: Cannot determine type of 'names'\u001b[39;00m\n",
      "File \u001b[0;32mparsers.pyx:579\u001b[0m, in \u001b[0;36mpandas._libs.parsers.TextReader.__cinit__\u001b[0;34m()\u001b[0m\n",
      "File \u001b[0;32mparsers.pyx:668\u001b[0m, in \u001b[0;36mpandas._libs.parsers.TextReader._get_header\u001b[0;34m()\u001b[0m\n",
      "File \u001b[0;32mparsers.pyx:879\u001b[0m, in \u001b[0;36mpandas._libs.parsers.TextReader._tokenize_rows\u001b[0;34m()\u001b[0m\n",
      "File \u001b[0;32mparsers.pyx:890\u001b[0m, in \u001b[0;36mpandas._libs.parsers.TextReader._check_tokenize_status\u001b[0;34m()\u001b[0m\n",
      "File \u001b[0;32mparsers.pyx:2050\u001b[0m, in \u001b[0;36mpandas._libs.parsers.raise_parser_error\u001b[0;34m()\u001b[0m\n",
      "\u001b[0;31mTimeoutError\u001b[0m: [Errno 60] Operation timed out"
     ]
    }
   ],
   "source": [
    "# Loading in data\n",
    "# This took about 4 mins\n",
    "reviews = pd.read_csv('data/gr_reviews_per_book.csv', index_col='book_id')\n",
    "metadata = pd.read_csv('data/metadata.csv', index_col='book_id')"
   ]
  },
  {
   "cell_type": "code",
   "execution_count": 5,
   "id": "e5a46832",
   "metadata": {},
   "outputs": [
    {
     "name": "stdout",
     "output_type": "stream",
     "text": [
      "<class 'pandas.core.frame.DataFrame'>\n",
      "Index: 1683101 entries, 1333909 to 22017381\n",
      "Data columns (total 6 columns):\n",
      " #   Column            Non-Null Count    Dtype  \n",
      "---  ------            --------------    -----  \n",
      " 0   average_rating    1683101 non-null  float64\n",
      " 1   link              1683101 non-null  object \n",
      " 2   num_pages         1683101 non-null  float64\n",
      " 3   ratings_count     1683101 non-null  float64\n",
      " 4   top_genre         1683101 non-null  object \n",
      " 5   reviews_and_desc  1683101 non-null  object \n",
      "dtypes: float64(3), object(3)\n",
      "memory usage: 89.9+ MB\n"
     ]
    }
   ],
   "source": [
    "reviews.info()"
   ]
  },
  {
   "cell_type": "code",
   "execution_count": 6,
   "id": "a7248ce4",
   "metadata": {},
   "outputs": [
    {
     "data": {
      "text/html": [
       "<div>\n",
       "<style scoped>\n",
       "    .dataframe tbody tr th:only-of-type {\n",
       "        vertical-align: middle;\n",
       "    }\n",
       "\n",
       "    .dataframe tbody tr th {\n",
       "        vertical-align: top;\n",
       "    }\n",
       "\n",
       "    .dataframe thead th {\n",
       "        text-align: right;\n",
       "    }\n",
       "</style>\n",
       "<table border=\"1\" class=\"dataframe\">\n",
       "  <thead>\n",
       "    <tr style=\"text-align: right;\">\n",
       "      <th></th>\n",
       "      <th>average_rating</th>\n",
       "      <th>link</th>\n",
       "      <th>num_pages</th>\n",
       "      <th>ratings_count</th>\n",
       "      <th>top_genre</th>\n",
       "      <th>reviews_and_desc</th>\n",
       "    </tr>\n",
       "    <tr>\n",
       "      <th>book_id</th>\n",
       "      <th></th>\n",
       "      <th></th>\n",
       "      <th></th>\n",
       "      <th></th>\n",
       "      <th></th>\n",
       "      <th></th>\n",
       "    </tr>\n",
       "  </thead>\n",
       "  <tbody>\n",
       "    <tr>\n",
       "      <th>1333909</th>\n",
       "      <td>3.23</td>\n",
       "      <td>https://www.goodreads.com/book/show/1333909.Go...</td>\n",
       "      <td>280.0</td>\n",
       "      <td>10.0</td>\n",
       "      <td>fiction</td>\n",
       "      <td>Anita Diamant's international bestseller \"The ...</td>\n",
       "    </tr>\n",
       "    <tr>\n",
       "      <th>7327624</th>\n",
       "      <td>4.03</td>\n",
       "      <td>https://www.goodreads.com/book/show/7327624-th...</td>\n",
       "      <td>600.0</td>\n",
       "      <td>140.0</td>\n",
       "      <td>fantasy, paranormal</td>\n",
       "      <td>Omnibus book club edition containing the Ladie...</td>\n",
       "    </tr>\n",
       "    <tr>\n",
       "      <th>6066819</th>\n",
       "      <td>3.49</td>\n",
       "      <td>https://www.goodreads.com/book/show/6066819-be...</td>\n",
       "      <td>368.0</td>\n",
       "      <td>51184.0</td>\n",
       "      <td>fiction</td>\n",
       "      <td>Addie Downs and Valerie Adler were eight when ...</td>\n",
       "    </tr>\n",
       "    <tr>\n",
       "      <th>287141</th>\n",
       "      <td>4.13</td>\n",
       "      <td>https://www.goodreads.com/book/show/287141.The...</td>\n",
       "      <td>162.0</td>\n",
       "      <td>46.0</td>\n",
       "      <td>history, historical fiction, biography</td>\n",
       "      <td>Relates in vigorous prose the tale of Aeneas, ...</td>\n",
       "    </tr>\n",
       "    <tr>\n",
       "      <th>6066812</th>\n",
       "      <td>4.22</td>\n",
       "      <td>https://www.goodreads.com/book/show/6066812-al...</td>\n",
       "      <td>216.0</td>\n",
       "      <td>98.0</td>\n",
       "      <td>fantasy, paranormal</td>\n",
       "      <td>To Kara's astonishment, she discovers that a p...</td>\n",
       "    </tr>\n",
       "  </tbody>\n",
       "</table>\n",
       "</div>"
      ],
      "text/plain": [
       "         average_rating                                               link  \\\n",
       "book_id                                                                      \n",
       "1333909            3.23  https://www.goodreads.com/book/show/1333909.Go...   \n",
       "7327624            4.03  https://www.goodreads.com/book/show/7327624-th...   \n",
       "6066819            3.49  https://www.goodreads.com/book/show/6066819-be...   \n",
       "287141             4.13  https://www.goodreads.com/book/show/287141.The...   \n",
       "6066812            4.22  https://www.goodreads.com/book/show/6066812-al...   \n",
       "\n",
       "         num_pages  ratings_count                               top_genre  \\\n",
       "book_id                                                                     \n",
       "1333909      280.0           10.0                                 fiction   \n",
       "7327624      600.0          140.0                     fantasy, paranormal   \n",
       "6066819      368.0        51184.0                                 fiction   \n",
       "287141       162.0           46.0  history, historical fiction, biography   \n",
       "6066812      216.0           98.0                     fantasy, paranormal   \n",
       "\n",
       "                                          reviews_and_desc  \n",
       "book_id                                                     \n",
       "1333909  Anita Diamant's international bestseller \"The ...  \n",
       "7327624  Omnibus book club edition containing the Ladie...  \n",
       "6066819  Addie Downs and Valerie Adler were eight when ...  \n",
       "287141   Relates in vigorous prose the tale of Aeneas, ...  \n",
       "6066812  To Kara's astonishment, she discovers that a p...  "
      ]
     },
     "execution_count": 6,
     "metadata": {},
     "output_type": "execute_result"
    }
   ],
   "source": [
    "reviews.head()"
   ]
  },
  {
   "cell_type": "markdown",
   "id": "4cb10bb6",
   "metadata": {},
   "source": [
    "## 2. Scaling Columns"
   ]
  },
  {
   "cell_type": "markdown",
   "id": "feee3481",
   "metadata": {},
   "source": [
    "Normalization is a preprocessing method that transforms the values of features into a set range. In this case, I will use the MinMaxScaler from sklearn to put feature values into a range from 0 to 1. By standardizing a feature's allowable range of values, I avoid letting features with larger scales impart undue influence on the model's performance. If I didn't scale my features, naturally larger features such as 'num_pages' (which ranges in the hundreds) would be more dominant in the model than smaller features like 'average_rating', which tops out at 5. \n",
    "\n",
    "First I need to see if my numerical columns have any outliers/non-normal distributions."
   ]
  },
  {
   "cell_type": "code",
   "execution_count": 6,
   "id": "bb203f97",
   "metadata": {},
   "outputs": [
    {
     "data": {
      "text/html": [
       "<div>\n",
       "<style scoped>\n",
       "    .dataframe tbody tr th:only-of-type {\n",
       "        vertical-align: middle;\n",
       "    }\n",
       "\n",
       "    .dataframe tbody tr th {\n",
       "        vertical-align: top;\n",
       "    }\n",
       "\n",
       "    .dataframe thead th {\n",
       "        text-align: right;\n",
       "    }\n",
       "</style>\n",
       "<table border=\"1\" class=\"dataframe\">\n",
       "  <thead>\n",
       "    <tr style=\"text-align: right;\">\n",
       "      <th></th>\n",
       "      <th>average_rating</th>\n",
       "      <th>num_pages</th>\n",
       "      <th>ratings_count</th>\n",
       "    </tr>\n",
       "  </thead>\n",
       "  <tbody>\n",
       "    <tr>\n",
       "      <th>count</th>\n",
       "      <td>1.683101e+06</td>\n",
       "      <td>1.683101e+06</td>\n",
       "      <td>1.683101e+06</td>\n",
       "    </tr>\n",
       "    <tr>\n",
       "      <th>mean</th>\n",
       "      <td>3.876321e+00</td>\n",
       "      <td>2.703536e+02</td>\n",
       "      <td>5.480466e+02</td>\n",
       "    </tr>\n",
       "    <tr>\n",
       "      <th>std</th>\n",
       "      <td>4.048658e-01</td>\n",
       "      <td>7.557522e+02</td>\n",
       "      <td>1.316869e+04</td>\n",
       "    </tr>\n",
       "    <tr>\n",
       "      <th>min</th>\n",
       "      <td>0.000000e+00</td>\n",
       "      <td>0.000000e+00</td>\n",
       "      <td>0.000000e+00</td>\n",
       "    </tr>\n",
       "    <tr>\n",
       "      <th>25%</th>\n",
       "      <td>3.660000e+00</td>\n",
       "      <td>1.900000e+02</td>\n",
       "      <td>1.000000e+01</td>\n",
       "    </tr>\n",
       "    <tr>\n",
       "      <th>50%</th>\n",
       "      <td>3.900000e+00</td>\n",
       "      <td>2.660000e+02</td>\n",
       "      <td>3.100000e+01</td>\n",
       "    </tr>\n",
       "    <tr>\n",
       "      <th>75%</th>\n",
       "      <td>4.130000e+00</td>\n",
       "      <td>3.200000e+02</td>\n",
       "      <td>1.100000e+02</td>\n",
       "    </tr>\n",
       "    <tr>\n",
       "      <th>max</th>\n",
       "      <td>5.000000e+00</td>\n",
       "      <td>9.450770e+05</td>\n",
       "      <td>4.899965e+06</td>\n",
       "    </tr>\n",
       "  </tbody>\n",
       "</table>\n",
       "</div>"
      ],
      "text/plain": [
       "       average_rating     num_pages  ratings_count\n",
       "count    1.683101e+06  1.683101e+06   1.683101e+06\n",
       "mean     3.876321e+00  2.703536e+02   5.480466e+02\n",
       "std      4.048658e-01  7.557522e+02   1.316869e+04\n",
       "min      0.000000e+00  0.000000e+00   0.000000e+00\n",
       "25%      3.660000e+00  1.900000e+02   1.000000e+01\n",
       "50%      3.900000e+00  2.660000e+02   3.100000e+01\n",
       "75%      4.130000e+00  3.200000e+02   1.100000e+02\n",
       "max      5.000000e+00  9.450770e+05   4.899965e+06"
      ]
     },
     "execution_count": 6,
     "metadata": {},
     "output_type": "execute_result"
    }
   ],
   "source": [
    "reviews.describe()"
   ]
  },
  {
   "cell_type": "code",
   "execution_count": 23,
   "id": "e7c201f6",
   "metadata": {},
   "outputs": [
    {
     "data": {
      "image/png": "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